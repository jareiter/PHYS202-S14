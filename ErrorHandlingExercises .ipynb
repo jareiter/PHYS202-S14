{
 "metadata": {
  "name": "",
  "signature": "sha256:000e972c043056e7c33956ca0b3928cd86ccd5f18ddec749bffbaac5f92d914e"
 },
 "nbformat": 3,
 "nbformat_minor": 0,
 "worksheets": [
  {
   "cells": [
    {
     "cell_type": "heading",
     "level": 1,
     "metadata": {},
     "source": [
      "Error Handling Exercises"
     ]
    },
    {
     "cell_type": "code",
     "collapsed": false,
     "input": [
      "%pylab inline"
     ],
     "language": "python",
     "metadata": {},
     "outputs": [
      {
       "output_type": "stream",
       "stream": "stdout",
       "text": [
        "Populating the interactive namespace from numpy and matplotlib\n"
       ]
      }
     ],
     "prompt_number": 1
    },
    {
     "cell_type": "markdown",
     "metadata": {},
     "source": [
      "1.Find a partner. Choose a driver and a navigator. The driver should copy their Battleship code to a cell in the driver's ErrorHandlingExercises notebook. The driver should explain to the navigator the basics of how their program works. Work together to add some error handling to the program. Include a markdown cell identifying the driver and navigator. When you are done, switch roles and let the navigator be the driver and vice versa. At the end you should both have a Battleship program that includes some error handling."
     ]
    },
    {
     "cell_type": "code",
     "collapsed": false,
     "input": [
      "from random import randint\n",
      "from ipythonblocks import BlockGrid\n",
      "from numpy import size\n",
      "from numpy import ones\n",
      "from sys import exit\n",
      "\n",
      "grid = BlockGrid(30, 30, fill=(0, 255, 255))\n",
      "grid.show()\n",
      "\n",
      "print \"Let's play Battleship!\"\n",
      "\n",
      "l = randint(0,3)\n",
      "orientation = randint(0,2)\n",
      "def random_row(grid):\n",
      "    return randint(0, grid.height - 4)\n",
      "\n",
      "def random_col(grid):\n",
      "    return randint(0, grid.width - 4)\n",
      "\n",
      "a = random_row(grid)\n",
      "b = random_col(grid)\n",
      "\n",
      "print orientation\n",
      "\n",
      "if orientation == 0:\n",
      "    ship_row = range(a,a+randint(1,4))\n",
      "    ship_col = range(b,b+randint(1,4))\n",
      "    try:\n",
      "        c = range(size(ship_row))\n",
      "    except:\n",
      "        print \"error in determining size of the ship\"\n",
      "\n",
      "elif orientation == 1:\n",
      "    ship_row = range(a,a+randint(1,4))\n",
      "    ship_col = b\n",
      "    try:\n",
      "        c = range(size(ship_row))\n",
      "    except:\n",
      "        print \"error in determining size of the ship\"\n",
      "\n",
      "else:\n",
      "    ship_col = range(b,b+randint(1,4))\n",
      "    ship_row = a\n",
      "    try:\n",
      "        c = range(size(ship_row))\n",
      "    except:\n",
      "        print \"error in determining size of the ship\"\n",
      "\n",
      "print c\n",
      "turn_total = int(raw_input(\"How many guesses would you like? \"))\n",
      "turn = 0\n",
      "for turn in range(turn_total):\n",
      "    print \"Turn\", turn + 1\n",
      "    guess_row = int(raw_input(\"Guess Row:\"))\n",
      "    guess_col = int(raw_input(\"Guess Col:\"))\n",
      "    \n",
      "    if orientation == 0:\n",
      "        for row in ship_row:\n",
      "            for col in ship_col:\n",
      "                if guess_row == row and guess_col == col:\n",
      "                    print \"Congratulations! You sunk my battleship!\"\n",
      "                    for i in c:\n",
      "                        grid[ship_row[i],ship_col[i]] = (0,0,0)\n",
      "                    grid[guess_row,guess_col] = (255,0,0)\n",
      "                    grid.show()\n",
      "                    exit(0)\n",
      "\n",
      "        if (guess_row < 0 or guess_row > 29) or (guess_col < 0 or guess_col > 29):\n",
      "            print \"Oops, that's not even in the ocean.\"\n",
      "        elif(grid[guess_row,guess_col] == (225,225,0)):\n",
      "            print \"You guessed that one already.\"          \n",
      "        else:\n",
      "            print \"You missed my battleship!\"\n",
      "            grid[guess_row,guess_col] = (255,255,0)\n",
      "            grid.show()\n",
      "            if turn == turn_total-1:\n",
      "                print \"Game Over. Check out the location of the Battleship\"\n",
      "                for i in c:\n",
      "                    grid[ship_row[i],ship_col[i]] = (0,0,0)\n",
      "                grid.show()\n",
      "                                \n",
      "    elif orientation == 1:\n",
      "        for row in ship_row:\n",
      "            if guess_row == row and guess_col == ship_col:\n",
      "                print \"Congratulations! You sunk my battleship!\"\n",
      "                for i in c:\n",
      "                    grid[ship_row[i],ship_col] = (0,0,0)\n",
      "                grid[guess_row,guess_col] = (255,0,0)\n",
      "                grid.show()\n",
      "                exit(0)\n",
      "\n",
      "        if (guess_row < 0 or guess_row > 29) or (guess_col < 0 or guess_col > 29):\n",
      "            print \"Oops, that's not even in the ocean.\"\n",
      "        elif(grid[guess_row,guess_col] == (225,225,0)):\n",
      "            print \"You guessed that one already.\"          \n",
      "        else:\n",
      "            print \"You missed my battleship!\"\n",
      "            grid[guess_row,guess_col] = (255,255,0)\n",
      "            grid.show()\n",
      "            if turn == turn_total-1:\n",
      "                print \"Game Over. Check out the location of the Battleship\"\n",
      "                for i in c:\n",
      "                    grid[ship_row[i],ship_col] = (0,0,0)\n",
      "                grid.show()\n",
      "                        \n",
      "    elif orientation == 2:\n",
      "        for col in ship_col:\n",
      "            if guess_row == ship_row and guess_col == col:\n",
      "                print \"Congratulations! You sunk my battleship!\"\n",
      "                for i in c:\n",
      "                    grid[ship_row,ship_col[i]] = (0,0,0)\n",
      "                grid[guess_row,guess_col] = (255,0,0)\n",
      "                grid.show()\n",
      "                exit(0)\n",
      "\n",
      "        if (guess_row < 0 or guess_row > 29) or (guess_col < 0 or guess_col > 29):\n",
      "            print \"Oops, that's not even in the ocean.\"\n",
      "        elif(grid[guess_row,guess_col] == (225,225,0)):\n",
      "            print \"You guessed that one already.\"          \n",
      "        else:\n",
      "            print \"You missed my battleship!\"\n",
      "            grid[guess_row,guess_col] = (255,255,0)\n",
      "            grid.show()\n",
      "            if turn == turn_total-1:\n",
      "                print \"Game Over. Check out the location of the Battleship\"\n",
      "                for i in c:\n",
      "                    grid[ship_row,ship_col[i]] = (0,0,0)\n",
      "                grid.show()\n",
      "                        "
     ],
     "language": "python",
     "metadata": {},
     "outputs": []
    },
    {
     "cell_type": "markdown",
     "metadata": {},
     "source": [
      "2.Here is a function which takes a filename, opens the file, reads the result, closes the file, and returns the contents. It should look something like this:"
     ]
    },
    {
     "cell_type": "markdown",
     "metadata": {},
     "source": [
      "Use runtime error handling concepts to improve this function, so that it does the following:\n",
      "raises an informative custom error if the file doesn't exist\n",
      "uses try, except, else, and/or finally to safely return the file's contents & close the file if necessary.\n",
      "add a keyword safe which defaults to False. If the function is called with safe=True, then return an empty string if the file doesn't exist."
     ]
    },
    {
     "cell_type": "code",
     "collapsed": false,
     "input": [
      "import os\n",
      "\n",
      "def read_all_from_file(filename,safe=False):\n",
      "    if safe == True:\n",
      "        contents = []\n",
      "        return contents\n",
      "    if not os.path.exists(filename):\n",
      "        raise ValueError(\"'%s' does not exist\"%format(filename))\n",
      "    f = open(filename)\n",
      "    try:\n",
      "        contents = f.read()\n",
      "    except:\n",
      "        print \"could not read file contents\"\n",
      "    else:\n",
      "        print \"contents read successfully\"\n",
      "    finally:\n",
      "        f.close()\n",
      "    return contents"
     ],
     "language": "python",
     "metadata": {},
     "outputs": [],
     "prompt_number": 31
    },
    {
     "cell_type": "code",
     "collapsed": false,
     "input": [
      "read_all_from_file('tmp.txt')"
     ],
     "language": "python",
     "metadata": {},
     "outputs": [
      {
       "output_type": "stream",
       "stream": "stdout",
       "text": [
        "contents read successfully\n"
       ]
      },
      {
       "metadata": {},
       "output_type": "pyout",
       "prompt_number": 32,
       "text": [
        "'this is the contents of the file'"
       ]
      }
     ],
     "prompt_number": 32
    },
    {
     "cell_type": "code",
     "collapsed": false,
     "input": [
      "read_all_from_file('file.which.does.not.exist')"
     ],
     "language": "python",
     "metadata": {},
     "outputs": [
      {
       "ename": "ValueError",
       "evalue": "'file.which.does.not.exist' does not exist",
       "output_type": "pyerr",
       "traceback": [
        "\u001b[1;31m---------------------------------------------------------------------------\u001b[0m\n\u001b[1;31mValueError\u001b[0m                                Traceback (most recent call last)",
        "\u001b[1;32m<ipython-input-33-3bfc12c9d16d>\u001b[0m in \u001b[0;36m<module>\u001b[1;34m()\u001b[0m\n\u001b[1;32m----> 1\u001b[1;33m \u001b[0mread_all_from_file\u001b[0m\u001b[1;33m(\u001b[0m\u001b[1;34m'file.which.does.not.exist'\u001b[0m\u001b[1;33m)\u001b[0m\u001b[1;33m\u001b[0m\u001b[0m\n\u001b[0m",
        "\u001b[1;32m<ipython-input-31-15eb56e563ae>\u001b[0m in \u001b[0;36mread_all_from_file\u001b[1;34m(filename, safe)\u001b[0m\n\u001b[0;32m      6\u001b[0m         \u001b[1;32mreturn\u001b[0m \u001b[0mcontents\u001b[0m\u001b[1;33m\u001b[0m\u001b[0m\n\u001b[0;32m      7\u001b[0m     \u001b[1;32mif\u001b[0m \u001b[1;32mnot\u001b[0m \u001b[0mos\u001b[0m\u001b[1;33m.\u001b[0m\u001b[0mpath\u001b[0m\u001b[1;33m.\u001b[0m\u001b[0mexists\u001b[0m\u001b[1;33m(\u001b[0m\u001b[0mfilename\u001b[0m\u001b[1;33m)\u001b[0m\u001b[1;33m:\u001b[0m\u001b[1;33m\u001b[0m\u001b[0m\n\u001b[1;32m----> 8\u001b[1;33m         \u001b[1;32mraise\u001b[0m \u001b[0mValueError\u001b[0m\u001b[1;33m(\u001b[0m\u001b[1;34m\"'%s' does not exist\"\u001b[0m\u001b[1;33m%\u001b[0m\u001b[0mformat\u001b[0m\u001b[1;33m(\u001b[0m\u001b[0mfilename\u001b[0m\u001b[1;33m)\u001b[0m\u001b[1;33m)\u001b[0m\u001b[1;33m\u001b[0m\u001b[0m\n\u001b[0m\u001b[0;32m      9\u001b[0m     \u001b[0mf\u001b[0m \u001b[1;33m=\u001b[0m \u001b[0mopen\u001b[0m\u001b[1;33m(\u001b[0m\u001b[0mfilename\u001b[0m\u001b[1;33m)\u001b[0m\u001b[1;33m\u001b[0m\u001b[0m\n\u001b[0;32m     10\u001b[0m     \u001b[1;32mtry\u001b[0m\u001b[1;33m:\u001b[0m\u001b[1;33m\u001b[0m\u001b[0m\n",
        "\u001b[1;31mValueError\u001b[0m: 'file.which.does.not.exist' does not exist"
       ]
      }
     ],
     "prompt_number": 33
    },
    {
     "cell_type": "code",
     "collapsed": false,
     "input": [
      "read_all_from_file('file.which.does.not.exist', safe=True)"
     ],
     "language": "python",
     "metadata": {},
     "outputs": [
      {
       "metadata": {},
       "output_type": "pyout",
       "prompt_number": 34,
       "text": [
        "[]"
       ]
      }
     ],
     "prompt_number": 34
    }
   ],
   "metadata": {}
  }
 ]
}