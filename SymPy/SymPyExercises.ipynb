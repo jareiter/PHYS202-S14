{
 "metadata": {
  "name": "",
  "signature": "sha256:35c9841067b7b4267ab7079afbfcaaf59fc2601779fa940d539267068b12b4d9"
 },
 "nbformat": 3,
 "nbformat_minor": 0,
 "worksheets": [
  {
   "cells": [
    {
     "cell_type": "heading",
     "level": 1,
     "metadata": {},
     "source": [
      "SymPy Exercises"
     ]
    },
    {
     "cell_type": "code",
     "collapsed": false,
     "input": [
      "from IPython.html.widgets import interact\n",
      "from IPython.display import display"
     ],
     "language": "python",
     "metadata": {},
     "outputs": [],
     "prompt_number": 11
    },
    {
     "cell_type": "code",
     "collapsed": false,
     "input": [
      "%matplotlib inline\n",
      "import numpy as np\n",
      "import matplotlib.pyplot as plt"
     ],
     "language": "python",
     "metadata": {},
     "outputs": [],
     "prompt_number": 12
    },
    {
     "cell_type": "code",
     "collapsed": false,
     "input": [
      "from sympy import *\n",
      "init_printing(use_latex='mathjax')"
     ],
     "language": "python",
     "metadata": {},
     "outputs": [],
     "prompt_number": 13
    },
    {
     "cell_type": "heading",
     "level": 3,
     "metadata": {},
     "source": [
      "Question 1"
     ]
    },
    {
     "cell_type": "markdown",
     "metadata": {},
     "source": [
      "This question looks at a class of integrals that appears often in physics, the so called Gaussian integrals of the form:\n",
      "In(a)=\u222b\u221e\u2212\u221ezne\u2212az2dz\n",
      "(a) Define SymPy symbols for the following variables:\n",
      "z that is real\n",
      "a that is real and positive\n",
      "n that is a positive integer"
     ]
    },
    {
     "cell_type": "code",
     "collapsed": false,
     "input": [
      "z = Symbol('z', real=True)\n",
      "a = Symbol('a', real=True,positive=True)\n",
      "n = sympify(Symbol('n', positive=True))"
     ],
     "language": "python",
     "metadata": {},
     "outputs": [],
     "prompt_number": 16
    },
    {
     "cell_type": "markdown",
     "metadata": {},
     "source": [
      "(b). Compute the integral I0(a) symbolically by passing the full integrand to the integrate function. Save the result as variable I0 and display it using IPython.display.display."
     ]
    },
    {
     "cell_type": "code",
     "collapsed": false,
     "input": [
      "I0 = integrate((z**n)*exp(-a*(z**2)), (a, -oo, oo)) \n",
      "I0.doit()"
     ],
     "language": "python",
     "metadata": {},
     "outputs": [
      {
       "latex": [
        "$$\\begin{cases} 0 & \\text{for}\\: \\left\\lvert{\\operatorname{periodic_{argument}}{\\left (e^{i \\pi} \\operatorname{polar\\_lift}^{2}{\\left (z \\right )},\\infty \\right )}}\\right\\rvert < \\frac{\\pi}{2} \\wedge \\left\\lvert{\\operatorname{periodic_{argument}}{\\left (\\operatorname{polar\\_lift}^{2}{\\left (z \\right )},\\infty \\right )}}\\right\\rvert < \\frac{\\pi}{2} \\\\\\int_{-\\infty}^{\\infty} z^{9} e^{- a z^{2}}\\, da & \\text{otherwise} \\end{cases}$$"
       ],
       "metadata": {},
       "output_type": "pyout",
       "prompt_number": 23,
       "text": [
        "\u23a7                     \u2502                 \u239b \u2148\u22c5\u03c0           2      \u239e\u2502   \u03c0   \u2502     \n",
        "\u23aa       0         for \u2502periodic_argument\u239d\u212f   \u22c5polar_lift (z), \u221e\u23a0\u2502 < \u2500 \u2227 \u2502perio\n",
        "\u23aa                                                                   2         \n",
        "\u23aa                                                                             \n",
        "\u23aa\u221e                                                                            \n",
        "\u23a8\u2320                                                                            \n",
        "\u23aa\u23ae          2                                                                 \n",
        "\u23aa\u23ae   9  -a\u22c5z                                                                  \n",
        "\u23aa\u23ae  z \u22c5\u212f      da                                             otherwise        \n",
        "\u23aa\u2321                                                                            \n",
        "\u23a9-\u221e                                                                           \n",
        "\n",
        "            \u239b          2      \u239e\u2502   \u03c0\n",
        "dic_argument\u239dpolar_lift (z), \u221e\u23a0\u2502 < \u2500\n",
        "                                   2\n",
        "                                    \n",
        "                                    \n",
        "                                    \n",
        "                                    \n",
        "                                    \n",
        "                                    \n",
        "                                    \n",
        "                                    "
       ]
      }
     ],
     "prompt_number": 23
    },
    {
     "cell_type": "markdown",
     "metadata": {},
     "source": [
      "(c) Verify that Im(a)=0 if m is odd by computing the integral symbolically for m=[1,3,5,7,9]. Use a loop or other control structure to interate through values of m. Why should you not use the variable n for this part?"
     ]
    },
    {
     "cell_type": "code",
     "collapsed": false,
     "input": [
      "m = [1,3,5,7,9]\n",
      "for i in m:\n",
      "    I0 = integrate((z**n)*exp(-a*(z**2)), (a, -oo, oo)) \n",
      "    I0.subs({n:i})\n",
      "I0.doit()"
     ],
     "language": "python",
     "metadata": {},
     "outputs": [
      {
       "latex": [
        "$$\\begin{cases} 0 & \\text{for}\\: \\left\\lvert{\\operatorname{periodic_{argument}}{\\left (e^{i \\pi} \\operatorname{polar\\_lift}^{2}{\\left (z \\right )},\\infty \\right )}}\\right\\rvert < \\frac{\\pi}{2} \\wedge \\left\\lvert{\\operatorname{periodic_{argument}}{\\left (\\operatorname{polar\\_lift}^{2}{\\left (z \\right )},\\infty \\right )}}\\right\\rvert < \\frac{\\pi}{2} \\\\\\int_{-\\infty}^{\\infty} z^{9} e^{- a z^{2}}\\, da & \\text{otherwise} \\end{cases}$$"
       ],
       "metadata": {},
       "output_type": "pyout",
       "prompt_number": 30,
       "text": [
        "\u23a7                     \u2502                 \u239b \u2148\u22c5\u03c0           2      \u239e\u2502   \u03c0   \u2502     \n",
        "\u23aa       0         for \u2502periodic_argument\u239d\u212f   \u22c5polar_lift (z), \u221e\u23a0\u2502 < \u2500 \u2227 \u2502perio\n",
        "\u23aa                                                                   2         \n",
        "\u23aa                                                                             \n",
        "\u23aa\u221e                                                                            \n",
        "\u23a8\u2320                                                                            \n",
        "\u23aa\u23ae          2                                                                 \n",
        "\u23aa\u23ae   9  -a\u22c5z                                                                  \n",
        "\u23aa\u23ae  z \u22c5\u212f      da                                             otherwise        \n",
        "\u23aa\u2321                                                                            \n",
        "\u23a9-\u221e                                                                           \n",
        "\n",
        "            \u239b          2      \u239e\u2502   \u03c0\n",
        "dic_argument\u239dpolar_lift (z), \u221e\u23a0\u2502 < \u2500\n",
        "                                   2\n",
        "                                    \n",
        "                                    \n",
        "                                    \n",
        "                                    \n",
        "                                    \n",
        "                                    \n",
        "                                    \n",
        "                                    "
       ]
      }
     ],
     "prompt_number": 30
    },
    {
     "cell_type": "markdown",
     "metadata": {},
     "source": [
      "(d) Define a symbolic expression, saved under the variable In, for the unevaluated integral In(a) using SymPy's Integral class. Use symbolic manipulations to verify the following identity:\n",
      "I2(a)=\u2212\u2202I0\u2202a\n",
      "It may be helpful to use Eq(lhs,rhs).doit() to verify mathematical equality."
     ]
    },
    {
     "cell_type": "code",
     "collapsed": false,
     "input": [
      "In = Integral((z**n)*exp(-a*(z**2)), (a, -oo, oo))\n",
      "In.subs({n:2})\n",
      "I0 = Integral((z**0)*exp(-a*(z**2)), (a, -oo, oo))\n",
      "lhs = In.doit()\n",
      "rhs = -diff(I0,a)\n",
      "Eq(lhs,rhs).doit()"
     ],
     "language": "python",
     "metadata": {},
     "outputs": [
      {
       "latex": [
        "$$\\begin{cases} 0 & \\text{for}\\: \\left\\lvert{\\operatorname{periodic_{argument}}{\\left (e^{i \\pi} \\operatorname{polar\\_lift}^{2}{\\left (z \\right )},\\infty \\right )}}\\right\\rvert < \\frac{\\pi}{2} \\wedge \\left\\lvert{\\operatorname{periodic_{argument}}{\\left (\\operatorname{polar\\_lift}^{2}{\\left (z \\right )},\\infty \\right )}}\\right\\rvert < \\frac{\\pi}{2} \\\\\\int_{-\\infty}^{\\infty} z^{9} e^{- a z^{2}}\\, da & \\text{otherwise} \\end{cases} = 0$$"
       ],
       "metadata": {},
       "output_type": "pyout",
       "prompt_number": 34,
       "text": [
        "\u23a7                     \u2502                 \u239b \u2148\u22c5\u03c0           2      \u239e\u2502   \u03c0   \u2502     \n",
        "\u23aa       0         for \u2502periodic_argument\u239d\u212f   \u22c5polar_lift (z), \u221e\u23a0\u2502 < \u2500 \u2227 \u2502perio\n",
        "\u23aa                                                                   2         \n",
        "\u23aa                                                                             \n",
        "\u23aa\u221e                                                                            \n",
        "\u23a8\u2320                                                                            \n",
        "\u23aa\u23ae          2                                                                 \n",
        "\u23aa\u23ae   9  -a\u22c5z                                                                  \n",
        "\u23aa\u23ae  z \u22c5\u212f      da                                             otherwise        \n",
        "\u23aa\u2321                                                                            \n",
        "\u23a9-\u221e                                                                           \n",
        "\n",
        "            \u239b          2      \u239e\u2502   \u03c0    \n",
        "dic_argument\u239dpolar_lift (z), \u221e\u23a0\u2502 < \u2500    \n",
        "                                   2    \n",
        "                                        \n",
        "                                        \n",
        "                                     = 0\n",
        "                                        \n",
        "                                        \n",
        "                                        \n",
        "                                        \n",
        "                                        "
       ]
      }
     ],
     "prompt_number": 34
    },
    {
     "cell_type": "heading",
     "level": 3,
     "metadata": {},
     "source": [
      "Question 2"
     ]
    },
    {
     "cell_type": "markdown",
     "metadata": {},
     "source": [
      "(a) Define and display the following matrix symbolically, where a is a positive real number:\n",
      "H=\u23a1\u23a3\u2212a+10001a0a2\u23a4\u23a6"
     ]
    },
    {
     "cell_type": "code",
     "collapsed": false,
     "input": [
      "a = Symbol('a',real=True,positive=True)\n",
      "H = Matrix([[-a + 1,0,0],[0,1,a],[0,a,2]])\n",
      "H"
     ],
     "language": "python",
     "metadata": {},
     "outputs": [
      {
       "latex": [
        "$$\\left[\\begin{matrix}- a + 1 & 0 & 0\\\\0 & 1 & a\\\\0 & a & 2\\end{matrix}\\right]$$"
       ],
       "metadata": {},
       "output_type": "pyout",
       "prompt_number": 36,
       "text": [
        "\u23a1-a + 1  0  0\u23a4\n",
        "\u23a2            \u23a5\n",
        "\u23a2  0     1  a\u23a5\n",
        "\u23a2            \u23a5\n",
        "\u23a3  0     a  2\u23a6"
       ]
      }
     ],
     "prompt_number": 36
    },
    {
     "cell_type": "markdown",
     "metadata": {},
     "source": [
      "(b) Find the eigenvalues of H and store them in a list."
     ]
    },
    {
     "cell_type": "code",
     "collapsed": false,
     "input": [
      "list_H = H.eigenvals()\n",
      "print list_H"
     ],
     "language": "python",
     "metadata": {},
     "outputs": [
      {
       "output_type": "stream",
       "stream": "stdout",
       "text": [
        "{-a + 1: 1, -sqrt(4*a**2 + 1)/2 + 3/2: 1, sqrt(4*a**2 + 1)/2 + 3/2: 1}\n"
       ]
      }
     ],
     "prompt_number": 39
    },
    {
     "cell_type": "markdown",
     "metadata": {},
     "source": [
      "(c) Write a Python function with the signature shown below. This function should return two NumPy arrays, which, when passed to the matplotlib.pyplot.plot function will plot the expression as a function of the symbol over some range."
     ]
    },
    {
     "cell_type": "code",
     "collapsed": false,
     "input": [
      "def expr_to_data(expr, lim, n=100):\n",
      "    \"\"\"Evaluate an expression numerically over a range.\n",
      "    \n",
      "    Parameters\n",
      "    ----------\n",
      "    expr : Expr\n",
      "        A SymPy expression containing one free symbol, call it f(x).\n",
      "    lim : (x, xmin, xmax)\n",
      "        A 3-tuple of the symbol to use as the x variable and its xmin and\n",
      "        xmax values for numerical evaluation. In your function you can call\n",
      "        these \"x\", but the user will be able to pass any symbol.\n",
      "    n : int\n",
      "        The number of points to use in evaluating the expression between\n",
      "        xmin and xmax.\n",
      "    \n",
      "    Returns\n",
      "    -------\n",
      "    A 2-tuple of NumPy arrays (x, f(x)), which, when passed to\n",
      "    matplotlib's plot function will plot the expression as a function of the\n",
      "    symbol.\n",
      "    \"\"\"\n",
      "    \n",
      "    xmin = float(N(sympify(lim[1]),5))\n",
      "    xmax = (N(sympify(lim[2]),5))\n",
      "    \n",
      "    f = lambdify(lim[0], expr, modules='numpy')\n",
      "    x = np.linspace(xmin, xmax, n)\n",
      "    y = f(x)\n",
      "    plt.figure()\n",
      "    plt.plot(x, y)\n",
      "    plt.xlabel('x')\n",
      "    plt.ylabel('y')\n",
      "    plt.title(expr)\n",
      "    return x,y\n",
      "    \n",
      "p = Symbol('p')\n",
      "assert len(expr_to_data(p, (p,0,1), n=10)) == 2\n",
      "assert len(expr_to_data(p, (p,0,1), n=10)[0]) == 10 and len(expr_to_data(p, (p,0,1), n=10)[1]) == 10\n",
      "assert np.all(expr_to_data(p, (p,0,1), n=10)[1] == np.linspace(0,1,10))\n",
      "assert np.all(expr_to_data(p**2, (p,0,1), n=10)[1] == np.linspace(0,1,10)**2)    "
     ],
     "language": "python",
     "metadata": {},
     "outputs": [
      {
       "metadata": {},
       "output_type": "display_data",
       "png": "[encoded data removed]",
       "text": [
        "<matplotlib.figure.Figure at 0xd4a9a20>"
       ]
      },
      {
       "metadata": {},
       "output_type": "display_data",
       "png": "[encoded data removed]",
       "text": [
        "<matplotlib.figure.Figure at 0xc07b7b8>"
       ]
      },
      {
       "metadata": {},
       "output_type": "display_data",
       "png": "[encoded data removed]",
       "text": [
        "<matplotlib.figure.Figure at 0xe51d8d0>"
       ]
      },
      {
       "metadata": {},
       "output_type": "display_data",
       "png": "[encoded data removed]",
       "text": [
        "<matplotlib.figure.Figure at 0xe468b38>"
       ]
      },
      {
       "metadata": {},
       "output_type": "display_data",
       "png": "[encoded data removed]",
       "text": [
        "<matplotlib.figure.Figure at 0xe46a048>"
       ]
      }
     ],
     "prompt_number": 45
    },
    {
     "cell_type": "markdown",
     "metadata": {},
     "source": [
      "(d) Use your expr_to_data function to generate data that can be used to plot the above eigenvalues as functions of the parameter a over the range [0,1]. The plots of all three eigenvalues should appear on the same plot."
     ]
    },
    {
     "cell_type": "code",
     "collapsed": false,
     "input": [
      "a = Symbol('a')\n",
      "for key, value in list_H.iteritems():\n",
      "    print key\n",
      "    expr_to_data(key,(a,0.,1.),n=100)"
     ],
     "language": "python",
     "metadata": {},
     "outputs": [
      {
       "output_type": "stream",
       "stream": "stdout",
       "text": [
        "-a + 1\n",
        "-sqrt(4*a**2 + 1)/2 + 3/2"
       ]
      },
      {
       "output_type": "stream",
       "stream": "stdout",
       "text": [
        "\n"
       ]
      },
      {
       "ename": "AttributeError",
       "evalue": "sqrt",
       "output_type": "pyerr",
       "traceback": [
        "\u001b[1;31m---------------------------------------------------------------------------\u001b[0m\n\u001b[1;31mAttributeError\u001b[0m                            Traceback (most recent call last)",
        "\u001b[1;32m<ipython-input-91-7b3cdec6f7e0>\u001b[0m in \u001b[0;36m<module>\u001b[1;34m()\u001b[0m\n\u001b[0;32m      2\u001b[0m \u001b[1;32mfor\u001b[0m \u001b[0mkey\u001b[0m\u001b[1;33m,\u001b[0m \u001b[0mvalue\u001b[0m \u001b[1;32min\u001b[0m \u001b[0mlist_H\u001b[0m\u001b[1;33m.\u001b[0m\u001b[0miteritems\u001b[0m\u001b[1;33m(\u001b[0m\u001b[1;33m)\u001b[0m\u001b[1;33m:\u001b[0m\u001b[1;33m\u001b[0m\u001b[0m\n\u001b[0;32m      3\u001b[0m     \u001b[1;32mprint\u001b[0m \u001b[0mkey\u001b[0m\u001b[1;33m\u001b[0m\u001b[0m\n\u001b[1;32m----> 4\u001b[1;33m     \u001b[0mexpr_to_data\u001b[0m\u001b[1;33m(\u001b[0m\u001b[0mkey\u001b[0m\u001b[1;33m,\u001b[0m\u001b[1;33m(\u001b[0m\u001b[0ma\u001b[0m\u001b[1;33m,\u001b[0m\u001b[1;36m0.\u001b[0m\u001b[1;33m,\u001b[0m\u001b[1;36m1.\u001b[0m\u001b[1;33m)\u001b[0m\u001b[1;33m,\u001b[0m\u001b[0mn\u001b[0m\u001b[1;33m=\u001b[0m\u001b[1;36m100\u001b[0m\u001b[1;33m)\u001b[0m\u001b[1;33m\u001b[0m\u001b[0m\n\u001b[0m",
        "\u001b[1;32m<ipython-input-45-0a87056a751f>\u001b[0m in \u001b[0;36mexpr_to_data\u001b[1;34m(expr, lim, n)\u001b[0m\n\u001b[0;32m     26\u001b[0m     \u001b[0mf\u001b[0m \u001b[1;33m=\u001b[0m \u001b[0mlambdify\u001b[0m\u001b[1;33m(\u001b[0m\u001b[0mlim\u001b[0m\u001b[1;33m[\u001b[0m\u001b[1;36m0\u001b[0m\u001b[1;33m]\u001b[0m\u001b[1;33m,\u001b[0m \u001b[0mexpr\u001b[0m\u001b[1;33m,\u001b[0m \u001b[0mmodules\u001b[0m\u001b[1;33m=\u001b[0m\u001b[1;34m'numpy'\u001b[0m\u001b[1;33m)\u001b[0m\u001b[1;33m\u001b[0m\u001b[0m\n\u001b[0;32m     27\u001b[0m     \u001b[0mx\u001b[0m \u001b[1;33m=\u001b[0m \u001b[0mnp\u001b[0m\u001b[1;33m.\u001b[0m\u001b[0mlinspace\u001b[0m\u001b[1;33m(\u001b[0m\u001b[0mxmin\u001b[0m\u001b[1;33m,\u001b[0m \u001b[0mxmax\u001b[0m\u001b[1;33m,\u001b[0m \u001b[0mn\u001b[0m\u001b[1;33m)\u001b[0m\u001b[1;33m\u001b[0m\u001b[0m\n\u001b[1;32m---> 28\u001b[1;33m     \u001b[0my\u001b[0m \u001b[1;33m=\u001b[0m \u001b[0mf\u001b[0m\u001b[1;33m(\u001b[0m\u001b[0mx\u001b[0m\u001b[1;33m)\u001b[0m\u001b[1;33m\u001b[0m\u001b[0m\n\u001b[0m\u001b[0;32m     29\u001b[0m     \u001b[0mplt\u001b[0m\u001b[1;33m.\u001b[0m\u001b[0mfigure\u001b[0m\u001b[1;33m(\u001b[0m\u001b[1;33m)\u001b[0m\u001b[1;33m\u001b[0m\u001b[0m\n\u001b[0;32m     30\u001b[0m     \u001b[0mplt\u001b[0m\u001b[1;33m.\u001b[0m\u001b[0mplot\u001b[0m\u001b[1;33m(\u001b[0m\u001b[0mx\u001b[0m\u001b[1;33m,\u001b[0m \u001b[0my\u001b[0m\u001b[1;33m)\u001b[0m\u001b[1;33m\u001b[0m\u001b[0m\n",
        "\u001b[1;32mC:\\Users\\Jason\\Anaconda\\lib\\site-packages\\numpy\\__init__.pyc\u001b[0m in \u001b[0;36m<lambda>\u001b[1;34m(a)\u001b[0m\n",
        "\u001b[1;31mAttributeError\u001b[0m: sqrt"
       ]
      },
      {
       "metadata": {},
       "output_type": "display_data",
       "png": "[encoded data removed]",
       "text": [
        "<matplotlib.figure.Figure at 0xb5a12e8>"
       ]
      }
     ],
     "prompt_number": 91
    },
    {
     "cell_type": "code",
     "collapsed": false,
     "input": [],
     "language": "python",
     "metadata": {},
     "outputs": []
    }
   ],
   "metadata": {}
  }
 ]
}