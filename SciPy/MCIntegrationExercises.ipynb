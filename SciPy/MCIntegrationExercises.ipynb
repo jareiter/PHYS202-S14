{
 "metadata": {
  "name": "",
  "signature": "sha256:dc01d4efbb0d2cbe74c5b9ad2328ad465071e089dbbe20e89b1b39fd171bb75f"
 },
 "nbformat": 3,
 "nbformat_minor": 0,
 "worksheets": [
  {
   "cells": [
    {
     "cell_type": "heading",
     "level": 1,
     "metadata": {},
     "source": [
      "Monte Carlo Integration Exercises"
     ]
    },
    {
     "cell_type": "code",
     "collapsed": false,
     "input": [
      "%pylab inline\n",
      "import numpy as np\n",
      "import matplotlib.pyplot as plt"
     ],
     "language": "python",
     "metadata": {},
     "outputs": [
      {
       "output_type": "stream",
       "stream": "stdout",
       "text": [
        "Populating the interactive namespace from numpy and matplotlib\n"
       ]
      }
     ],
     "prompt_number": 12
    },
    {
     "cell_type": "heading",
     "level": 3,
     "metadata": {},
     "source": [
      "Question 1"
     ]
    },
    {
     "cell_type": "markdown",
     "metadata": {},
     "source": [
      "Let\u2019s compute the electric potential from a plane of charge as shown in the figure using Monte Carlo integration."
     ]
    },
    {
     "cell_type": "markdown",
     "metadata": {},
     "source": [
      "The integral comes from summing all the potentials from the chunks of \u201cpoint\u201d charges. Just as we summed two charges for a dipole, now we\u2019ll sum many charges. The important part is to understand how dQ, modeled as a point charge, is related to \u03c3dA, where \u03c3 is the surface charge density = charge/area (\u03c3=Q/A ) Review your notes from PHYS 133 if you need a refresher.\n",
      "We want to use our previously defined pointPotential() function from Electrostatics.py, so we have to import it."
     ]
    },
    {
     "cell_type": "code",
     "collapsed": false,
     "input": [
      "#import our point potential function\n",
      "from Electrostatics import *"
     ],
     "language": "python",
     "metadata": {},
     "outputs": [],
     "prompt_number": 3
    },
    {
     "cell_type": "markdown",
     "metadata": {},
     "source": [
      "(a) Use the sample mean method to compute the potential at point P(2,3) due to the disk of charge for different numbers of samples N=(101,102,103,104,105,106). Report the value and its statistical uncertainty for each sample size. How does the result depend on N?"
     ]
    },
    {
     "cell_type": "code",
     "collapsed": false,
     "input": [
      "xmin = -1.\n",
      "xmax = 1.\n",
      "ymin = 0.\n",
      "ymax = 2.\n",
      "q = (10**-6)#*((xmax-xmin)*(ymax-ymin))\n",
      "\n",
      "N = [10,100,1000,10000,100000,1000000]\n",
      "for i in N:\n",
      "    samples_x = xmin + (xmax-xmin)*np.random.random_sample(i);\n",
      "    samples_y = ymin + (ymax-ymin)*np.random.random_sample(i);\n",
      "\n",
      "    approx = pointPotential(2.,3.,q,samples_x,samples_y)\n",
      "    I = approx.mean()*(xmax-xmin)*(ymax-ymin)\n",
      "\n",
      "    Iunc = (xmax-xmin)*(ymax-ymin)*np.sqrt(((approx**2).mean()-(approx.mean())**2)/i)\n",
      "\n",
      "    print \"I = \",I\n",
      "    print \"Uncertainty = \",Iunc"
     ],
     "language": "python",
     "metadata": {},
     "outputs": [
      {
       "output_type": "stream",
       "stream": "stdout",
       "text": [
        "I =  11559.6377834\n",
        "Uncertainty =  545.012130453\n",
        "I =  13050.2968607\n",
        "Uncertainty =  266.040585904\n",
        "I =  13134.3695997\n",
        "Uncertainty =  94.7620579238\n",
        "I =  13084.0952604\n",
        "Uncertainty =  30.0402968712\n",
        "I =  13024.0090372\n",
        "Uncertainty =  9.38333136507\n",
        "I = "
       ]
      },
      {
       "output_type": "stream",
       "stream": "stdout",
       "text": [
        " 13020.7738992\n",
        "Uncertainty =  2.96698797705\n"
       ]
      }
     ],
     "prompt_number": 4
    },
    {
     "cell_type": "markdown",
     "metadata": {},
     "source": [
      "(b) Now use the same method to compute the electric potential, V, at point P(2,3), from a disk centered on the origin with radius, R=1.2 cm, and charge density, \u03c3 = 2 nC/m2 ."
     ]
    },
    {
     "cell_type": "code",
     "collapsed": false,
     "input": [
      "rmin = 0.\n",
      "rmax = 1.2\n",
      "thetamin = 0.\n",
      "thetamax = 2*np.pi\n",
      "sigma = 2*(10**-9)\n",
      "K = 8.987551787997912**9\n",
      "\n",
      "\n",
      "V = lambda r,theta: K*sigma*r/(abs(((2-r*np.cos(theta))**2 + (3-r*np.sin(theta))**2)**(1/2)))\n",
      "\n",
      "N = [10,100,1000,10000,100000,1000000]\n",
      "for i in N:\n",
      "    samples_r = rmin + (rmax-rmin)*np.random.random_sample(i);\n",
      "    samples_theta = thetamin + (thetamax-thetamin)*np.random.random_sample(i);\n",
      "\n",
      "    approx = V(samples_r,samples_theta)\n",
      "    I = approx.mean()*(xmax-xmin)*(ymax-ymin)\n",
      "\n",
      "    Iunc = (xmax-xmin)*(ymax-ymin)*np.sqrt(((approx**2).mean()-(approx.mean())**2)/i)\n",
      "\n",
      "    print \"I = \",I\n",
      "    print \"Uncertainty = \",Iunc"
     ],
     "language": "python",
     "metadata": {},
     "outputs": [
      {
       "output_type": "stream",
       "stream": "stdout",
       "text": [
        "I =  1.58547719762\n",
        "Uncertainty =  0.349755739999\n",
        "I =  1.95542970543\n",
        "Uncertainty =  0.110577918312\n",
        "I =  1.8694477839\n",
        "Uncertainty =  0.0338030973273\n",
        "I =  1.84553137762\n",
        "Uncertainty =  0.0106015693737\n",
        "I =  1.84089578149\n",
        "Uncertainty =  0.00335534888957\n",
        "I = "
       ]
      },
      {
       "output_type": "stream",
       "stream": "stdout",
       "text": [
        " 1.83693107758\n",
        "Uncertainty =  0.00106080149887\n"
       ]
      }
     ],
     "prompt_number": 5
    },
    {
     "cell_type": "heading",
     "level": 3,
     "metadata": {},
     "source": [
      "Question 2"
     ]
    },
    {
     "cell_type": "markdown",
     "metadata": {},
     "source": [
      "Use the sample mean method to compute the volume of a sphere with radius 1 using spherical coordinates:\n",
      "V=\u222b10\u222b\u03c00\u222b2\u03c00r2sin(\u03b8)drd\u03b8d\u03d5\n",
      "for N=(101,102,103,104,105,106). Report the value and statistical uncertainty for each sample size. How does the result depend on N?"
     ]
    },
    {
     "cell_type": "code",
     "collapsed": false,
     "input": [
      "f =  lambda r,theta,phi: (r**2)*np.sin(theta)\n",
      "rmin = 0.; rmax = 1.0\n",
      "thetamin = 0.; thetamax = np.pi\n",
      "phimin = 0.; phimax = 2*np.pi\n",
      "\n",
      "i = (10,100,1000,10000,100000,1000000)\n",
      "for N in i:\n",
      "    r = (rmax-rmin)*np.random.random_sample(N)\n",
      "    theta = (thetamax-thetamin)*np.random.random_sample(N)\n",
      "    phi = (phimax-phimin)*np.random.random_sample(N)\n",
      "\n",
      "    I = (rmax-rmin)*(thetamax-thetamin)*(phimax-phimin)*f(r,theta,phi).mean()\n",
      "    err = (rmax-rmin)*(thetamax-thetamin)*(phimax-phimin)*np.sqrt(((f(r,theta,phi)**2).mean() - (f(r,theta,phi).mean())**2)/N)\n",
      "    \n",
      "    print \"I = \",I,\" +/-\",err"
     ],
     "language": "python",
     "metadata": {},
     "outputs": [
      {
       "output_type": "stream",
       "stream": "stdout",
       "text": [
        "I =  2.51657746535  +/- 1.31527300467\n",
        "I =  4.4994094018  +/- 0.503637513574\n",
        "I =  4.08963809569  +/- 0.146565155996\n",
        "I =  4.26710712653  +/- 0.0464893604281\n",
        "I =  4.17784022195  +/- 0.0146142764737\n",
        "I = "
       ]
      },
      {
       "output_type": "stream",
       "stream": "stdout",
       "text": [
        " 4.19405154386  +/- 0.00462649439925\n"
       ]
      }
     ],
     "prompt_number": 6
    },
    {
     "cell_type": "heading",
     "level": 3,
     "metadata": {},
     "source": [
      "Question 3"
     ]
    },
    {
     "cell_type": "markdown",
     "metadata": {},
     "source": [
      "(a) Use the hit or miss Monte Carlo method to estimate the integral of f(x)=41\u2212x2\u203e\u203e\u203e\u203e\u203e\u203e\u203e\u221a in the interval 0\u2264x\u22641 as a function of N, the number of samples. Let N range from 101 to 106 and use at least 100 different values for N.\n",
      "(np.logspace might be useful here to get evenly spaced values for N.)"
     ]
    },
    {
     "cell_type": "code",
     "collapsed": false,
     "input": [
      "f = lambda x: 4.*np.sqrt(1.-x**2.)"
     ],
     "language": "python",
     "metadata": {},
     "outputs": [],
     "prompt_number": 14
    },
    {
     "cell_type": "code",
     "collapsed": false,
     "input": [
      "x = np.arange(0.,1.,0.001)\n",
      "N = np.logspace(1,6,num=100)\n",
      "xmin = 0.\n",
      "xmax = 1.\n",
      "subx = x[logical_and((x>xmin),(x<xmax))]\n",
      "ymax = f(subx).max()*1.05\n",
      "ymin = 0\n",
      "for i in N:\n",
      "    samples_x = xmin + (xmax-xmin)*np.random.random_sample(i);\n",
      "    samples_y = ymin + (ymax-ymin)*np.random.random_sample(i);\n",
      "    newmask = (samples_y < f(samples_x))\n",
      "    I = (xmax-xmin)*(ymax-ymin)*newmask.sum()/newmask.size\n",
      "    print I"
     ],
     "language": "python",
     "metadata": {},
     "outputs": [
      {
       "output_type": "stream",
       "stream": "stdout",
       "text": [
        "3.77999811\n",
        "3.05454392727\n",
        "2.7999986\n",
        "2.9999985\n",
        "3.07999846\n",
        "3.4588218\n",
        "2.93999853\n",
        "3.43636191818\n",
        "3.191998404\n",
        "2.9999985\n",
        "3.79354649032\n",
        "2.51999874\n",
        "3.6749981625\n",
        "3.45333160667\n",
        "2.93999853\n",
        "3.09473529474\n",
        "3.34687332656\n",
        "2.6249986875\n",
        "2.74814677407\n",
        "2.86153703077\n",
        "2.9647044\n",
        "3.09473529474\n",
        "3.19069607907\n",
        "3.30206731448\n",
        "3.18888729444\n",
        "3.25901476393\n",
        "2.97073022195\n",
        "3.10908935455\n",
        "2.95134987568\n",
        "2.98762737216\n",
        "3.13394338716\n",
        "3.22724634278\n",
        "3.14237131017\n",
        "3.31292937802\n",
        "3.10364528119\n",
        "3.28102400051\n",
        "3.10045507078\n",
        "2.96671028931\n",
        "3.14746830578\n",
        "3.11845337639\n",
        "3.16504139742\n",
        "3.1249984375\n",
        "3.18576676442\n",
        "3.14716823774\n",
        "3.13489051888\n",
        "3.10571120742\n",
        "3.14600603156\n",
        "3.11091215013\n",
        "3.14209180245\n",
        "3.15809429759\n",
        "3.14341830295\n",
        "3.18793676947\n",
        "3.1730889786\n",
        "3.16989315189\n",
        "3.11930128892\n",
        "3.10970815485\n",
        "3.12473856237\n",
        "3.12834322694\n",
        "3.13183319929\n",
        "3.13514772525\n",
        "3.15802863923\n",
        "3.15426990481\n",
        "3.12594078736\n",
        "3.14882400622\n",
        "3.12988773395\n",
        "3.13330048246\n",
        "3.14473478114\n",
        "3.14622378948\n",
        "3.14864657723\n",
        "3.13933957906\n",
        "3.15048816356\n",
        "3.1282818146\n",
        "3.13454691148\n",
        "3.14606843067\n",
        "3.13419710743\n",
        "3.13567534997\n",
        "3.14131520385\n",
        "3.14698780992\n",
        "3.1443726086\n",
        "3.14668829359"
       ]
      },
      {
       "output_type": "stream",
       "stream": "stdout",
       "text": [
        "\n",
        "3.13688168334\n",
        "3.12983036786\n",
        "3.13556252441\n",
        "3.13543975338\n",
        "3.13214112757\n",
        "3.13666910572"
       ]
      },
      {
       "output_type": "stream",
       "stream": "stdout",
       "text": [
        "\n",
        "3.14539393686\n",
        "3.14311025007\n",
        "3.14533058668\n",
        "3.14099231569"
       ]
      },
      {
       "output_type": "stream",
       "stream": "stdout",
       "text": [
        "\n",
        "3.14196909993\n",
        "3.13890264433"
       ]
      },
      {
       "output_type": "stream",
       "stream": "stdout",
       "text": [
        "\n",
        "3.14116828826\n",
        "3.1412853842"
       ]
      },
      {
       "output_type": "stream",
       "stream": "stdout",
       "text": [
        "\n",
        "3.14006149775\n",
        "3.14736518804"
       ]
      },
      {
       "output_type": "stream",
       "stream": "stdout",
       "text": [
        "\n",
        "3.14675978059"
       ]
      },
      {
       "output_type": "stream",
       "stream": "stdout",
       "text": [
        "\n",
        "3.1422951624\n",
        "3.14200502291"
       ]
      },
      {
       "output_type": "stream",
       "stream": "stdout",
       "text": [
        "\n",
        "3.13951103024"
       ]
      },
      {
       "output_type": "stream",
       "stream": "stdout",
       "text": [
        "\n"
       ]
      }
     ],
     "prompt_number": 18
    },
    {
     "cell_type": "markdown",
     "metadata": {},
     "source": [
      "(b) Calculate the percent error for the N values from part (a) using the exact result \u03c0. Make a log-log plot of the error as a function of N.\n",
      "What is the approximate functional dependence of the error on N for large N, for example N\u2265104?"
     ]
    },
    {
     "cell_type": "code",
     "collapsed": false,
     "input": [
      "for i in N:\n",
      "    samples_x = xmin + (xmax-xmin)*np.random.random_sample(i);\n",
      "    samples_y = ymin + (ymax-ymin)*np.random.random_sample(i);\n",
      "    newmask = (samples_y < f(samples_x))\n",
      "    I = (xmax-xmin)*(ymax-ymin)*newmask.sum()/newmask.size\n",
      "    error = abs((np.pi-I)/np.pi)*100\n",
      "    print error\n",
      "    plt.loglog(i,error,'or');\n",
      "    plt.ylabel('N (Number of Samples')\n",
      "    plt.xlabel('Percent Error')"
     ],
     "language": "python",
     "metadata": {},
     "outputs": [
      {
       "output_type": "stream",
       "stream": "stdout",
       "text": [
        "6.41694025353\n",
        "14.9244911396"
       ]
      },
      {
       "output_type": "stream",
       "stream": "stdout",
       "text": [
        "\n",
        "0.267564014074\n",
        "14.0563737022\n",
        "1.96060407513\n",
        "5.63052798675\n",
        "26.4704530563\n",
        "15.4596191677\n",
        "3.74313854649\n",
        "14.0563737022\n",
        "9.43574863245\n",
        "3.13235155733\n",
        "0.267564014074\n",
        "3.98117749608\n",
        "1.06933683945\n",
        "3.19936413145\n",
        "2.3564715977\n",
        "3.44604946793\n",
        "0.680187734297\n",
        "7.44532552547\n",
        "0.387779541573\n",
        "4.37208417839\n",
        "0.526653326772\n",
        "2.3420653385\n",
        "2.62080202748\n",
        "6.48999494498"
       ]
      },
      {
       "output_type": "stream",
       "stream": "stdout",
       "text": [
        "\n",
        "7.60421503949\n",
        "4.17409248216\n",
        "5.5394377628\n",
        "0.766122212875\n",
        "0.652321894312\n",
        "2.36216344398\n",
        "1.59373862703\n",
        "1.99631511777\n",
        "0.694696677039\n",
        "1.23881677091\n",
        "0.292021579104\n",
        "2.75503177266\n",
        "2.87334762974\n",
        "1.70200698996\n",
        "0.491019266573\n",
        "1.29070242238\n",
        "1.32639423293\n",
        "0.723400230449\n",
        "0.347713945341\n",
        "1.07056105637\n",
        "0.712350419714\n",
        "1.2855088264"
       ]
      },
      {
       "output_type": "stream",
       "stream": "stdout",
       "text": [
        "\n",
        "0.267564014074\n",
        "0.345994335686\n",
        "0.137903382205\n",
        "0.87137151965\n",
        "0.275467187718\n",
        "0.309414249024\n",
        "0.10825144325\n",
        "1.21565098024\n",
        "0.138519530144\n",
        "0.651511136416\n",
        "0.397367851212\n",
        "0.201034113035\n",
        "0.373548506286\n",
        "0.251324445055\n",
        "0.173694404995\n",
        "0.45590526155\n",
        "0.0815896963147\n",
        "0.8146293094"
       ]
      },
      {
       "output_type": "stream",
       "stream": "stdout",
       "text": [
        "\n",
        "0.911470344304\n",
        "0.0238351844018\n",
        "0.336094546785\n",
        "0.084851071093\n",
        "0.470219227411\n",
        "0.0420724233895\n",
        "0.436657094515\n",
        "0.0737345603394\n",
        "0.0249182311669\n",
        "0.406235410544"
       ]
      },
      {
       "output_type": "stream",
       "stream": "stdout",
       "text": [
        "\n",
        "0.604294114437\n",
        "0.0648222829095\n",
        "0.0221844290105\n",
        "0.267470002022\n",
        "0.0973283907161\n",
        "0.0973120478803\n",
        "0.112141856619"
       ]
      },
      {
       "output_type": "stream",
       "stream": "stdout",
       "text": [
        "\n",
        "0.134146349975\n",
        "0.0552775901337\n",
        "0.0959429492529\n",
        "0.028845792893"
       ]
      },
      {
       "output_type": "stream",
       "stream": "stdout",
       "text": [
        "\n",
        "0.0747524141115\n",
        "0.121864859044\n",
        "0.03279610391"
       ]
      },
      {
       "output_type": "stream",
       "stream": "stdout",
       "text": [
        "\n",
        "0.114405578237\n",
        "0.126977995331"
       ]
      },
      {
       "output_type": "stream",
       "stream": "stdout",
       "text": [
        "\n",
        "0.0672179119272\n",
        "0.117005461286"
       ]
      },
      {
       "output_type": "stream",
       "stream": "stdout",
       "text": [
        "\n",
        "0.0339124716363\n",
        "0.0981707449437"
       ]
      },
      {
       "output_type": "stream",
       "stream": "stdout",
       "text": [
        "\n",
        "0.101559995862"
       ]
      },
      {
       "output_type": "stream",
       "stream": "stdout",
       "text": [
        "\n",
        "0.0203371747475"
       ]
      },
      {
       "output_type": "stream",
       "stream": "stdout",
       "text": [
        "\n",
        "0.0026137120885"
       ]
      },
      {
       "output_type": "stream",
       "stream": "stdout",
       "text": [
        "\n",
        "0.0556986123069"
       ]
      },
      {
       "output_type": "stream",
       "stream": "stdout",
       "text": [
        "\n"
       ]
      },
      {
       "metadata": {},
       "output_type": "display_data",
       "png": "[encoded data removed]",
       "text": [
        "<matplotlib.figure.Figure at 0x1070d4390>"
       ]
      }
     ],
     "prompt_number": 29
    },
    {
     "cell_type": "markdown",
     "metadata": {},
     "source": [
      "For larger values of N, the integral seems to follow a linear curve on a log scale."
     ]
    },
    {
     "cell_type": "markdown",
     "metadata": {},
     "source": [
      "(c) Estimate the same integral using the sample mean method and compute the statistical uncertainty and error as a function of the number of samples N for N\u2265104. Use at least 100 different values for N.\n",
      "Make a log-log plot of both the statistical uncertainty and the error as a function of N.\n",
      "How many samples are needed to determine the result to two decimal places? What is the approximate functional dependence of the error on N for large N?"
     ]
    },
    {
     "cell_type": "code",
     "collapsed": false,
     "input": [
      "N = np.logspace(4,8,num=100)\n",
      "a = 1\n",
      "for i in N:\n",
      "    samples_x = xmin + (xmax-xmin)*np.random.random_sample(i);\n",
      "    samples_y = ymin + (ymax-ymin)*np.random.random_sample(i);\n",
      "\n",
      "    approx = f(samples_x)\n",
      "    I = approx.mean()*(xmax-xmin)\n",
      "    Iunc = (xmax-xmin)*np.sqrt(((approx**2).mean()-(approx.mean())**2)/i)\n",
      "    error = abs((np.pi-I)/np.pi)*100\n",
      "    plt.loglog(i,Iunc,'or',label = 'Uncertainty')\n",
      "    plt.loglog(i,error,'ob',label = 'Error')\n",
      "    plt.xlabel('N (Number of Samples)')\n",
      "    \n",
      "    if error < 10**-2 and a == 1:\n",
      "        a = 0\n",
      "        print 'Samples to determine result to two decimal places',i"
     ],
     "language": "python",
     "metadata": {},
     "outputs": [
      {
       "output_type": "stream",
       "stream": "stdout",
       "text": [
        "Samples to determine result to two decimal places 58570.2081806\n"
       ]
      },
      {
       "ename": "KeyboardInterrupt",
       "evalue": "",
       "output_type": "pyerr",
       "traceback": [
        "\u001b[0;31m---------------------------------------------------------------------------\u001b[0m\n\u001b[0;31mKeyboardInterrupt\u001b[0m                         Traceback (most recent call last)",
        "\u001b[0;32m<ipython-input-22-8269841f84b1>\u001b[0m in \u001b[0;36m<module>\u001b[0;34m()\u001b[0m\n\u001b[1;32m      6\u001b[0m \u001b[0;34m\u001b[0m\u001b[0m\n\u001b[1;32m      7\u001b[0m     \u001b[0mapprox\u001b[0m \u001b[0;34m=\u001b[0m \u001b[0mf\u001b[0m\u001b[0;34m(\u001b[0m\u001b[0msamples_x\u001b[0m\u001b[0;34m)\u001b[0m\u001b[0;34m\u001b[0m\u001b[0m\n\u001b[0;32m----> 8\u001b[0;31m     \u001b[0mI\u001b[0m \u001b[0;34m=\u001b[0m \u001b[0mapprox\u001b[0m\u001b[0;34m.\u001b[0m\u001b[0mmean\u001b[0m\u001b[0;34m(\u001b[0m\u001b[0;34m)\u001b[0m\u001b[0;34m*\u001b[0m\u001b[0;34m(\u001b[0m\u001b[0mxmax\u001b[0m\u001b[0;34m-\u001b[0m\u001b[0mxmin\u001b[0m\u001b[0;34m)\u001b[0m\u001b[0;34m\u001b[0m\u001b[0m\n\u001b[0m\u001b[1;32m      9\u001b[0m     \u001b[0mIunc\u001b[0m \u001b[0;34m=\u001b[0m \u001b[0;34m(\u001b[0m\u001b[0mxmax\u001b[0m\u001b[0;34m-\u001b[0m\u001b[0mxmin\u001b[0m\u001b[0;34m)\u001b[0m\u001b[0;34m*\u001b[0m\u001b[0mnp\u001b[0m\u001b[0;34m.\u001b[0m\u001b[0msqrt\u001b[0m\u001b[0;34m(\u001b[0m\u001b[0;34m(\u001b[0m\u001b[0;34m(\u001b[0m\u001b[0mapprox\u001b[0m\u001b[0;34m**\u001b[0m\u001b[0;36m2\u001b[0m\u001b[0;34m)\u001b[0m\u001b[0;34m.\u001b[0m\u001b[0mmean\u001b[0m\u001b[0;34m(\u001b[0m\u001b[0;34m)\u001b[0m\u001b[0;34m-\u001b[0m\u001b[0;34m(\u001b[0m\u001b[0mapprox\u001b[0m\u001b[0;34m.\u001b[0m\u001b[0mmean\u001b[0m\u001b[0;34m(\u001b[0m\u001b[0;34m)\u001b[0m\u001b[0;34m)\u001b[0m\u001b[0;34m**\u001b[0m\u001b[0;36m2\u001b[0m\u001b[0;34m)\u001b[0m\u001b[0;34m/\u001b[0m\u001b[0mi\u001b[0m\u001b[0;34m)\u001b[0m\u001b[0;34m\u001b[0m\u001b[0m\n\u001b[1;32m     10\u001b[0m     \u001b[0merror\u001b[0m \u001b[0;34m=\u001b[0m \u001b[0mabs\u001b[0m\u001b[0;34m(\u001b[0m\u001b[0;34m(\u001b[0m\u001b[0mnp\u001b[0m\u001b[0;34m.\u001b[0m\u001b[0mpi\u001b[0m\u001b[0;34m-\u001b[0m\u001b[0mI\u001b[0m\u001b[0;34m)\u001b[0m\u001b[0;34m/\u001b[0m\u001b[0mnp\u001b[0m\u001b[0;34m.\u001b[0m\u001b[0mpi\u001b[0m\u001b[0;34m)\u001b[0m\u001b[0;34m*\u001b[0m\u001b[0;36m100\u001b[0m\u001b[0;34m\u001b[0m\u001b[0m\n",
        "\u001b[0;32m/Applications/anaconda/lib/python2.7/site-packages/numpy/core/_methods.pyc\u001b[0m in \u001b[0;36m_mean\u001b[0;34m(a, axis, dtype, out, keepdims)\u001b[0m\n\u001b[1;32m     60\u001b[0m         \u001b[0mdtype\u001b[0m \u001b[0;34m=\u001b[0m \u001b[0mmu\u001b[0m\u001b[0;34m.\u001b[0m\u001b[0mdtype\u001b[0m\u001b[0;34m(\u001b[0m\u001b[0;34m'f8'\u001b[0m\u001b[0;34m)\u001b[0m\u001b[0;34m\u001b[0m\u001b[0m\n\u001b[1;32m     61\u001b[0m \u001b[0;34m\u001b[0m\u001b[0m\n\u001b[0;32m---> 62\u001b[0;31m     \u001b[0mret\u001b[0m \u001b[0;34m=\u001b[0m \u001b[0mum\u001b[0m\u001b[0;34m.\u001b[0m\u001b[0madd\u001b[0m\u001b[0;34m.\u001b[0m\u001b[0mreduce\u001b[0m\u001b[0;34m(\u001b[0m\u001b[0marr\u001b[0m\u001b[0;34m,\u001b[0m \u001b[0maxis\u001b[0m\u001b[0;34m=\u001b[0m\u001b[0maxis\u001b[0m\u001b[0;34m,\u001b[0m \u001b[0mdtype\u001b[0m\u001b[0;34m=\u001b[0m\u001b[0mdtype\u001b[0m\u001b[0;34m,\u001b[0m \u001b[0mout\u001b[0m\u001b[0;34m=\u001b[0m\u001b[0mout\u001b[0m\u001b[0;34m,\u001b[0m \u001b[0mkeepdims\u001b[0m\u001b[0;34m=\u001b[0m\u001b[0mkeepdims\u001b[0m\u001b[0;34m)\u001b[0m\u001b[0;34m\u001b[0m\u001b[0m\n\u001b[0m\u001b[1;32m     63\u001b[0m     \u001b[0;32mif\u001b[0m \u001b[0misinstance\u001b[0m\u001b[0;34m(\u001b[0m\u001b[0mret\u001b[0m\u001b[0;34m,\u001b[0m \u001b[0mmu\u001b[0m\u001b[0;34m.\u001b[0m\u001b[0mndarray\u001b[0m\u001b[0;34m)\u001b[0m\u001b[0;34m:\u001b[0m\u001b[0;34m\u001b[0m\u001b[0m\n\u001b[1;32m     64\u001b[0m         ret = um.true_divide(\n",
        "\u001b[0;31mKeyboardInterrupt\u001b[0m: "
       ]
      },
      {
       "metadata": {},
       "output_type": "display_data",
       "png": "[encoded data removed]",
       "text": [
        "<matplotlib.figure.Figure at 0x102072210>"
       ]
      }
     ],
     "prompt_number": 22
    },
    {
     "cell_type": "code",
     "collapsed": false,
     "input": [],
     "language": "python",
     "metadata": {},
     "outputs": []
    }
   ],
   "metadata": {}
  }
 ]
}