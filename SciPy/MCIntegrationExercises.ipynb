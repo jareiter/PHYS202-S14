{
 "metadata": {
  "name": "",
  "signature": "sha256:170f7c4cb328081a2ff7845d5872cd07ee76f16ccb90810b9fdc820a9108e28e"
 },
 "nbformat": 3,
 "nbformat_minor": 0,
 "worksheets": [
  {
   "cells": [
    {
     "cell_type": "heading",
     "level": 1,
     "metadata": {},
     "source": [
      "Monte Carlo Integration Exercises"
     ]
    },
    {
     "cell_type": "code",
     "collapsed": false,
     "input": [
      "%pylab inline\n",
      "import numpy as np\n",
      "import matplotlib.pyplot as plt"
     ],
     "language": "python",
     "metadata": {},
     "outputs": [
      {
       "output_type": "stream",
       "stream": "stdout",
       "text": [
        "Populating the interactive namespace from numpy and matplotlib\n"
       ]
      }
     ],
     "prompt_number": 2
    },
    {
     "cell_type": "heading",
     "level": 3,
     "metadata": {},
     "source": [
      "Question 1"
     ]
    },
    {
     "cell_type": "markdown",
     "metadata": {},
     "source": [
      "Let\u2019s compute the electric potential from a plane of charge as shown in the figure using Monte Carlo integration."
     ]
    },
    {
     "cell_type": "markdown",
     "metadata": {},
     "source": [
      "The integral comes from summing all the potentials from the chunks of \u201cpoint\u201d charges. Just as we summed two charges for a dipole, now we\u2019ll sum many charges. The important part is to understand how dQ, modeled as a point charge, is related to \u03c3dA, where \u03c3 is the surface charge density = charge/area (\u03c3=Q/A ) Review your notes from PHYS 133 if you need a refresher.\n",
      "We want to use our previously defined pointPotential() function from Electrostatics.py, so we have to import it."
     ]
    },
    {
     "cell_type": "code",
     "collapsed": false,
     "input": [
      "#import our point potential function\n",
      "from Electrostatics import *"
     ],
     "language": "python",
     "metadata": {},
     "outputs": [],
     "prompt_number": 2
    },
    {
     "cell_type": "markdown",
     "metadata": {},
     "source": [
      "(a) Use the sample mean method to compute the potential at point P(2,3) due to the disk of charge for different numbers of samples N=(101,102,103,104,105,106). Report the value and its statistical uncertainty for each sample size. How does the result depend on N?"
     ]
    },
    {
     "cell_type": "code",
     "collapsed": false,
     "input": [
      "xmin = -1.\n",
      "xmax = 1.\n",
      "ymin = 0.\n",
      "ymax = 2.\n",
      "q = (10**-6)#*((xmax-xmin)*(ymax-ymin))\n",
      "\n",
      "N = [10,100,1000,10000,100000,1000000]\n",
      "for i in N:\n",
      "    samples_x = xmin + (xmax-xmin)*np.random.random_sample(i);\n",
      "    samples_y = ymin + (ymax-ymin)*np.random.random_sample(i);\n",
      "\n",
      "    approx = pointPotential(2.,3.,q,samples_x,samples_y)\n",
      "    I = approx.mean()*(xmax-xmin)*(ymax-ymin)\n",
      "\n",
      "    Iunc = (xmax-xmin)*(ymax-ymin)*np.sqrt(((approx**2).mean()-(approx.mean())**2)/i)\n",
      "\n",
      "    print \"I = \",I\n",
      "    print \"Uncertainty = \",Iunc"
     ],
     "language": "python",
     "metadata": {},
     "outputs": [
      {
       "output_type": "stream",
       "stream": "stdout",
       "text": [
        "I =  12549.8641549\n",
        "Uncertainty =  566.604655698\n",
        "I =  12670.3799475\n",
        "Uncertainty =  251.497391353\n",
        "I =  13008.1341525\n",
        "Uncertainty =  93.3000133577\n",
        "I =  13037.946269\n",
        "Uncertainty =  29.6836629926\n",
        "I =  13021.2696206\n",
        "Uncertainty =  9.36787467701\n",
        "I = "
       ]
      },
      {
       "output_type": "stream",
       "stream": "stdout",
       "text": [
        " 13026.421319\n",
        "Uncertainty =  2.97228937575\n"
       ]
      }
     ],
     "prompt_number": 3
    },
    {
     "cell_type": "markdown",
     "metadata": {},
     "source": [
      "(b) Now use the same method to compute the electric potential, V, at point P(2,3), from a disk centered on the origin with radius, R=1.2 cm, and charge density, \u03c3 = 2 nC/m2 ."
     ]
    },
    {
     "cell_type": "code",
     "collapsed": false,
     "input": [
      "rmin = 0.\n",
      "rmax = 1.2\n",
      "thetamin = 0.\n",
      "thetamax = 2*np.pi\n",
      "sigma = 2*(10**-9)\n",
      "K = 8.987551787997912**9\n",
      "\n",
      "\n",
      "V = lambda r,theta: K*sigma*r/(abs(((2-r*np.cos(theta))**2 + (3-r*np.sin(theta))**2)**(1/2)))\n",
      "\n",
      "N = [10,100,1000,10000,100000,1000000]\n",
      "for i in N:\n",
      "    samples_r = rmin + (rmax-rmin)*np.random.random_sample(i);\n",
      "    samples_theta = thetamin + (thetamax-thetamin)*np.random.random_sample(i);\n",
      "\n",
      "    approx = V(samples_r,samples_theta)\n",
      "    I = approx.mean()*(xmax-xmin)*(ymax-ymin)\n",
      "\n",
      "    Iunc = (xmax-xmin)*(ymax-ymin)*np.sqrt(((approx**2).mean()-(approx.mean())**2)/i)\n",
      "\n",
      "    print \"I = \",I\n",
      "    print \"Uncertainty = \",Iunc"
     ],
     "language": "python",
     "metadata": {},
     "outputs": [
      {
       "output_type": "stream",
       "stream": "stdout",
       "text": [
        "I =  2.08711826686\n",
        "Uncertainty =  0.333025424604\n",
        "I =  1.70594217578\n",
        "Uncertainty =  0.109287269118\n",
        "I =  1.86877848564\n",
        "Uncertainty =  0.0339805091149\n",
        "I =  1.8293513884\n",
        "Uncertainty =  0.0106148569789\n",
        "I = "
       ]
      },
      {
       "output_type": "stream",
       "stream": "stdout",
       "text": [
        " 1.83540382355\n",
        "Uncertainty =  0.0033532518915\n",
        "I = "
       ]
      },
      {
       "output_type": "stream",
       "stream": "stdout",
       "text": [
        " 1.83759071066\n",
        "Uncertainty =  0.00105966499577\n"
       ]
      }
     ],
     "prompt_number": 4
    },
    {
     "cell_type": "heading",
     "level": 3,
     "metadata": {},
     "source": [
      "Question 2"
     ]
    },
    {
     "cell_type": "markdown",
     "metadata": {},
     "source": [
      "Use the sample mean method to compute the volume of a sphere with radius 1 using spherical coordinates:\n",
      "V=\u222b10\u222b\u03c00\u222b2\u03c00r2sin(\u03b8)drd\u03b8d\u03d5\n",
      "for N=(101,102,103,104,105,106). Report the value and statistical uncertainty for each sample size. How does the result depend on N?"
     ]
    },
    {
     "cell_type": "code",
     "collapsed": false,
     "input": [
      "f =  lambda r,theta,phi: (r**2)*np.sin(theta)\n",
      "rmin = 0.; rmax = 1.0\n",
      "thetamin = 0.; thetamax = np.pi\n",
      "phimin = 0.; phimax = 2*np.pi\n",
      "\n",
      "i = (10,100,1000,10000,100000,1000000)\n",
      "for N in i:\n",
      "    r = (rmax-rmin)*np.random.random_sample(N)\n",
      "    theta = (thetamax-thetamin)*np.random.random_sample(N)\n",
      "    phi = (phimax-phimin)*np.random.random_sample(N)\n",
      "\n",
      "    I = (rmax-rmin)*(thetamax-thetamin)*(phimax-phimin)*f(r,theta,phi).mean()\n",
      "    err = (rmax-rmin)*(thetamax-thetamin)*(phimax-phimin)*np.sqrt(((f(r,theta,phi)**2).mean() - (f(r,theta,phi).mean())**2)/N)\n",
      "    \n",
      "    print \"I = \",I,\" +/-\",err"
     ],
     "language": "python",
     "metadata": {},
     "outputs": [
      {
       "output_type": "stream",
       "stream": "stdout",
       "text": [
        "I =  2.9368439955  +/- 0.75085151983\n",
        "I =  4.05217643022  +/- 0.426809095199\n",
        "I =  4.42344401779  +/- 0.149105763851\n",
        "I =  4.20033499218  +/- 0.0459084570571\n",
        "I = "
       ]
      },
      {
       "output_type": "stream",
       "stream": "stdout",
       "text": [
        " 4.18742639672  +/- 0.0146479170508\n",
        "I = "
       ]
      },
      {
       "output_type": "stream",
       "stream": "stdout",
       "text": [
        " 4.18709542141  +/- 0.00462848603472\n"
       ]
      }
     ],
     "prompt_number": 5
    },
    {
     "cell_type": "heading",
     "level": 3,
     "metadata": {},
     "source": [
      "Question 3"
     ]
    },
    {
     "cell_type": "markdown",
     "metadata": {},
     "source": [
      "(a) Use the hit or miss Monte Carlo method to estimate the integral of f(x)=41\u2212x2\u203e\u203e\u203e\u203e\u203e\u203e\u203e\u221a in the interval 0\u2264x\u22641 as a function of N, the number of samples. Let N range from 101 to 106 and use at least 100 different values for N.\n",
      "(np.logspace might be useful here to get evenly spaced values for N.)"
     ]
    },
    {
     "cell_type": "code",
     "collapsed": false,
     "input": [
      "f = lambda x: 4.*np.sqrt(1.-x**2.)"
     ],
     "language": "python",
     "metadata": {},
     "outputs": [],
     "prompt_number": 3
    },
    {
     "cell_type": "code",
     "collapsed": false,
     "input": [
      "x = np.arange(0.,1.,0.001)\n",
      "N = np.logspace(1,6,num=100)\n",
      "xmin = 0.\n",
      "xmax = 1.\n",
      "subx = x[logical_and((x>xmin),(x<xmax))]\n",
      "ymax = f(subx).max()*1.05\n",
      "ymin = 0\n",
      "for i in N:\n",
      "    samples_x = xmin + (xmax-xmin)*np.random.random_sample(i);\n",
      "    samples_y = ymin + (ymax-ymin)*np.random.random_sample(i);\n",
      "    newmask = (samples_y < f(samples_x))\n",
      "    I = (xmax-xmin)*(ymax-ymin)*newmask.sum()/newmask.size\n",
      "    print I"
     ],
     "language": "python",
     "metadata": {},
     "outputs": [
      {
       "output_type": "stream",
       "stream": "stdout",
       "text": [
        "2.93999853\n",
        "3.05454392727\n",
        "2.449998775\n",
        "3.29999835\n",
        "3.63999818\n",
        "3.9529392\n",
        "3.149998425\n",
        "3.24545292273\n",
        "2.855998572\n",
        "2.69999865\n",
        "3.52257888387\n",
        "3.11999844\n",
        "3.149998425\n",
        "3.17333174667\n",
        "3.275998362\n",
        "3.46315616316\n",
        "2.69062365469\n",
        "3.149998425\n",
        "2.95555407778\n",
        "2.86153703077\n",
        "2.9647044\n",
        "3.09473529474\n",
        "3.25581232558\n",
        "3.15723980069\n",
        "3.24073912037\n",
        "2.96065425738\n",
        "3.05268140049\n",
        "3.16363478182\n",
        "3.12972816486\n",
        "3.08865824948\n",
        "3.15963144771\n",
        "3.11280498311\n",
        "3.10169336441\n",
        "3.18620530345\n",
        "3.14395236276\n",
        "3.02974207487\n",
        "3.06849161644\n",
        "3.22246117632\n",
        "3.23855259759\n",
        "3.20858208669\n",
        "3.17707577536\n",
        "3.0749984625\n",
        "3.06176985443\n",
        "3.16414936132\n",
        "3.17769625288\n",
        "3.08552969055\n",
        "3.15199462172\n",
        "3.14644512728\n",
        "3.19901948483\n",
        "3.12993474076\n",
        "3.05693669893\n",
        "3.14888259134\n",
        "3.14428785798\n",
        "3.19376682417\n",
        "3.14527578868\n",
        "3.15945787973\n",
        "3.1528050764\n",
        "3.13722741076\n",
        "3.12145307032\n",
        "3.13470770452\n",
        "3.14666882398"
       ]
      },
      {
       "output_type": "stream",
       "stream": "stdout",
       "text": [
        "\n",
        "3.17414536187\n",
        "3.13928889599\n",
        "3.13749431914\n",
        "3.14292585781\n",
        "3.11162053085\n",
        "3.14531963046\n",
        "3.14605024301\n",
        "3.12377257826\n",
        "3.13906451207\n",
        "3.14730486291\n",
        "3.14146981891\n",
        "3.15337010534"
       ]
      },
      {
       "output_type": "stream",
       "stream": "stdout",
       "text": [
        "\n",
        "3.12810274229\n",
        "3.1296604761\n",
        "3.13245821962\n",
        "3.13357647343\n",
        "3.14861516942"
       ]
      },
      {
       "output_type": "stream",
       "stream": "stdout",
       "text": [
        "\n",
        "3.15330630846\n",
        "3.14810692134\n",
        "3.14392320184"
       ]
      },
      {
       "output_type": "stream",
       "stream": "stdout",
       "text": [
        "\n",
        "3.14199252394\n",
        "3.1429017848"
       ]
      },
      {
       "output_type": "stream",
       "stream": "stdout",
       "text": [
        "\n",
        "3.14289120144\n",
        "3.14319678951"
       ]
      },
      {
       "output_type": "stream",
       "stream": "stdout",
       "text": [
        "\n",
        "3.13855189881"
       ]
      },
      {
       "output_type": "stream",
       "stream": "stdout",
       "text": [
        "\n",
        "3.14089896603"
       ]
      },
      {
       "output_type": "stream",
       "stream": "stdout",
       "text": [
        "\n",
        "3.13860008507"
       ]
      },
      {
       "output_type": "stream",
       "stream": "stdout",
       "text": [
        "\n",
        "3.14102877934"
       ]
      },
      {
       "output_type": "stream",
       "stream": "stdout",
       "text": [
        "\n",
        "3.13765995447"
       ]
      },
      {
       "output_type": "stream",
       "stream": "stdout",
       "text": [
        "\n",
        "3.14298584873"
       ]
      },
      {
       "output_type": "stream",
       "stream": "stdout",
       "text": [
        "\n",
        "3.14240601462"
       ]
      },
      {
       "output_type": "stream",
       "stream": "stdout",
       "text": [
        "\n",
        "3.14205935949"
       ]
      },
      {
       "output_type": "stream",
       "stream": "stdout",
       "text": [
        "\n",
        "3.1444330493"
       ]
      },
      {
       "output_type": "stream",
       "stream": "stdout",
       "text": [
        "\n",
        "3.14642443661"
       ]
      },
      {
       "output_type": "stream",
       "stream": "stdout",
       "text": [
        "\n",
        "3.13992190491"
       ]
      },
      {
       "output_type": "stream",
       "stream": "stdout",
       "text": [
        "\n",
        "3.14000268242"
       ]
      },
      {
       "output_type": "stream",
       "stream": "stdout",
       "text": [
        "\n",
        "3.14250185469"
       ]
      },
      {
       "output_type": "stream",
       "stream": "stdout",
       "text": [
        "\n",
        "3.14300523022"
       ]
      },
      {
       "output_type": "stream",
       "stream": "stdout",
       "text": [
        "\n",
        "3.13942283029"
       ]
      },
      {
       "output_type": "stream",
       "stream": "stdout",
       "text": [
        "\n"
       ]
      }
     ],
     "prompt_number": 4
    },
    {
     "cell_type": "markdown",
     "metadata": {},
     "source": [
      "(b) Calculate the percent error for the N values from part (a) using the exact result \u03c0. Make a log-log plot of the error as a function of N.\n",
      "What is the approximate functional dependence of the error on N for large N, for example N\u2265104?"
     ]
    },
    {
     "cell_type": "code",
     "collapsed": false,
     "input": [
      "for i in N:\n",
      "    samples_x = xmin + (xmax-xmin)*np.random.random_sample(i);\n",
      "    samples_y = ymin + (ymax-ymin)*np.random.random_sample(i);\n",
      "    newmask = (samples_y < f(samples_x))\n",
      "    I = (xmax-xmin)*(ymax-ymin)*newmask.sum()/newmask.size\n",
      "    error = abs((np.pi-I)/np.pi)*100\n",
      "    print error\n",
      "    plt.loglog(i,error,'or');\n",
      "    plt.ylabel('N (Number of Samples')\n",
      "    plt.xlabel('Percent Error')"
     ],
     "language": "python",
     "metadata": {},
     "outputs": [
      {
       "output_type": "stream",
       "stream": "stdout",
       "text": [
        "6.41694025353\n",
        "9.38279710626"
       ]
      },
      {
       "output_type": "stream",
       "stream": "stdout",
       "text": [
        "\n",
        "22.5492449061\n",
        "24.1407935412\n",
        "10.8732764319\n",
        "29.2228959901"
       ]
      },
      {
       "output_type": "stream",
       "stream": "stdout",
       "text": [
        "\n",
        "6.95206828168\n",
        "9.38279710626\n",
        "3.74313854649\n",
        "23.6056655131"
       ]
      },
      {
       "output_type": "stream",
       "stream": "stdout",
       "text": [
        "\n",
        "0.810581835539\n",
        "15.9662320644\n",
        "3.07468811973\n",
        "7.90238564633"
       ]
      },
      {
       "output_type": "stream",
       "stream": "stdout",
       "text": [
        "\n",
        "1.06933683945\n",
        "3.19936413145\n",
        "5.99915873681\n",
        "0.267564014074\n",
        "10.8732764319\n",
        "0.0997164401895"
       ]
      },
      {
       "output_type": "stream",
       "stream": "stdout",
       "text": [
        "\n",
        "6.94121509805\n",
        "0.3187960094\n",
        "1.54606117481\n",
        "8.79606945895\n",
        "3.15593005563\n",
        "5.1987556869"
       ]
      },
      {
       "output_type": "stream",
       "stream": "stdout",
       "text": [
        "\n",
        "2.83013308555\n",
        "5.91032735686\n",
        "5.81647682309\n",
        "0.612126089724\n",
        "2.28767462033\n",
        "0.905050797089\n",
        "1.9670142516"
       ]
      },
      {
       "output_type": "stream",
       "stream": "stdout",
       "text": [
        "\n",
        "0.884936721719\n",
        "3.7739308886\n",
        "0.360893652111\n",
        "2.32687828157\n",
        "0.403244073633\n",
        "1.79775173798\n",
        "1.98889558513"
       ]
      },
      {
       "output_type": "stream",
       "stream": "stdout",
       "text": [
        "\n",
        "2.57350991055\n",
        "3.6780253751\n",
        "0.213153552483\n",
        "3.06567935387\n",
        "0.588163739139\n",
        "0.642499300522\n",
        "0.712350419714"
       ]
      },
      {
       "output_type": "stream",
       "stream": "stdout",
       "text": [
        "\n",
        "1.82487810015\n",
        "1.39349502833\n",
        "0.281448237204\n",
        "0.81612822583\n",
        "0.265207314374\n",
        "0.578075565772"
       ]
      },
      {
       "output_type": "stream",
       "stream": "stdout",
       "text": [
        "\n",
        "0.562721779165\n",
        "0.242509650253\n",
        "0.591139403686\n",
        "1.90543631012\n",
        "0.302913058324\n",
        "0.562393853682\n",
        "0.116996343301"
       ]
      },
      {
       "output_type": "stream",
       "stream": "stdout",
       "text": [
        "\n",
        "0.423423561444\n",
        "0.883979892549\n",
        "0.914770266149\n",
        "0.236005785676\n",
        "0.0189457155956\n",
        "0.0427605700677"
       ]
      },
      {
       "output_type": "stream",
       "stream": "stdout",
       "text": [
        "\n",
        "0.366851117938\n",
        "0.145366603671\n",
        "0.17380752024\n",
        "0.478855514137\n",
        "0.227382372345"
       ]
      },
      {
       "output_type": "stream",
       "stream": "stdout",
       "text": [
        "\n",
        "0.450570423892\n",
        "0.347091809898\n",
        "0.150716471043\n",
        "0.00934747120443"
       ]
      },
      {
       "output_type": "stream",
       "stream": "stdout",
       "text": [
        "\n",
        "0.0338857980994\n",
        "0.111631234255\n",
        "0.192453344366"
       ]
      },
      {
       "output_type": "stream",
       "stream": "stdout",
       "text": [
        "\n",
        "0.218936687445\n",
        "0.142948018736\n",
        "0.164572568297"
       ]
      },
      {
       "output_type": "stream",
       "stream": "stdout",
       "text": [
        "\n",
        "0.153701234136\n",
        "0.0213984851854"
       ]
      },
      {
       "output_type": "stream",
       "stream": "stdout",
       "text": [
        "\n",
        "0.113353084875\n",
        "0.128329009416"
       ]
      },
      {
       "output_type": "stream",
       "stream": "stdout",
       "text": [
        "\n",
        "0.045712532822\n",
        "0.137271775624"
       ]
      },
      {
       "output_type": "stream",
       "stream": "stdout",
       "text": [
        "\n",
        "0.130337601245"
       ]
      },
      {
       "output_type": "stream",
       "stream": "stdout",
       "text": [
        "\n",
        "0.0376474887554"
       ]
      },
      {
       "output_type": "stream",
       "stream": "stdout",
       "text": [
        "\n",
        "0.0088442824687"
       ]
      },
      {
       "output_type": "stream",
       "stream": "stdout",
       "text": [
        "\n",
        "0.0691180167259"
       ]
      },
      {
       "output_type": "stream",
       "stream": "stdout",
       "text": [
        "\n",
        "0.125203495217"
       ]
      },
      {
       "output_type": "stream",
       "stream": "stdout",
       "text": [
        "\n",
        "0.0963258500313"
       ]
      },
      {
       "output_type": "stream",
       "stream": "stdout",
       "text": [
        "\n",
        "0.0818169324454"
       ]
      },
      {
       "output_type": "stream",
       "stream": "stdout",
       "text": [
        "\n",
        "0.0648460360762"
       ]
      },
      {
       "output_type": "stream",
       "stream": "stdout",
       "text": [
        "\n",
        "0.0570863579601"
       ]
      },
      {
       "output_type": "stream",
       "stream": "stdout",
       "text": [
        "\n",
        "0.118046696301"
       ]
      },
      {
       "output_type": "stream",
       "stream": "stdout",
       "text": [
        "\n",
        "0.159681677841"
       ]
      },
      {
       "output_type": "stream",
       "stream": "stdout",
       "text": [
        "\n",
        "0.0737977524124"
       ]
      },
      {
       "output_type": "stream",
       "stream": "stdout",
       "text": [
        "\n",
        "0.00115305748324"
       ]
      },
      {
       "output_type": "stream",
       "stream": "stdout",
       "text": [
        "\n"
       ]
      },
      {
       "metadata": {},
       "output_type": "display_data",
       "png": "[encoded data removed]",
       "text": [
        "<matplotlib.figure.Figure at 0x9f6bc18>"
       ]
      }
     ],
     "prompt_number": 8
    },
    {
     "cell_type": "markdown",
     "metadata": {},
     "source": [
      "For larger values of N, the integral seems to follow a linear curve on a log scale."
     ]
    },
    {
     "cell_type": "markdown",
     "metadata": {},
     "source": [
      "(c) Estimate the same integral using the sample mean method and compute the statistical uncertainty and error as a function of the number of samples N for N\u2265104. Use at least 100 different values for N.\n",
      "Make a log-log plot of both the statistical uncertainty and the error as a function of N.\n",
      "How many samples are needed to determine the result to two decimal places? What is the approximate functional dependence of the error on N for large N?"
     ]
    },
    {
     "cell_type": "code",
     "collapsed": false,
     "input": [
      "N = np.logspace(4,6,num=100)\n",
      "a = 1\n",
      "for i in N:\n",
      "    samples_x = xmin + (xmax-xmin)*np.random.random_sample(i);\n",
      "    samples_y = ymin + (ymax-ymin)*np.random.random_sample(i);\n",
      "\n",
      "    approx = f(samples_x)\n",
      "    I = approx.mean()*(xmax-xmin)\n",
      "    Iunc = (xmax-xmin)*np.sqrt(((approx**2).mean()-(approx.mean())**2)/i)\n",
      "    error = abs((np.pi-I)/np.pi)*100\n",
      "    plt.loglog(i,Iunc,'or',label = 'Uncertainty')\n",
      "    plt.loglog(i,error,'ob',label = 'Error')\n",
      "    plt.xlabel('N (Number of Samples)')"
     ],
     "language": "python",
     "metadata": {},
     "outputs": [
      {
       "metadata": {},
       "output_type": "display_data",
       "png": "[encoded data removed]",
       "text": [
        "<matplotlib.figure.Figure at 0xb05cfd0>"
       ]
      }
     ],
     "prompt_number": 6
    },
    {
     "cell_type": "markdown",
     "metadata": {},
     "source": [
      "In order to determine the result to two decimal places, only 10^4 samples are needed. Like before, for larger values of N, the integral seems to follow a linear curve on a log scale."
     ]
    },
    {
     "cell_type": "code",
     "collapsed": false,
     "input": [],
     "language": "python",
     "metadata": {},
     "outputs": []
    }
   ],
   "metadata": {}
  }
 ]
}