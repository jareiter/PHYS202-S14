{
 "metadata": {
  "name": "",
  "signature": "sha256:449992d7e02502580332871ede6d43bc3bd711e732e46a360360e442ec31f9a8"
 },
 "nbformat": 3,
 "nbformat_minor": 0,
 "worksheets": [
  {
   "cells": [
    {
     "cell_type": "heading",
     "level": 1,
     "metadata": {},
     "source": [
      "Monte Carlo Integration Exercises"
     ]
    },
    {
     "cell_type": "code",
     "collapsed": false,
     "input": [
      "%pylab inline\n",
      "import numpy as np\n",
      "import matplotlib.pyplot as plt"
     ],
     "language": "python",
     "metadata": {},
     "outputs": [
      {
       "output_type": "stream",
       "stream": "stdout",
       "text": [
        "Populating the interactive namespace from numpy and matplotlib\n"
       ]
      }
     ],
     "prompt_number": 1
    },
    {
     "cell_type": "heading",
     "level": 3,
     "metadata": {},
     "source": [
      "Question 1"
     ]
    },
    {
     "cell_type": "markdown",
     "metadata": {},
     "source": [
      "Let\u2019s compute the electric potential from a plane of charge as shown in the figure using Monte Carlo integration."
     ]
    },
    {
     "cell_type": "markdown",
     "metadata": {},
     "source": [
      "The integral comes from summing all the potentials from the chunks of \u201cpoint\u201d charges. Just as we summed two charges for a dipole, now we\u2019ll sum many charges. The important part is to understand how dQ, modeled as a point charge, is related to \u03c3dA, where \u03c3 is the surface charge density = charge/area (\u03c3=Q/A ) Review your notes from PHYS 133 if you need a refresher.\n",
      "We want to use our previously defined pointPotential() function from Electrostatics.py, so we have to import it."
     ]
    },
    {
     "cell_type": "code",
     "collapsed": false,
     "input": [
      "#import our point potential function\n",
      "from Electrostatics import *"
     ],
     "language": "python",
     "metadata": {},
     "outputs": [],
     "prompt_number": 2
    },
    {
     "cell_type": "markdown",
     "metadata": {},
     "source": [
      "(a) Use the sample mean method to compute the potential at point P(2,3) due to the disk of charge for different numbers of samples N=(101,102,103,104,105,106). Report the value and its statistical uncertainty for each sample size. How does the result depend on N?"
     ]
    },
    {
     "cell_type": "code",
     "collapsed": false,
     "input": [
      "xmin = -1.\n",
      "xmax = 1.\n",
      "ymin = 0.\n",
      "ymax = 2.\n",
      "q = (10**-6)#*((xmax-xmin)*(ymax-ymin))\n",
      "\n",
      "N = [10,100,1000,10000,100000,1000000]\n",
      "for i in N:\n",
      "    samples_x = xmin + (xmax-xmin)*np.random.random_sample(i);\n",
      "    samples_y = ymin + (ymax-ymin)*np.random.random_sample(i);\n",
      "\n",
      "    approx = pointPotential(2.,3.,q,samples_x,samples_y)\n",
      "    I = approx.mean()*(xmax-xmin)*(ymax-ymin)\n",
      "\n",
      "    Iunc = (xmax-xmin)*(ymax-ymin)*np.sqrt(((approx**2).mean()-(approx.mean())**2)/i)\n",
      "\n",
      "    print \"I = \",I\n",
      "    print \"Uncertainty = \",Iunc"
     ],
     "language": "python",
     "metadata": {},
     "outputs": [
      {
       "output_type": "stream",
       "stream": "stdout",
       "text": [
        "I =  14035.286992\n",
        "Uncertainty =  1392.28790038\n",
        "I =  13182.169284\n",
        "Uncertainty =  284.550726604\n",
        "I =  13046.0448115\n",
        "Uncertainty =  96.5762823289\n",
        "I =  13020.8445235\n",
        "Uncertainty =  29.7986142384\n",
        "I =  13029.4405398\n",
        "Uncertainty =  9.40871104984\n",
        "I = "
       ]
      },
      {
       "output_type": "stream",
       "stream": "stdout",
       "text": [
        " 13029.2232716\n",
        "Uncertainty =  2.97445235193\n"
       ]
      }
     ],
     "prompt_number": 15
    },
    {
     "cell_type": "markdown",
     "metadata": {},
     "source": [
      "(b) Now use the same method to compute the electric potential, V, at point P(2,3), from a disk centered on the origin with radius, R=1.2 cm, and charge density, \u03c3 = 2 nC/m2 ."
     ]
    },
    {
     "cell_type": "code",
     "collapsed": false,
     "input": [
      "rmin = 0.\n",
      "rmax = 1.2\n",
      "thetamin = 0.\n",
      "thetamax = 2*np.pi\n",
      "sigma = 2*(10**-9)\n",
      "K = 8.987551787997912**9\n",
      "\n",
      "\n",
      "V = lambda r,theta: K*sigma*r/(abs(((2-r*np.cos(theta))**2 + (3-r*np.sin(theta))**2)**(1/2)))\n",
      "\n",
      "N = [10,100,1000,10000,100000,1000000]\n",
      "for i in N:\n",
      "    samples_r = rmin + (rmax-rmin)*np.random.random_sample(i);\n",
      "    samples_theta = thetamin + (thetamax-thetamin)*np.random.random_sample(i);\n",
      "\n",
      "    approx = V(samples_r,samples_theta)\n",
      "    I = approx.mean()*(xmax-xmin)*(ymax-ymin)\n",
      "\n",
      "    Iunc = (xmax-xmin)*(ymax-ymin)*np.sqrt(((approx**2).mean()-(approx.mean())**2)/i)\n",
      "\n",
      "    print \"I = \",I\n",
      "    print \"Uncertainty = \",Iunc"
     ],
     "language": "python",
     "metadata": {},
     "outputs": [
      {
       "output_type": "stream",
       "stream": "stdout",
       "text": [
        "I =  1.89881087731\n",
        "Uncertainty =  0.267137888071\n",
        "I =  1.79147765636\n",
        "Uncertainty =  0.112962132016\n",
        "I =  1.80085991851\n",
        "Uncertainty =  0.0339048484033\n",
        "I =  1.84694454304\n",
        "Uncertainty =  0.0106548569972\n",
        "I =  1.83833870153\n",
        "Uncertainty =  0.00333874039391\n",
        "I = "
       ]
      },
      {
       "output_type": "stream",
       "stream": "stdout",
       "text": [
        " 1.83679664741\n",
        "Uncertainty =  0.00105993566685\n"
       ]
      }
     ],
     "prompt_number": 17
    },
    {
     "cell_type": "heading",
     "level": 3,
     "metadata": {},
     "source": [
      "Question 2"
     ]
    },
    {
     "cell_type": "markdown",
     "metadata": {},
     "source": [
      "Use the sample mean method to compute the volume of a sphere with radius 1 using spherical coordinates:\n",
      "V=\u222b10\u222b\u03c00\u222b2\u03c00r2sin(\u03b8)drd\u03b8d\u03d5\n",
      "for N=(101,102,103,104,105,106). Report the value and statistical uncertainty for each sample size. How does the result depend on N?"
     ]
    },
    {
     "cell_type": "code",
     "collapsed": false,
     "input": [
      "f =  lambda r,theta,phi: (r**2)*np.sin(theta)\n",
      "rmin = 0.; rmax = 1.0\n",
      "thetamin = 0.; thetamax = np.pi\n",
      "phimin = 0.; phimax = 2*np.pi\n",
      "\n",
      "i = (10,100,1000,10000,100000,1000000)\n",
      "for N in i:\n",
      "    r = (rmax-rmin)*np.random.random_sample(N)\n",
      "    theta = (thetamax-thetamin)*np.random.random_sample(N)\n",
      "    phi = (phimax-phimin)*np.random.random_sample(N)\n",
      "\n",
      "    I = (rmax-rmin)*(thetamax-thetamin)*(phimax-phimin)*f(r,theta,phi).mean()\n",
      "    err = (rmax-rmin)*(thetamax-thetamin)*(phimax-phimin)*np.sqrt(((f(r,theta,phi)**2).mean() - (f(r,theta,phi).mean())**2)/N)\n",
      "    \n",
      "    print \"I = \",I,\" +/-\",err"
     ],
     "language": "python",
     "metadata": {},
     "outputs": [
      {
       "output_type": "stream",
       "stream": "stdout",
       "text": [
        "I =  3.21503952274  +/- 1.37585185983\n",
        "I =  3.93765921004  +/- 0.449560684909\n",
        "I =  4.20968220914  +/- 0.147394582629\n",
        "I =  4.17997768476  +/- 0.0458096362407\n",
        "I =  4.17644489625  +/- 0.0145990501571\n",
        "I = "
       ]
      },
      {
       "output_type": "stream",
       "stream": "stdout",
       "text": [
        " 4.18543711323  +/- 0.0046277032838\n"
       ]
      }
     ],
     "prompt_number": 20
    },
    {
     "cell_type": "heading",
     "level": 3,
     "metadata": {},
     "source": [
      "Question 3"
     ]
    },
    {
     "cell_type": "code",
     "collapsed": false,
     "input": [],
     "language": "python",
     "metadata": {},
     "outputs": []
    }
   ],
   "metadata": {}
  }
 ]
}