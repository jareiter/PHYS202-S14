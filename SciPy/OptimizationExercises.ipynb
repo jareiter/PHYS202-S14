{
 "metadata": {
  "name": "",
  "signature": "sha256:1bf150221e610932066cb8adddf5fa8d256cccc05c8e89bc8d33d29eb179e707"
 },
 "nbformat": 3,
 "nbformat_minor": 0,
 "worksheets": [
  {
   "cells": [
    {
     "cell_type": "heading",
     "level": 1,
     "metadata": {},
     "source": [
      "Linear Regression, Optimization and Curve Fitting Exercises"
     ]
    },
    {
     "cell_type": "code",
     "collapsed": false,
     "input": [
      "%pylab inline\n",
      "import numpy as np\n",
      "import matplotlib.pyplot as plot"
     ],
     "language": "python",
     "metadata": {},
     "outputs": [
      {
       "output_type": "stream",
       "stream": "stdout",
       "text": [
        "Populating the interactive namespace from numpy and matplotlib\n"
       ]
      }
     ],
     "prompt_number": 1
    },
    {
     "cell_type": "heading",
     "level": 3,
     "metadata": {},
     "source": [
      "Question 1"
     ]
    },
    {
     "cell_type": "markdown",
     "metadata": {},
     "source": [
      "(a) Write a function that can compute the weighted linear least squares (WLSQ) best fit line to a set of data. Here is the function template to use:"
     ]
    },
    {
     "cell_type": "code",
     "collapsed": false,
     "input": [
      "def WeightedLLSqFit(x,y,w):\n",
      "    \"\"\"Take in arrays representing (x,y) values for a set of linearly varying data and an array of weights w.\n",
      "    Perform a weighted linear least squares regression.  Return the resulting slope and intercept\n",
      "    parameters of the best fit line with their uncertainties.\n",
      "\n",
      "    If the weights are all equal to one, the uncertainties on the parameters are calculated using the \n",
      "    non-weighted least squares equations.\"\"\"\n",
      "\n",
      "    xave = x.mean()\n",
      "    yave = y.mean()\n",
      "    x2ave = (x*x).mean()\n",
      "    xyave = (x*y).mean()\n",
      "    \n",
      "    if np.sum(w) == len(w):    \n",
      "        denom = (x2ave - xave**2)\n",
      "        m = (xyave - xave*yave)/denom\n",
      "        b = (x2ave*yave - xave*xyave)/denom\n",
      "        delta = y - (m*x + b)\n",
      "        d2ave = (delta*delta).mean()\n",
      "        n = len(y)\n",
      "        merr = sqrt((n-2)**(-1)*d2ave/denom)\n",
      "        berr = sqrt((n-2)**(-1)*d2ave*x2ave/denom)\n",
      "\n",
      "        return m,b,merr,berr\n",
      "\n",
      "    else:\n",
      "        wsum = sum(w)\n",
      "        wxsum = sum(w*x)\n",
      "        wysum = sum(w*y)\n",
      "        wx2sum = sum(w*x*x)\n",
      "        wxysum = sum(w*x*y)\n",
      "              \n",
      "        denom = wsum*wx2sum-wxsum**2\n",
      "        slope = (wsum*wxysum-wxsum*wysum)/denom\n",
      "        intercept = (wx2sum*wysum-wxsum*wxysum)/denom\n",
      "        slerr = np.sqrt(wsum/denom)\n",
      "        interr = np.sqrt(wx2sum/denom)\n",
      "        \n",
      "        return slope,slerr,intercept,interr"
     ],
     "language": "python",
     "metadata": {},
     "outputs": [],
     "prompt_number": 15
    },
    {
     "cell_type": "markdown",
     "metadata": {},
     "source": [
      "(b) For the data below, use the uncertainties on the position values as weights to perform a WLSQ best fit. Print the results of the fit, both the fitted parameter values and their uncertainties.\n",
      "   time = np.array([1.,2.,3.,4.,5.,6.,7.,8.,9.,10.])\n",
      "   pos = np.array([7.75, 7.33, 6.89, 6.45, 5.96, 5.55, 5.10, 4.49, 3.93, 3.58])\n",
      "   sigp = np.array([0.02, 0.03, 0.03, 0.04, 0.05, 0.06, 0.08, 0.11, 0.14, 0.17])\n",
      "If you did it right you should get m = -0.4510 \u00b1 0.0066 and b = 8.2201 \u00b1 0.0214."
     ]
    },
    {
     "cell_type": "code",
     "collapsed": false,
     "input": [
      "time = np.array([1.,2.,3.,4.,5.,6.,7.,8.,9.,10.])\n",
      "pos = np.array([7.75, 7.33, 6.89, 6.45, 5.96, 5.55, 5.10, 4.49, 3.93, 3.58])\n",
      "sigp = np.array([0.02, 0.03, 0.03, 0.04, 0.05, 0.06, 0.08, 0.11, 0.14, 0.17])\n",
      "\n",
      "m1,m1err,b1,b1err = WeightedLLSqFit(time,pos,sigp)\n",
      "print \"slope= %.4f +/- %.4f\" % (m1, m1err)\n",
      "print \"intercept= %.4f +/- %.4f\" % (b1, b1err)"
     ],
     "language": "python",
     "metadata": {},
     "outputs": [
      {
       "output_type": "stream",
       "stream": "stdout",
       "text": [
        "slope= -0.4794 +/- 0.4614\n",
        "intercept= 8.3439 +/- 3.5723\n"
       ]
      }
     ],
     "prompt_number": 18
    },
    {
     "cell_type": "markdown",
     "metadata": {},
     "source": [
      "(c) Now make an errorbar plot that shows the (time,position) data with markers and error bars \u03c3p. Also plot lines representing the results from the LSQ and WSLQ fits to these data. Include a legend that shows the fitted line equations with the fit parameters as you did in the tour, with labels indicating which one is the weighted result and which the unweighted result."
     ]
    },
    {
     "cell_type": "code",
     "collapsed": false,
     "input": [
      "plt.errorbar(time,pos,sigp,fmt=\"bo\",label=\"data with errors\")\n",
      "\n",
      "f = lambda x,m,b: m*x + b\n",
      "plt.plot(time,f(time,m1,b1)+8,label=\"WSLQ\")\n",
      "\n",
      "m1,m1err,b1,b1err = WeightedLLSqFit(time,pos,np.ones(len(time)))\n",
      "plt.plot(time,f(time,m1,b1)+8,label=\"LSQ\")\n",
      "\n",
      "plt.legend(loc=\"best\")\n",
      "plt.xlabel(\"time (s)\",fontsize=20)\n",
      "plt.ylabel(\"position (m)\",fontsize=20)\n",
      "\n",
      "plt.xlim(0.,11.)\n",
      "plt.ylim(-6.,9.)\n",
      "\n",
      "plt.show()"
     ],
     "language": "python",
     "metadata": {},
     "outputs": [
      {
       "metadata": {},
       "output_type": "display_data",
       "png": "[encoded data removed]",
       "text": [
        "<matplotlib.figure.Figure at 0x9cbd8d0>"
       ]
      }
     ],
     "prompt_number": 27
    },
    {
     "cell_type": "heading",
     "level": 3,
     "metadata": {},
     "source": [
      "Question 2"
     ]
    },
    {
     "cell_type": "markdown",
     "metadata": {},
     "source": [
      "(a) Download the linked file waveform_2.npy by right-clicking on the link and selecting \"Save Link As\". Read in the data and plot it."
     ]
    },
    {
     "cell_type": "code",
     "collapsed": false,
     "input": [
      "waveform = np.load('waveform_2.npy')\n",
      "t = np.arange(len(waveform))\n",
      "\n",
      "plt.plot(t, waveform)\n",
      "plt.xlabel(\"Time (ns)\",fontsize=20)\n",
      "plt.ylabel(\"Intensity (bins)\",fontsize=20)\n",
      "\n",
      "plt.show()"
     ],
     "language": "python",
     "metadata": {},
     "outputs": [
      {
       "metadata": {},
       "output_type": "display_data",
       "png": "[encoded data removed]",
       "text": [
        "<matplotlib.figure.Figure at 0xa0e3eb8>"
       ]
      }
     ],
     "prompt_number": 28
    },
    {
     "cell_type": "markdown",
     "metadata": {},
     "source": [
      "(b) This data is more complicated than that in waveform_1.npy from the tour, but not considerably so. It looks like it could be modeled as the sum of a noise floor and three Gaussian peaks with different amplitude, mean, and sigma. Write a function to model this data."
     ]
    },
    {
     "cell_type": "code",
     "collapsed": false,
     "input": [
      "def model(t, B, A, mu, sigma, A1, mu1, sigma1, A2, mu2, sigma2):\n",
      "    return B + A * exp( - ((t-mu)/sigma)**2 ) + A1 * exp( - ((t-mu1)/sigma1)**2 )+ A2 * exp( - ((t-mu2)/sigma2)**2 )"
     ],
     "language": "python",
     "metadata": {},
     "outputs": [],
     "prompt_number": 29
    },
    {
     "cell_type": "markdown",
     "metadata": {},
     "source": [
      "(c) By inspecting the graph, come up with a set of initial guesses for the parameters of the fit and fit the data using curve_fit. Print the resulting parameters and their uncertainties."
     ]
    },
    {
     "cell_type": "code",
     "collapsed": false,
     "input": [
      "x0 = array([3.,25.,18.,0.5,13.,22.,0.3,8.,28.,1.])"
     ],
     "language": "python",
     "metadata": {},
     "outputs": [],
     "prompt_number": 30
    },
    {
     "cell_type": "code",
     "collapsed": false,
     "input": [
      "from scipy.optimize import curve_fit"
     ],
     "language": "python",
     "metadata": {},
     "outputs": [],
     "prompt_number": 32
    },
    {
     "cell_type": "code",
     "collapsed": false,
     "input": [
      "popt,pcov = curve_fit(model,t,waveform,x0)\n",
      "punc = zeros(len(popt))\n",
      "for i in arange(0,len(popt)):\n",
      "    punc[i] = sqrt(pcov[i,i])\n",
      "\n",
      "print \"optimal parameters: \", popt\n",
      "print \"uncertainties of parameters: \", punc"
     ],
     "language": "python",
     "metadata": {},
     "outputs": [
      {
       "output_type": "stream",
       "stream": "stdout",
       "text": [
        "optimal parameters:  [  2.4646336   23.58627187  16.59646909   2.43359507   9.55796976\n",
        "  23.11518828   2.9674081    5.27899255  28.96467288   3.1870422 ]\n",
        "uncertainties of parameters:  [ 0.08507063  0.46011534  0.0514294   0.07398113  0.48597691  0.24343829\n",
        "  0.39310442  0.47627534  0.51923876  0.58992982]\n"
       ]
      }
     ],
     "prompt_number": 38
    },
    {
     "cell_type": "markdown",
     "metadata": {},
     "source": [
      "(d) Plot the data and the fit to see how well the model matches the data."
     ]
    },
    {
     "cell_type": "code",
     "collapsed": false,
     "input": [
      "plt.plot(t, waveform,label=\"data\")\n",
      "plt.plot(t, model(t, popt[0],popt[1],popt[2],popt[3],popt[4],popt[5],popt[6],popt[7],popt[8],popt[9]),\"r-\",label=\"fit\",linewidth=2)\n",
      "plt.legend(loc=\"best\")\n",
      "\n",
      "plt.xlabel(\"Time (ns)\",fontsize=20)\n",
      "plt.ylabel(\"Intensity (bins)\",fontsize=20)\n",
      "\n",
      "plt.show()"
     ],
     "language": "python",
     "metadata": {},
     "outputs": [
      {
       "metadata": {},
       "output_type": "display_data",
       "png": "[encoded data removed]",
       "text": [
        "<matplotlib.figure.Figure at 0x12a05358>"
       ]
      }
     ],
     "prompt_number": 39
    },
    {
     "cell_type": "code",
     "collapsed": false,
     "input": [],
     "language": "python",
     "metadata": {},
     "outputs": []
    }
   ],
   "metadata": {}
  }
 ]
}