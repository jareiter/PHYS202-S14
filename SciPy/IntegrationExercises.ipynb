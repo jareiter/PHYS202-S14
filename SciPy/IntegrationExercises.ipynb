{
 "metadata": {
  "name": "",
  "signature": "sha256:6e237872f19c9ef4ada91e030eb1cdf6ef9aafe27a4d159658400e293bff8148"
 },
 "nbformat": 3,
 "nbformat_minor": 0,
 "worksheets": [
  {
   "cells": [
    {
     "cell_type": "heading",
     "level": 1,
     "metadata": {},
     "source": [
      "Integration Exercises"
     ]
    },
    {
     "cell_type": "code",
     "collapsed": false,
     "input": [
      "%pylab inline\n",
      "import numpy as np\n",
      "import matplotlib.pyplot as plt"
     ],
     "language": "python",
     "metadata": {},
     "outputs": [
      {
       "output_type": "stream",
       "stream": "stdout",
       "text": [
        "Populating the interactive namespace from numpy and matplotlib\n"
       ]
      }
     ],
     "prompt_number": 2
    },
    {
     "cell_type": "heading",
     "level": 3,
     "metadata": {},
     "source": [
      "Question 1"
     ]
    },
    {
     "cell_type": "markdown",
     "metadata": {},
     "source": [
      "(a) Write two functions trapz(func,a,b,N) and simps(func,a,b,N) to compute the integral of the function func over the variable x using the trapezoidal rule and Simpson's rule to a file called Integrators.py. Do not use the scipy.integrate built-in functions. Include docstrings with each function that describe what they do. Then import the module and use the functions to answer the following questions. To avoid namespace conflicts, import your module as myint and then call the functions from that namespace. i.e.\n",
      "    import integrators as myint\n",
      "    #...your code...here\n",
      "    I = myint.trapz(func,a,b,N)\n",
      "Also, be sure that you import any needed modules inside your Integrators.py file."
     ]
    },
    {
     "cell_type": "code",
     "collapsed": false,
     "input": [
      "%%file Integrators.py\n",
      "\n",
      "import numpy as np\n",
      "\n",
      "func = lambda x: x**4 - 2*x + 1\n",
      "\n",
      "def trapz(func,a,b,N):\n",
      "    \"\"\"\n",
      "    Calculates the integral from a to b with N slices using the Trapezoial \n",
      "    rule method\n",
      "    \"\"\"\n",
      "    h = (b-a)/N\n",
      "\n",
      "    k = np.arange(1,N)\n",
      "    I = h*(0.5*func(a) + 0.5*func(b) + func(a+k*h).sum())\n",
      "\n",
      "    return I\n",
      "\n",
      "def simps(func,a,b,N):\n",
      "    \"\"\"\n",
      "    Calculates the integral from a to b with N slices using the Simpson's \n",
      "    rule method\n",
      "    \"\"\"\n",
      "    h = (b-a)/N\n",
      "\n",
      "    k1 = np.arange(1,N/2+1)\n",
      "    k2 = np.arange(1,N/2)\n",
      "    I = (1./3.)*h*(func(a) + func(b) + 4.*func(a+(2*k1-1)*h).sum() + 2.*func(a+2*k2*h).sum())\n",
      "    \n",
      "    return I\n",
      "    "
     ],
     "language": "python",
     "metadata": {},
     "outputs": [
      {
       "output_type": "stream",
       "stream": "stdout",
       "text": [
        "Overwriting Integrators.py\n"
       ]
      }
     ],
     "prompt_number": 3
    },
    {
     "cell_type": "markdown",
     "metadata": {},
     "source": [
      "(b) Use your trapz and simps functions from part (a) to calculate the integral of x4\u22122x+1 from x = 0 to x = 2 with N = 10, N = 100, and N = 1000. Then compare your result to the known correct value of 4.4. What is the percent error in each case?"
     ]
    },
    {
     "cell_type": "code",
     "collapsed": false,
     "input": [
      "import Integrators as myint\n",
      "func = lambda x: x**4 - 2*x + 1\n",
      "a = 0.0\n",
      "b = 2.0\n",
      "\n",
      "N = 10\n",
      "I = myint.trapz(func,a,b,N)\n",
      "print \"Trapezoidal's rule Integral (with N = 10) =\",I\n",
      "error = ((4.4-I)/4.4)*100\n",
      "print \"percent error = \",error\n",
      "\n",
      "N = 100\n",
      "I = myint.trapz(func,a,b,N)\n",
      "print \"Trapezoidal's rule Integral (with N = 100) =\",I\n",
      "error = ((4.4-I)/4.4)*100\n",
      "print \"percent error = \",error\n",
      "\n",
      "N = 1000\n",
      "I = myint.trapz(func,a,b,N)\n",
      "print \"Trapezoidal's rule Integral (with N = 1000) =\",I\n",
      "error = ((4.4-I)/4.4)*100\n",
      "print \"percent error = \",error\n",
      "\n",
      "N = 10\n",
      "I = myint.simps(func,a,b,N)\n",
      "print \"Simpson's rule Integral (with N = 10) =\",I\n",
      "error = ((4.4-I)/4.4)*100\n",
      "print \"percent error = \",error\n",
      "\n",
      "N = 100\n",
      "I = myint.simps(func,a,b,N)\n",
      "print \"Simpson's rule Integral (with N = 100) =\",I\n",
      "error = ((4.4-I)/4.4)*100\n",
      "print \"percent error = \",error\n",
      "\n",
      "N = 1000\n",
      "I = myint.simps(func,a,b,N)\n",
      "print \"Simpson's rule Integral (with N = 1000) =\",I\n",
      "error = ((4.4-I)/4.4)*100\n",
      "print \"percent error = \",error"
     ],
     "language": "python",
     "metadata": {},
     "outputs": [
      {
       "output_type": "stream",
       "stream": "stdout",
       "text": [
        "Trapezoidal's rule Integral (with N = 10) = 4.50656\n",
        "percent error =  -2.42181818182\n",
        "Trapezoidal's rule Integral (with N = 100) = 4.401066656\n",
        "percent error =  -0.0242421818182\n",
        "Trapezoidal's rule Integral (with N = 1000) = 4.40001066667\n",
        "percent error =  -0.000242424218175\n",
        "Simpson's rule Integral (with N = 10) = 4.40042666667\n",
        "percent error =  -0.00969696969697\n",
        "Simpson's rule Integral (with N = 100) = 4.40000004267\n",
        "percent error =  -9.69696969187e-07\n",
        "Simpson's rule Integral (with N = 1000) = 4.4\n",
        "percent error =  -9.69729347327e-11\n"
       ]
      }
     ],
     "prompt_number": 4
    },
    {
     "cell_type": "heading",
     "level": 3,
     "metadata": {},
     "source": [
      "Question 2"
     ]
    },
    {
     "cell_type": "markdown",
     "metadata": {},
     "source": [
      "Consider the integral\n",
      "E(x)=\u222bx0e\u2212t2dt\n",
      "This is the error function, commonly seen in probability and statistics. There is no known way to perform this particular integral analytically, although the integrand can be expanded in a Taylor series and terms computed to arbitrary order. For most applications, numerical approaches are the only way forward.\n",
      "(a) Use scipy.integrate.cumtrapz to calculate E(x) for values of x from 0 to 3 in steps of 0.1. Print the result."
     ]
    },
    {
     "cell_type": "code",
     "collapsed": false,
     "input": [
      "from scipy import integrate\n",
      "import matplotlib.pyplot as plt\n",
      "\n",
      "func = lambda x: np.exp(-x**2)  \n",
      "t= arange(0,3,0.1)\n",
      "E = func(t)\n",
      "I = integrate.cumtrapz(E, t)\n",
      "print I"
     ],
     "language": "python",
     "metadata": {},
     "outputs": [
      {
       "output_type": "stream",
       "stream": "stdout",
       "text": [
        "[ 0.09950249  0.19704446  0.29078049  0.37908424  0.46063146  0.53445532\n",
        "  0.59997046  0.6569664   0.70557392  0.7462108   0.77951463  0.80627088\n",
        "  0.82734325  0.84361215  0.85592503  0.86506023  0.87170427  0.87644128\n",
        "  0.87975207  0.88202044  0.88354398  0.88454709  0.88519453  0.88560418\n",
        "  0.88585826  0.88601274  0.88610482  0.88615862  0.88618943]\n"
       ]
      }
     ],
     "prompt_number": 5
    },
    {
     "cell_type": "markdown",
     "metadata": {},
     "source": [
      "(b) Plot the integrand as a function of t and E(x) as a function of x (both ranging from 0 to 3) on the same graph.\n",
      " "
     ]
    },
    {
     "cell_type": "code",
     "collapsed": false,
     "input": [
      "plt.plot(t,E);\n",
      "plt.plot(t[1:],I);"
     ],
     "language": "python",
     "metadata": {},
     "outputs": [
      {
       "metadata": {},
       "output_type": "display_data",
       "png": "[encoded data removed]",
       "text": [
        "<matplotlib.figure.Figure at 0x9b90d68>"
       ]
      }
     ],
     "prompt_number": 6
    },
    {
     "cell_type": "heading",
     "level": 3,
     "metadata": {},
     "source": [
      "Question 3"
     ]
    },
    {
     "cell_type": "markdown",
     "metadata": {},
     "source": [
      "Consider a particle in a one-dimensional box of width L. The probability of finding the particle between a and b is given by\n",
      "P(a,b)=\u222bba|\u03c8(x)|2dx\n",
      "where\n",
      "\u03c8(x)=2L\u203e\u203e\u203e\u221asin(n\u03c0xL)\n",
      "is the wavefunction.\n",
      "(a) What is the probability of finding the particle between L/3 and L/2 for the ground state (n = 1) and for the first excited state (n = 2)? Let L = 1. Perform the integral using both scipy.integrate.trapz and scipy.integrate.quad with an accuracy of 6 sig figs. How many slices did you need to use for scipy.integrate.trapz?"
     ]
    },
    {
     "cell_type": "code",
     "collapsed": false,
     "input": [
      "func = lambda x : sqrt(2/L)*sin(n*np.pi*x/L)\n",
      "func2 = lambda x : (sqrt(2/L)*sin(n*np.pi*x/L))**2\n",
      "L = 1.\n",
      "n = 1\n",
      "x = np.arange(L/3,L/2+0.01,0.01)\n",
      "\n",
      "psi = func(x)\n",
      "I1 = integrate.trapz(psi**2, x)\n",
      "I1_quad,error = integrate.quad(func2, L/3,L/2)\n",
      "print \"Integral using trapz and n = 1: \",I1\n",
      "print \"Integral using quad and n = 1: \",I1_quad, \",error: \",error\n",
      "\n",
      "n = 2\n",
      "psi = func(x)\n",
      "I2 = integrate.trapz(psi**2, x)\n",
      "I2_quad,error = integrate.quad(func2, L/3,L/2)\n",
      "print \"Integral using trapz and n = 2: \",I2\n",
      "print \"Integral using quad and n = 2: \",I2_quad, \",error: \",error"
     ],
     "language": "python",
     "metadata": {},
     "outputs": [
      {
       "output_type": "stream",
       "stream": "stdout",
       "text": [
        "Integral using trapz and n = 1:  0.311118868918\n",
        "Integral using quad and n = 1:  0.304498890522 ,error:  3.3806167923e-15\n",
        "Integral using trapz and n = 2:  0.0978466296378\n",
        "Integral using quad and n = 2:  0.0977505547389 ,error:  1.08524916541e-15\n"
       ]
      }
     ],
     "prompt_number": 7
    },
    {
     "cell_type": "markdown",
     "metadata": {},
     "source": [
      "(b) Make a plot of |\u03c8(x)|2 vs. x for the first two excited states with L=1."
     ]
    },
    {
     "cell_type": "code",
     "collapsed": false,
     "input": [
      "n=1\n",
      "psi = func(x)\n",
      "plt.plot(x,func(x)**2);\n",
      "n=2\n",
      "psi = func(x)\n",
      "plt.plot(x,func(x)**2);\n",
      "plt.xlabel('x');\n",
      "plt.ylabel('Psi^2');"
     ],
     "language": "python",
     "metadata": {},
     "outputs": [
      {
       "metadata": {},
       "output_type": "display_data",
       "png": "[encoded data removed]",
       "text": [
        "<matplotlib.figure.Figure at 0xb435978>"
       ]
      }
     ],
     "prompt_number": 27
    },
    {
     "cell_type": "heading",
     "level": 3,
     "metadata": {},
     "source": [
      "Question 4"
     ]
    },
    {
     "cell_type": "markdown",
     "metadata": {},
     "source": [
      "(a) Use numerical integration to find M, r\u20d7 cm, and Icm. Note that you need M to compute r\u20d7 cm and r\u20d7 cm to compute Icm. The moments of inertia Icm are Ixx, Iyy, and Izz, where e.g. Ixx=\u222b((y\u2212ycm)2+(z\u2212zcm)2)\u03c1dV, etc."
     ]
    },
    {
     "cell_type": "code",
     "collapsed": false,
     "input": [
      "x_max = 0.1\n",
      "x_min = -0.1\n",
      "y_max = lambda x: 0.1\n",
      "y_min = lambda x: -0.1\n",
      "z_max = lambda x,y: 0.5\n",
      "z_min = lambda x,y: -0.5\n",
      "\n",
      "func = lambda x,y,z : 100*(y+0.1)+100*z**2\n",
      "\n",
      "M,error = integrate.tplquad(func, x_min,x_max,y_min,y_max,z_min,z_max)\n",
      "print \"M = \",M\n",
      "\n",
      "func1x = lambda x, y, z : (1/M)*x*(100*(y+0.1)+100*z**2)\n",
      "r_cmx,error = integrate.tplquad(func1x, x_min,x_max,y_min,y_max,z_min,z_max)\n",
      "func1y = lambda x, y, z : (1/M)*y*(100*(y+0.1)+100*z**2)\n",
      "r_cmy,error = integrate.tplquad(func1y, x_min,x_max,y_min,y_max,z_min,z_max)\n",
      "func1z = lambda x, y, z : (1/M)*z*(100*(y+0.1)+100*z**2)\n",
      "r_cmz,error = integrate.tplquad(func1z, x_min,x_max,y_min,y_max,z_min,z_max)\n",
      "print \"r_cm = \",[r_cmx,r_cmy,r_cmz]\n",
      "\n",
      "func2x = lambda x, y, z : (((y-r_cmy)**2)+((z-r_cmz)**2))*(100*(y+0.1)+100*z**2)\n",
      "I_cmx,error = integrate.tplquad(func2x, x_min,x_max,y_min,y_max,z_min,z_max)\n",
      "func2y = lambda x, y, z : (((x-r_cmx)**2)+((z-r_cmz)**2))*(100*(y+0.1)+100*z**2)\n",
      "I_cmy,error = integrate.tplquad(func2y, x_min,x_max,y_min,y_max,z_min,z_max)\n",
      "func2z = lambda x, y, z : (((y-r_cmy)**2)+((x-r_cmx)**2))*(100*(y+0.1)+100*z**2)\n",
      "I_cmz,error = integrate.tplquad(func2z, x_min,x_max,y_min,y_max,z_min,z_max)\n",
      "print \"I_cm = \",[I_cmx,I_cmy,I_cmz]"
     ],
     "language": "python",
     "metadata": {},
     "outputs": [
      {
       "output_type": "stream",
       "stream": "stdout",
       "text": [
        "M =  0.413333333333\n",
        "r_cm = "
       ]
      },
      {
       "output_type": "stream",
       "stream": "stdout",
       "text": [
        " [0.0, 0.032258064516129045, 0.0]\n",
        "I_cm = "
       ]
      },
      {
       "output_type": "stream",
       "stream": "stdout",
       "text": [
        " [0.0023610035842293914, 0.03585777777777779, 0.03539211469534051]\n"
       ]
      }
     ],
     "prompt_number": 48
    },
    {
     "cell_type": "markdown",
     "metadata": {},
     "source": [
      "(b) The mass, center of mass, and moments of inertia can be easily computed analytically for a rectangular box of uniform density. (Compute them yourself or look them up). Verify your algorithm from part (a) works by having it compute the result for this test case. How accurate (how many sig figs?) is the numerical result?"
     ]
    },
    {
     "cell_type": "code",
     "collapsed": false,
     "input": [
      "I_exact = [(1.0/12.0)*M*(0.2**2 + 0.2**2),\n",
      "           (1.0/12.0)*M*(1.0**2 + 0.2**2),(1.0/12.0)*M*(0.2**2 + 1.0**2)]\n",
      "error = [abs(I_cmx-I_exact[0]),abs(I_cmy-I_exact[1]),abs(I_cmz-I_exact[2])]\n",
      "print \"I_exact = \",I_exact\n",
      "print \"error = \",error"
     ],
     "language": "python",
     "metadata": {},
     "outputs": [
      {
       "output_type": "stream",
       "stream": "stdout",
       "text": [
        "I_exact =  [0.0027555555555555562, 0.03582222222222222, 0.03582222222222222]\n",
        "error =  [0.00039455197132616483, 3.555555555556644e-05, 0.0004301075268817109]\n"
       ]
      }
     ],
     "prompt_number": 69
    },
    {
     "cell_type": "markdown",
     "metadata": {},
     "source": [
      "(c) Finally, change the density function to something of your choosing (different from that used in parts (a) and (b)) and recompute M, r\u20d7 cm and Icm for that case."
     ]
    },
    {
     "cell_type": "code",
     "collapsed": false,
     "input": [
      "func = lambda x,y,z : 20*(x+15)**2+100*(y-1)+300*(z+3)**3\n",
      "\n",
      "M,error = integrate.tplquad(func, x_min,x_max,y_min,y_max,z_min,z_max)\n",
      "print \"M = \",M\n",
      "\n",
      "func1x = lambda x, y, z : (1/M)*x*(100*(y+0.1)+100*z**2)\n",
      "r_cmx,error = integrate.tplquad(func1x, x_min,x_max,y_min,y_max,z_min,z_max)\n",
      "func1y = lambda x, y, z : (1/M)*y*(100*(y+0.1)+100*z**2)\n",
      "r_cmy,error = integrate.tplquad(func1y, x_min,x_max,y_min,y_max,z_min,z_max)\n",
      "func1z = lambda x, y, z : (1/M)*z*(100*(y+0.1)+100*z**2)\n",
      "r_cmz,error = integrate.tplquad(func1z, x_min,x_max,y_min,y_max,z_min,z_max)\n",
      "print \"r_cm = \",[r_cmx,r_cmy,r_cmz]\n",
      "\n",
      "func2x = lambda x, y, z : (((y-r_cmy)**2)+((z-r_cmz)**2))*(100*(y+0.1)+100*z**2)\n",
      "I_cmx,error = integrate.tplquad(func2x, x_min,x_max,y_min,y_max,z_min,z_max)\n",
      "func2y = lambda x, y, z : (((x-r_cmx)**2)+((z-r_cmz)**2))*(100*(y+0.1)+100*z**2)\n",
      "I_cmy,error = integrate.tplquad(func2y, x_min,x_max,y_min,y_max,z_min,z_max)\n",
      "func2z = lambda x, y, z : (((y-r_cmy)**2)+((x-r_cmx)**2))*(100*(y+0.1)+100*z**2)\n",
      "I_cmz,error = integrate.tplquad(func2z, x_min,x_max,y_min,y_max,z_min,z_max)\n",
      "print \"I_cm = \",[I_cmx,I_cmy,I_cmz]"
     ],
     "language": "python",
     "metadata": {},
     "outputs": [
      {
       "output_type": "stream",
       "stream": "stdout",
       "text": [
        "M =  500.426666667\n",
        "r_cm = "
       ]
      },
      {
       "output_type": "stream",
       "stream": "stdout",
       "text": [
        " [0.0, 2.6643930512629225e-05, 0.0]\n",
        "I_cm = "
       ]
      },
      {
       "output_type": "stream",
       "stream": "stdout",
       "text": [
        " [0.0027904008997223758, 0.03585777777777779, 0.035821512010833494]\n"
       ]
      }
     ],
     "prompt_number": 70
    },
    {
     "cell_type": "code",
     "collapsed": false,
     "input": [],
     "language": "python",
     "metadata": {},
     "outputs": []
    }
   ],
   "metadata": {}
  }
 ]
}