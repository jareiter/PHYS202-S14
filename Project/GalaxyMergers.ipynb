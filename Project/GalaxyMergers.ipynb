{
 "metadata": {
  "name": "",
  "signature": "sha256:9abc7eba035000a460732c98b4e9cf2ccf2be7f690fe6cb3305b4c6eb984607a"
 },
 "nbformat": 3,
 "nbformat_minor": 0,
 "worksheets": [
  {
   "cells": [
    {
     "cell_type": "code",
     "collapsed": false,
     "input": [
      "import numpy as np\n",
      "from matplotlib import pyplot as plt\n",
      "from scipy.integrate import odeint\n",
      "from numpy import linalg"
     ],
     "language": "python",
     "metadata": {},
     "outputs": [],
     "prompt_number": 13
    },
    {
     "cell_type": "code",
     "collapsed": false,
     "input": [
      "def place_stars(R0):\n",
      "    circle = [.20,.30,.40,.50,.60]*R0\n",
      "    number = [12,18,24,30,36]\n",
      "    \n",
      "    angles = []\n",
      "    star_x = []\n",
      "    star_y = []\n",
      "    for (num,ring) in zip(number,circle):\n",
      "        angle = 2*np.pi/num\n",
      "        angles = np.arange(0,2*np.pi,2*np.pi/num)\n",
      "\n",
      "        for i in angles:\n",
      "            position_x = ring*np.cos(i)\n",
      "            position_y = ring*np.sin(i)\n",
      "            star_x.append(position_x)\n",
      "            star_y.append(position_y)\n",
      "    star = np.array([star_x,star_y])\n",
      "    return star"
     ],
     "language": "python",
     "metadata": {},
     "outputs": [],
     "prompt_number": 14
    },
    {
     "cell_type": "code",
     "collapsed": false,
     "input": [
      "#def position_propogation(R_vec,SdM,initial_Rdot,time):\n",
      "R_vec = [1,0]\n",
      "SdM = 1.\n",
      "initial_Rdot = [10,0]\n",
      "time = 10\n",
      "\n",
      "gamma = 4.302*(10**-3) # pc*(M^-1)*(km/s^2)\n",
      "M = 1.\n",
      "S = SdM*M\n",
      "    \n",
      "R0 = np.sqrt(R_vec[0]**2 + R_vec[1]**2)\n",
      "star = place_stars(R0)\n",
      "r_vec = star[:,1]\n",
      "initial_rdot = [0,0]\n",
      " \n",
      "R = linalg.norm(R_vec)\n",
      "r = linalg.norm(r_vec)\n",
      "rho_vec = R_vec - r_vec\n",
      "rho = linalg.norm(rho_vec)\n",
      "    \n",
      "def R_calc(current,t,M,S,gamma):\n",
      "    dRx = current[0]\n",
      "    dRy = current[1]\n",
      "    Rx = current[2]\n",
      "    Ry = current[3]\n",
      "        \n",
      "    Rdotx = dRx\n",
      "    Rdoty = dRy\n",
      "    R_vec = np.array([Rx,Ry])\n",
      "    R = linalg.norm(R_vec)\n",
      "    Rddot = -gamma*((M+S)/(R**3))*R_vec\n",
      "    return np.array([Rddot[0],Rddot[1],Rdotx,Rdoty])\n",
      "    \n",
      "def r_calc(current,t,R_vec,initial_Rdot,time,gamma,M,S):\n",
      "    drx = current[0]\n",
      "    dry = current[1]\n",
      "    rx = current[2]\n",
      "    ry = current[3]        \n",
      "        \n",
      "    init = np.array([initial_Rdot[0],initial_Rdot[1],R_vec[0],R_vec[1]])\n",
      "    output = odeint(R_calc, init, np.linspace(0, t),args=(M,S,gamma))\n",
      "    #Rdotx = output[-1,0\n",
      "    #Rdoty = output[-1,1]\n",
      "    Rx = output[-1,2]\n",
      "    Ry = output[-1,3]\n",
      "        \n",
      "    rdotx = drx\n",
      "    rdoty = dry\n",
      "    r_vec = np.array([rx,ry])\n",
      "    r = linalg.norm(r_vec)\n",
      "    R_vec = np.array([Rx,Ry])\n",
      "    rho_vec = R_vec - r_vec\n",
      "    rho = linalg.norm(rho_vac)\n",
      "    rddot = -gamma*((M/r**3)*r_vec - (S/rho**3)*rho_vec + (S/R**3)*R_vec)\n",
      "    return np.array([rddot[0],rddot[1],rdotx,rdoty])\n",
      "   \n",
      "init = np.array([initial_rdot[0],initial_rdot[1],r_vec[0],r_vec[1]])\n",
      "output = odeint(r_calc, init, np.linspace(0, time, time+1),args=(R_vec,initial_Rdot,time,gamma,M,S))  "
     ],
     "language": "python",
     "metadata": {},
     "outputs": []
    },
    {
     "cell_type": "code",
     "collapsed": false,
     "input": [
      "#def position_propogation(R_vec,SdM,initial_Rdot,time):\n",
      "R_vec = [0.1,0.5]\n",
      "SdM = 3.\n",
      "initial_Rdot = [0.15,0.2]\n",
      "time = 10.\n",
      "\n",
      "gamma = 4.302*(10**-3) # pc*(M^-1)*(km/s^2)\n",
      "M = 1.\n",
      "S = SdM*M\n",
      "    \n",
      "R0 = np.sqrt(R_vec[0]**2 + R_vec[1]**2)\n",
      "star = place_stars(R0\n",
      "print star                   \n",
      "r_vec = star[:,1.]\n",
      "initial_rdot = [0.,0.]\n",
      " \n",
      "R = linalg.norm(R_vec)\n",
      "r = linalg.norm(r_vec)\n",
      "rho_vec = R_vec - r_vec\n",
      "rho = linalg.norm(rho_vec)"
     ],
     "language": "python",
     "metadata": {},
     "outputs": [
      {
       "ename": "SyntaxError",
       "evalue": "invalid syntax (<ipython-input-15-01c67bf5fe9d>, line 13)",
       "output_type": "pyerr",
       "traceback": [
        "\u001b[1;36m  File \u001b[1;32m\"<ipython-input-15-01c67bf5fe9d>\"\u001b[1;36m, line \u001b[1;32m13\u001b[0m\n\u001b[1;33m    print star\u001b[0m\n\u001b[1;37m        ^\u001b[0m\n\u001b[1;31mSyntaxError\u001b[0m\u001b[1;31m:\u001b[0m invalid syntax\n"
       ]
      }
     ],
     "prompt_number": 15
    },
    {
     "cell_type": "code",
     "collapsed": false,
     "input": [
      "def R_calc(current,t,M,S,gamma):\n",
      "    dRx = current[0]\n",
      "    dRy = current[1]\n",
      "    Rx = current[2]\n",
      "    Ry = current[3]\n",
      "        \n",
      "    Rdotx = dRx\n",
      "    Rdoty = dRy\n",
      "    R_vec = np.array([Rx,Ry])\n",
      "    R = linalg.norm(R_vec)\n",
      "    Rddot = -gamma*((M+S)/(R**3))*R_vec\n",
      "    return np.array([Rddot[0],Rddot[1],Rdotx,Rdoty])"
     ],
     "language": "python",
     "metadata": {},
     "outputs": [],
     "prompt_number": 34
    },
    {
     "cell_type": "code",
     "collapsed": false,
     "input": [
      "init = np.array([initial_Rdot[0],initial_Rdot[1],R_vec[0],R_vec[1]])\n",
      "output = odeint(R_calc, init, np.arange(0,time,0.01),args=(M,S,gamma))\n",
      "#Rdotx = output[-1,0]\n",
      "#Rdoty = output[-1,1]\n",
      "Rx = output[:,2]\n",
      "Ry = output[:,3]\n",
      "plt.plot(Rx,Ry)\n",
      "plt.show()\n",
      "#print Rx,Ry\n",
      "#print output[:,0],output[:,1]"
     ],
     "language": "python",
     "metadata": {},
     "outputs": []
    },
    {
     "cell_type": "code",
     "collapsed": false,
     "input": [],
     "language": "python",
     "metadata": {},
     "outputs": []
    }
   ],
   "metadata": {}
  }
 ]
}