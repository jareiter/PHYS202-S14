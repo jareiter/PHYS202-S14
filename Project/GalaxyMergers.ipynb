{
 "metadata": {
  "name": "",
  "signature": "sha256:bf6f75ae8b899d6070f33e990bf330ea8cfc9d5196f37041435f51e3c2986938"
 },
 "nbformat": 3,
 "nbformat_minor": 0,
 "worksheets": [
  {
   "cells": [
    {
     "cell_type": "code",
     "collapsed": false,
     "input": [
      "import numpy as np\n",
      "from matplotlib import pyplot as plt\n",
      "from scipy.integrate import odeint\n",
      "from numpy import linalg"
     ],
     "language": "python",
     "metadata": {},
     "outputs": [],
     "prompt_number": 3
    },
    {
     "cell_type": "code",
     "collapsed": false,
     "input": [
      "def position_propogatin(R_vec,r_vec,S,M,initial_R,initial_r,time):\n",
      "    gamma = 6.67384*(10**-11) #(m**3)/(kg*(s**2))\n",
      "    R = linalg.norm(R_vec)\n",
      "    r = linalg.norm(r_vec)\n",
      "    rho_vec = R_vec - r_vec\n",
      "    rho = linalg.norm(rho_vec)\n",
      "    \n",
      "    def R_calc(R_vec, t):\n",
      "        Rddot = -gamma*((M+S)/(R**3))*R_vec\n",
      "        Rdot = R_vec[0,2];\n",
      "        \n",
      "    def r_calc(r_vec,t):\n",
      "        [Rdot,R_vec] = odeint(R_calc, initial_R, np.linspace(0, time, time + 1));\n",
      "        rddot = -gamma*((M/r**3)*r_vec - (S/rho**3)*rho_vec + (S/R**3)*R_vec)\n",
      "        rdot = r_vec[0,2];\n",
      "    \n",
      "    [rdot,r_vec] = odeint(r_calc, initial_r, np.linspace(0, time, time + 1));\n",
      "    "
     ],
     "language": "python",
     "metadata": {},
     "outputs": []
    }
   ],
   "metadata": {}
  }
 ]
}