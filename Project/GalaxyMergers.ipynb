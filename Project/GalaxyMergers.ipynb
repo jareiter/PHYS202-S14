{
 "metadata": {
  "name": "",
  "signature": "sha256:3a95ea46f3526c328eca240c6ef42c683e116768cb4464469f391720ca8c7de4"
 },
 "nbformat": 3,
 "nbformat_minor": 0,
 "worksheets": [
  {
   "cells": [
    {
     "cell_type": "code",
     "collapsed": false,
     "input": [
      "import numpy as np\n",
      "from matplotlib import pyplot as plt\n",
      "from scipy.integrate import odeint\n",
      "from numpy import linalg"
     ],
     "language": "python",
     "metadata": {},
     "outputs": [],
     "prompt_number": 1
    },
    {
     "cell_type": "code",
     "collapsed": false,
     "input": [
      "def place_stars(R0):\n",
      "    circle = np.array([.20,.30,.40,.50,.60])*R0\n",
      "    number = [12.,18.,24.,30.,36.]\n",
      "    gamma = 4.302*(10**-3) # pc*(M^-1)*(km/s^2)\n",
      "    \n",
      "    angles = []\n",
      "    star_x = []\n",
      "    star_y = []\n",
      "    velx = []\n",
      "    vely = []\n",
      "    for (num,ring) in zip(number,circle):\n",
      "        angle = 2.*np.pi/num\n",
      "        angles = np.arange(0.,2.*np.pi,2.*np.pi/num)\n",
      "        v = np.sqrt(abs(gamma/ring))\n",
      "        for i in angles:\n",
      "            position_x = ring*np.cos(i)\n",
      "            position_y = ring*np.sin(i)\n",
      "            normx = position_x/np.sqrt(position_x**2 + position_y**2)\n",
      "            normy = position_y/np.sqrt(position_x**2 + position_y**2)\n",
      "            #normx = position_x/linalg.norm([position_x,position_y])\n",
      "            #normy = position_y/linalg.norm([position_x,position_y])\n",
      "            velx.append(-normy*v)\n",
      "            vely.append(normx*v)\n",
      "            star_x.append(position_x)\n",
      "            star_y.append(position_y)\n",
      "            \n",
      "    star = np.array([star_x,star_y,velx,vely])\n",
      "    return star "
     ],
     "language": "python",
     "metadata": {},
     "outputs": [],
     "prompt_number": 2
    },
    {
     "cell_type": "code",
     "collapsed": false,
     "input": [
      "def place_stars_ecc(R0,ecc_ratio,SdM):\n",
      "\n",
      "    circle = np.array([.20,.30,.40,.50,.60])*R0\n",
      "    number = [12.,18.,24.,30.,36.]\n",
      "    gamma = 4.302*(10**-3) # pc*(M^-1)*(km/s^2)\n",
      "    M = 1.\n",
      "    S = SdM*M    \n",
      "    ecc = np.sqrt(abs(1-((1/ecc_ratio)**2)))\n",
      "\n",
      "    star_x = []\n",
      "    star_y = []\n",
      "    velx = []\n",
      "    vely = []\n",
      "    vx = []\n",
      "    vy = []\n",
      "    x = []\n",
      "    y = []\n",
      "\n",
      "    for (ring,num) in zip(circle,number):\n",
      "        semimajor = (8/5)*ring\n",
      "        r0 = semimajor*(1-ecc**2)/(1+ecc*np.cos(0))\n",
      "        v0 = np.sqrt(abs(2*((-gamma/(2*semimajor))+(gamma/r0))))\n",
      "        #v0 = np.sqrt(abs(gamma/r0))\n",
      "        T = 2*np.pi*(semimajor**(3/2))/np.sqrt(gamma)\n",
      "\n",
      "        position_x = r0*np.cos(0)\n",
      "        position_y = r0*np.sin(0)\n",
      "        normx = position_x/np.sqrt(position_x**2 + position_y**2)\n",
      "        normy = position_y/np.sqrt(position_x**2 + position_y**2)\n",
      "        velx = -normy*v0\n",
      "        vely = normx*v0\n",
      "\n",
      "        def r_calc(current,t,gamma,M,S):\n",
      "            drx = current[0]\n",
      "            dry = current[1]\n",
      "            rx = current[2]\n",
      "            ry = current[3]  \n",
      "\n",
      "            rdotx = drx\n",
      "            rdoty = dry\n",
      "            r_vec = np.array([rx,ry])\n",
      "            r = linalg.norm(r_vec)\n",
      "            rddot = -gamma*((M/r**3.)*r_vec)\n",
      "            return np.array([rddot[0],rddot[1],rdotx,rdoty])\n",
      "\n",
      "        init = np.array([velx,vely,position_x,position_y])\n",
      "        output = odeint(r_calc, init, np.linspace(0, T, (T*50)+1),args=(gamma,M,S))   \n",
      "\n",
      "        dt = len(output)/int(num)\n",
      "        for i in np.arange(0.,len(output),dt):\n",
      "            vx_start = output[i,0]\n",
      "            vy_start = output[i,1]\n",
      "            x_start = output[i,2]\n",
      "            y_start = output[i,3]\n",
      "            vx.append(vx_start)\n",
      "            vy.append(vy_start)\n",
      "            x.append(x_start)\n",
      "            y.append(y_start)   \n",
      "\n",
      "    star = np.array([x,y,vx,vy])\n",
      "    return star "
     ],
     "language": "python",
     "metadata": {},
     "outputs": [],
     "prompt_number": 3
    },
    {
     "cell_type": "code",
     "collapsed": false,
     "input": [
      "#def position_propogation(R_vec,SdM,initial_Rdot,time):\n",
      "initial_Rvec = [1.,0.]\n",
      "SdM = 3.\n",
      "initial_Rdot = [-0.1,-0.1]\n",
      "time = 5.\n",
      "ecc_ratio = 4.\n",
      "\n",
      "gamma = 4.302*(10**-3) # pc*(M^-1)*(km/s^2)\n",
      "M = 1.\n",
      "S = SdM*M\n",
      "    \n",
      "R0 = np.sqrt(initial_Rvec[0]**2 + initial_Rvec[1]**2)\n",
      "star = place_stars(R0)\n",
      "#star = place_stars_ecc(R0,ecc_ratio,SdM)\n",
      "plt.plot(star[0,:],star[1,:],'*')\n",
      "\n",
      "for a in range(0,np.size(star)/4):\n",
      "    initial_rvec = star[0:2,a]\n",
      "    initial_rdot = star[2:4,a]\n",
      "\n",
      "    def r_calc(current,t,time,gamma,M,S):\n",
      "        drx = current[0]\n",
      "        dry = current[1]\n",
      "        rx = current[2]\n",
      "        ry = current[3]  \n",
      "        dRx = current[4]\n",
      "        dRy = current[5]\n",
      "        Rx = current[6]\n",
      "        Ry = current[7]\n",
      "\n",
      "        Rdotx = dRx\n",
      "        Rdoty = dRy\n",
      "        R_vec = np.array([Rx,Ry])\n",
      "        R = linalg.norm(R_vec)\n",
      "        Rddot = -gamma*((M+S)/(R**3))*R_vec\n",
      "\n",
      "        rdotx = drx\n",
      "        rdoty = dry\n",
      "        r_vec = np.array([rx,ry])\n",
      "        r = linalg.norm(r_vec)\n",
      "        rho_vec = R_vec - r_vec\n",
      "        rho = linalg.norm(rho_vec)\n",
      "        rddot = -gamma*((M/r**3)*r_vec - (S/rho**3)*rho_vec + (S/R**3)*R_vec)\n",
      "        return np.array([rddot[0],rddot[1],rdotx,rdoty,Rddot[0],Rddot[1],Rdotx,Rdoty])\n",
      "\n",
      "    init = np.array([initial_rdot[0],initial_rdot[1],initial_rvec[0],initial_rvec[1],initial_Rdot[0],initial_Rdot[1],\n",
      "                     initial_Rvec[0],initial_Rvec[1]])\n",
      "    output = odeint(r_calc, init, np.linspace(0, time, (time*100)+1),args=(time,gamma,M,S))\n",
      "    plt.plot(output[:,2],output[:,3]) \n",
      "    plt.plot(output[:,6],output[:,7],'-')\n",
      "plt.xlim(-2,2)\n",
      "plt.ylim(-2,2)\n",
      "plt.show()"
     ],
     "language": "python",
     "metadata": {},
     "outputs": [],
     "prompt_number": 75
    },
    {
     "cell_type": "code",
     "collapsed": false,
     "input": [
      "#def position_propogation(R_vec,SdM,initial_Rdot,time):\n",
      "initial_Rvec = [1.,0.]\n",
      "SdM = 3.\n",
      "initial_Rdot = [-0.1,-0.1]\n",
      "time = 5.\n",
      "ecc_ratio = 4.\n",
      "\n",
      "gamma = 4.302*(10**-3) # pc*(M^-1)*(km/s^2)\n",
      "M = 1.\n",
      "S = SdM*M    \n",
      "\n",
      "center_mass = (S/(S + M))*np.array(initial_Rvec)\n",
      "R0 = np.sqrt(initial_Rvec[0]**2 + initial_Rvec[1]**2)\n",
      "initial_Rvec = initial_Rvec - center_mass\n",
      "initial_RMvec = [0.,0.]\n",
      "initial_RMdot = np.zeros(np.size(initial_Rdot))-initial_Rdot\n",
      "\n",
      "star = place_stars(R0)\n",
      "#star = place_stars_ecc(R0,ecc_ratio,SdM)\n",
      "plt.plot(star[0,:],star[1,:],'*')\n",
      "\n",
      "for a in range(0,np.size(star)/4):\n",
      "    initial_rvec = center_mass - star[0:2,a]\n",
      "    initial_rdot = star[2:4,a]\n",
      "\n",
      "    def r_calc(current,t,time,gamma,M,S):\n",
      "        drx = current[0]\n",
      "        dry = current[1]\n",
      "        rx = current[2]\n",
      "        ry = current[3]  \n",
      "        dRSx = current[4]\n",
      "        dRSy = current[5]\n",
      "        RSx = current[6]\n",
      "        RSy = current[7]\n",
      "        dRMx = current[8]\n",
      "        dRMy = current[9]\n",
      "        RMx = current[10]\n",
      "        RMy = current[11]\n",
      "\n",
      "        RSdotx = dRSx\n",
      "        RSdoty = dRSy\n",
      "        RS_vec = np.array([RSx,RSy])\n",
      "        RS = linalg.norm(RS_vec)\n",
      "        RSddot = -gamma*((M+S)/(RS**3))*RS_vec\n",
      "        \n",
      "        RMdotx = dRMx\n",
      "        RMdoty = dRMy\n",
      "        RM_vec = np.array([RMx,RMy])\n",
      "        RM = linalg.norm(RM_vec)\n",
      "        RMddot = -gamma*((M+S)/(RM**3))*RM_vec \n",
      "        \n",
      "        R_vec = RS_vec - RM_vec\n",
      "        R = linalg.norm(R_vec)\n",
      "\n",
      "        rdotx = drx\n",
      "        rdoty = dry\n",
      "        r_vec = np.array([rx,ry])+RM_vec\n",
      "        r = linalg.norm(r_vec)\n",
      "        rho_vec = R_vec - r_vec\n",
      "        rho = linalg.norm(rho_vec)\n",
      "        rddot = -gamma*((M/r**3)*r_vec - (S/rho**3)*rho_vec + (S/R**3)*R_vec)\n",
      "        return np.array([rddot[0],rddot[1],rdotx,rdoty,RSddot[0],RSddot[1],RSdotx,RSdoty,RMddot[0],RMddot[1],RMdotx,RMdoty])\n",
      "\n",
      "    init = np.array([initial_rdot[0],initial_rdot[1],initial_rvec[0],initial_rvec[1],initial_Rdot[0],initial_Rdot[1],\n",
      "                     initial_Rvec[0],initial_Rvec[1],initial_RMdot[0],initial_RMdot[1],initial_RMvec[0],initial_RMvec[1]])\n",
      "    output = odeint(r_calc, init, np.linspace(0, time, (time*100)+1),args=(time,gamma,M,S))\n",
      "    plt.plot(output[:,2],output[:,3]) \n",
      "    plt.plot(output[:,6],output[:,7],'-')\n",
      "plt.xlim(-2,2)\n",
      "plt.ylim(-2,2)\n",
      "plt.show()"
     ],
     "language": "python",
     "metadata": {},
     "outputs": [
      {
       "output_type": "stream",
       "stream": "stdout",
       "text": [
        "Excess accuracy requested (tolerances too small).\n",
        "Run with full_output = 1 to get quantitative information.\n",
        "Excess accuracy requested (tolerances too small).\n",
        "Run with full_output = 1 to get quantitative information.\n",
        "Excess accuracy requested (tolerances too small).\n",
        "Run with full_output = 1 to get quantitative information.\n",
        "Excess accuracy requested (tolerances too small).\n",
        "Run with full_output = 1 to get quantitative information.\n",
        "Excess accuracy requested (tolerances too small).\n",
        "Run with full_output = 1 to get quantitative information.\n",
        "Excess accuracy requested (tolerances too small)."
       ]
      },
      {
       "output_type": "stream",
       "stream": "stdout",
       "text": [
        "\n",
        "Run with full_output = 1 to get quantitative information.\n",
        "Excess accuracy requested (tolerances too small).\n",
        "Run with full_output = 1 to get quantitative information.\n",
        "Excess accuracy requested (tolerances too small).\n",
        "Run with full_output = 1 to get quantitative information.\n",
        "Excess accuracy requested (tolerances too small).\n",
        "Run with full_output = 1 to get quantitative information.\n",
        "Excess accuracy requested (tolerances too small)."
       ]
      },
      {
       "output_type": "stream",
       "stream": "stdout",
       "text": [
        "\n",
        "Run with full_output = 1 to get quantitative information.\n",
        "Excess accuracy requested (tolerances too small).\n",
        "Run with full_output = 1 to get quantitative information.\n",
        "Excess accuracy requested (tolerances too small).\n",
        "Run with full_output = 1 to get quantitative information.\n",
        "Excess accuracy requested (tolerances too small).\n",
        "Run with full_output = 1 to get quantitative information.\n",
        "Excess accuracy requested (tolerances too small).\n",
        "Run with full_output = 1 to get quantitative information.\n",
        "Excess accuracy requested (tolerances too small)."
       ]
      },
      {
       "output_type": "stream",
       "stream": "stdout",
       "text": [
        "\n",
        "Run with full_output = 1 to get quantitative information.\n",
        "Excess accuracy requested (tolerances too small).\n",
        "Run with full_output = 1 to get quantitative information.\n",
        "Excess accuracy requested (tolerances too small).\n",
        "Run with full_output = 1 to get quantitative information.\n",
        "Excess accuracy requested (tolerances too small).\n",
        "Run with full_output = 1 to get quantitative information.\n",
        "Excess accuracy requested (tolerances too small)."
       ]
      },
      {
       "output_type": "stream",
       "stream": "stdout",
       "text": [
        "\n",
        "Run with full_output = 1 to get quantitative information.\n",
        "Excess accuracy requested (tolerances too small).\n",
        "Run with full_output = 1 to get quantitative information.\n",
        "Excess accuracy requested (tolerances too small).\n",
        "Run with full_output = 1 to get quantitative information.\n",
        "Excess accuracy requested (tolerances too small).\n",
        "Run with full_output = 1 to get quantitative information.\n",
        "Excess accuracy requested (tolerances too small).\n",
        "Run with full_output = 1 to get quantitative information.\n",
        "Excess accuracy requested (tolerances too small)."
       ]
      },
      {
       "output_type": "stream",
       "stream": "stdout",
       "text": [
        "\n",
        "Run with full_output = 1 to get quantitative information.\n",
        "Excess accuracy requested (tolerances too small).\n",
        "Run with full_output = 1 to get quantitative information.\n",
        "Excess accuracy requested (tolerances too small).\n",
        "Run with full_output = 1 to get quantitative information.\n",
        "Excess accuracy requested (tolerances too small).\n",
        "Run with full_output = 1 to get quantitative information.\n",
        "Excess accuracy requested (tolerances too small)."
       ]
      },
      {
       "output_type": "stream",
       "stream": "stdout",
       "text": [
        "\n",
        "Run with full_output = 1 to get quantitative information.\n",
        "Excess accuracy requested (tolerances too small).\n",
        "Run with full_output = 1 to get quantitative information.\n",
        "Excess accuracy requested (tolerances too small).\n",
        "Run with full_output = 1 to get quantitative information.\n",
        "Excess accuracy requested (tolerances too small).\n",
        "Run with full_output = 1 to get quantitative information.\n",
        "Excess accuracy requested (tolerances too small)."
       ]
      },
      {
       "output_type": "stream",
       "stream": "stdout",
       "text": [
        "\n",
        "Run with full_output = 1 to get quantitative information.\n",
        "Excess accuracy requested (tolerances too small).\n",
        "Run with full_output = 1 to get quantitative information.\n",
        "Excess accuracy requested (tolerances too small).\n",
        "Run with full_output = 1 to get quantitative information.\n",
        "Excess accuracy requested (tolerances too small).\n",
        "Run with full_output = 1 to get quantitative information.\n",
        "Excess accuracy requested (tolerances too small).\n",
        "Run with full_output = 1 to get quantitative information.\n",
        "Excess accuracy requested (tolerances too small)."
       ]
      },
      {
       "output_type": "stream",
       "stream": "stdout",
       "text": [
        "\n",
        "Run with full_output = 1 to get quantitative information.\n",
        "Excess accuracy requested (tolerances too small).\n",
        "Run with full_output = 1 to get quantitative information.\n",
        "Excess accuracy requested (tolerances too small).\n",
        "Run with full_output = 1 to get quantitative information.\n",
        "Excess accuracy requested (tolerances too small).\n",
        "Run with full_output = 1 to get quantitative information.\n",
        "Excess accuracy requested (tolerances too small).\n",
        "Run with full_output = 1 to get quantitative information.\n",
        "Excess accuracy requested (tolerances too small)."
       ]
      },
      {
       "output_type": "stream",
       "stream": "stdout",
       "text": [
        "\n",
        "Run with full_output = 1 to get quantitative information.\n",
        "Excess accuracy requested (tolerances too small).\n",
        "Run with full_output = 1 to get quantitative information.\n",
        "Excess accuracy requested (tolerances too small).\n",
        "Run with full_output = 1 to get quantitative information.\n",
        "Excess accuracy requested (tolerances too small).\n",
        "Run with full_output = 1 to get quantitative information.\n",
        "Excess accuracy requested (tolerances too small)."
       ]
      },
      {
       "output_type": "stream",
       "stream": "stdout",
       "text": [
        "\n",
        "Run with full_output = 1 to get quantitative information.\n",
        "Excess accuracy requested (tolerances too small).\n",
        "Run with full_output = 1 to get quantitative information.\n",
        "Excess accuracy requested (tolerances too small).\n",
        "Run with full_output = 1 to get quantitative information.\n",
        "Excess accuracy requested (tolerances too small).\n",
        "Run with full_output = 1 to get quantitative information.\n",
        "Excess accuracy requested (tolerances too small).\n",
        "Run with full_output = 1 to get quantitative information.\n",
        "Excess accuracy requested (tolerances too small)."
       ]
      },
      {
       "output_type": "stream",
       "stream": "stdout",
       "text": [
        "\n",
        "Run with full_output = 1 to get quantitative information.\n",
        "Excess accuracy requested (tolerances too small).\n",
        "Run with full_output = 1 to get quantitative information.\n",
        "Excess accuracy requested (tolerances too small).\n",
        "Run with full_output = 1 to get quantitative information.\n",
        "Excess accuracy requested (tolerances too small)."
       ]
      },
      {
       "output_type": "stream",
       "stream": "stderr",
       "text": [
        "-c:50: RuntimeWarning: divide by zero encountered in double_scalars\n",
        "-c:50: RuntimeWarning: invalid value encountered in multiply\n",
        "-c:50: RuntimeWarning: invalid value encountered in double_scalars\n",
        "-c:61: RuntimeWarning: invalid value encountered in double_scalars\n",
        "-c:61: RuntimeWarning: divide by zero encountered in double_scalars\n"
       ]
      },
      {
       "output_type": "stream",
       "stream": "stdout",
       "text": [
        "\n",
        "Run with full_output = 1 to get quantitative information.\n",
        "Excess accuracy requested (tolerances too small).\n",
        "Run with full_output = 1 to get quantitative information.\n",
        "Excess accuracy requested (tolerances too small).\n",
        "Run with full_output = 1 to get quantitative information.\n",
        "Excess accuracy requested (tolerances too small)."
       ]
      },
      {
       "output_type": "stream",
       "stream": "stdout",
       "text": [
        "\n",
        "Run with full_output = 1 to get quantitative information.\n",
        "Excess accuracy requested (tolerances too small).\n",
        "Run with full_output = 1 to get quantitative information.\n",
        "Excess accuracy requested (tolerances too small).\n",
        "Run with full_output = 1 to get quantitative information.\n",
        "Excess accuracy requested (tolerances too small)."
       ]
      },
      {
       "output_type": "stream",
       "stream": "stdout",
       "text": [
        "\n",
        "Run with full_output = 1 to get quantitative information.\n",
        "Excess accuracy requested (tolerances too small).\n",
        "Run with full_output = 1 to get quantitative information.\n",
        "Excess accuracy requested (tolerances too small).\n",
        "Run with full_output = 1 to get quantitative information.\n",
        "Excess accuracy requested (tolerances too small).\n",
        "Run with full_output = 1 to get quantitative information.\n",
        "Excess accuracy requested (tolerances too small)."
       ]
      },
      {
       "output_type": "stream",
       "stream": "stdout",
       "text": [
        "\n",
        "Run with full_output = 1 to get quantitative information.\n",
        "Excess accuracy requested (tolerances too small).\n",
        "Run with full_output = 1 to get quantitative information.\n",
        "Excess accuracy requested (tolerances too small).\n",
        "Run with full_output = 1 to get quantitative information.\n",
        "Excess accuracy requested (tolerances too small).\n",
        "Run with full_output = 1 to get quantitative information.\n",
        "Excess accuracy requested (tolerances too small)."
       ]
      },
      {
       "output_type": "stream",
       "stream": "stdout",
       "text": [
        "\n",
        "Run with full_output = 1 to get quantitative information.\n",
        "Excess accuracy requested (tolerances too small).\n",
        "Run with full_output = 1 to get quantitative information.\n",
        "Excess accuracy requested (tolerances too small).\n",
        "Run with full_output = 1 to get quantitative information.\n",
        "Excess accuracy requested (tolerances too small)."
       ]
      },
      {
       "output_type": "stream",
       "stream": "stdout",
       "text": [
        "\n",
        "Run with full_output = 1 to get quantitative information.\n",
        "Excess accuracy requested (tolerances too small).\n",
        "Run with full_output = 1 to get quantitative information.\n",
        "Excess accuracy requested (tolerances too small).\n",
        "Run with full_output = 1 to get quantitative information.\n",
        "Excess accuracy requested (tolerances too small)."
       ]
      },
      {
       "output_type": "stream",
       "stream": "stdout",
       "text": [
        "\n",
        "Run with full_output = 1 to get quantitative information.\n",
        "Excess accuracy requested (tolerances too small).\n",
        "Run with full_output = 1 to get quantitative information.\n",
        "Excess accuracy requested (tolerances too small).\n",
        "Run with full_output = 1 to get quantitative information.\n",
        "Excess accuracy requested (tolerances too small)."
       ]
      },
      {
       "output_type": "stream",
       "stream": "stdout",
       "text": [
        "\n",
        "Run with full_output = 1 to get quantitative information.\n",
        "Excess accuracy requested (tolerances too small).\n",
        "Run with full_output = 1 to get quantitative information.\n",
        "Excess accuracy requested (tolerances too small).\n",
        "Run with full_output = 1 to get quantitative information.\n",
        "Excess accuracy requested (tolerances too small).\n",
        "Run with full_output = 1 to get quantitative information.\n",
        "Excess accuracy requested (tolerances too small).\n",
        "Run with full_output = 1 to get quantitative information.\n",
        "Excess accuracy requested (tolerances too small)."
       ]
      },
      {
       "output_type": "stream",
       "stream": "stdout",
       "text": [
        "\n",
        "Run with full_output = 1 to get quantitative information.\n",
        "Excess accuracy requested (tolerances too small).\n",
        "Run with full_output = 1 to get quantitative information.\n",
        "Excess accuracy requested (tolerances too small).\n",
        "Run with full_output = 1 to get quantitative information.\n",
        "Excess accuracy requested (tolerances too small).\n",
        "Run with full_output = 1 to get quantitative information.\n",
        "Excess accuracy requested (tolerances too small)."
       ]
      },
      {
       "output_type": "stream",
       "stream": "stdout",
       "text": [
        "\n",
        "Run with full_output = 1 to get quantitative information.\n",
        "Excess accuracy requested (tolerances too small).\n",
        "Run with full_output = 1 to get quantitative information.\n",
        "Excess accuracy requested (tolerances too small).\n",
        "Run with full_output = 1 to get quantitative information.\n",
        "Excess accuracy requested (tolerances too small).\n",
        "Run with full_output = 1 to get quantitative information.\n",
        "Excess accuracy requested (tolerances too small)."
       ]
      },
      {
       "output_type": "stream",
       "stream": "stdout",
       "text": [
        "\n",
        "Run with full_output = 1 to get quantitative information.\n",
        "Excess accuracy requested (tolerances too small).\n",
        "Run with full_output = 1 to get quantitative information.\n",
        "Excess accuracy requested (tolerances too small).\n",
        "Run with full_output = 1 to get quantitative information.\n",
        "Excess accuracy requested (tolerances too small).\n",
        "Run with full_output = 1 to get quantitative information.\n",
        "Excess accuracy requested (tolerances too small).\n",
        "Run with full_output = 1 to get quantitative information.\n",
        "Excess accuracy requested (tolerances too small)."
       ]
      },
      {
       "output_type": "stream",
       "stream": "stdout",
       "text": [
        "\n",
        "Run with full_output = 1 to get quantitative information.\n",
        "Excess accuracy requested (tolerances too small).\n",
        "Run with full_output = 1 to get quantitative information.\n",
        "Excess accuracy requested (tolerances too small).\n",
        "Run with full_output = 1 to get quantitative information.\n",
        "Excess accuracy requested (tolerances too small).\n",
        "Run with full_output = 1 to get quantitative information.\n",
        "Excess accuracy requested (tolerances too small).\n",
        "Run with full_output = 1 to get quantitative information.\n",
        "Excess accuracy requested (tolerances too small)."
       ]
      },
      {
       "output_type": "stream",
       "stream": "stdout",
       "text": [
        "\n",
        "Run with full_output = 1 to get quantitative information.\n",
        "Excess accuracy requested (tolerances too small).\n",
        "Run with full_output = 1 to get quantitative information.\n",
        "Excess accuracy requested (tolerances too small).\n",
        "Run with full_output = 1 to get quantitative information.\n",
        "Excess accuracy requested (tolerances too small).\n",
        "Run with full_output = 1 to get quantitative information.\n",
        "Excess accuracy requested (tolerances too small).\n",
        "Run with full_output = 1 to get quantitative information.\n",
        "Excess accuracy requested (tolerances too small)."
       ]
      },
      {
       "output_type": "stream",
       "stream": "stdout",
       "text": [
        "\n",
        "Run with full_output = 1 to get quantitative information.\n",
        "Excess accuracy requested (tolerances too small).\n",
        "Run with full_output = 1 to get quantitative information.\n",
        "Excess accuracy requested (tolerances too small).\n",
        "Run with full_output = 1 to get quantitative information.\n",
        "Excess accuracy requested (tolerances too small).\n",
        "Run with full_output = 1 to get quantitative information.\n",
        "Excess accuracy requested (tolerances too small).\n",
        "Run with full_output = 1 to get quantitative information.\n",
        "Excess accuracy requested (tolerances too small)."
       ]
      },
      {
       "output_type": "stream",
       "stream": "stdout",
       "text": [
        "\n",
        "Run with full_output = 1 to get quantitative information.\n",
        "Excess accuracy requested (tolerances too small).\n",
        "Run with full_output = 1 to get quantitative information.\n",
        "Excess accuracy requested (tolerances too small).\n",
        "Run with full_output = 1 to get quantitative information.\n",
        "Excess accuracy requested (tolerances too small).\n",
        "Run with full_output = 1 to get quantitative information.\n",
        "Excess accuracy requested (tolerances too small).\n",
        "Run with full_output = 1 to get quantitative information.\n",
        "Excess accuracy requested (tolerances too small).\n",
        "Run with full_output = 1 to get quantitative information.\n",
        "Excess accuracy requested (tolerances too small)."
       ]
      },
      {
       "output_type": "stream",
       "stream": "stdout",
       "text": [
        "\n",
        "Run with full_output = 1 to get quantitative information.\n",
        "Excess accuracy requested (tolerances too small).\n",
        "Run with full_output = 1 to get quantitative information.\n",
        "Excess accuracy requested (tolerances too small).\n",
        "Run with full_output = 1 to get quantitative information.\n",
        "Excess accuracy requested (tolerances too small).\n",
        "Run with full_output = 1 to get quantitative information.\n",
        "Excess accuracy requested (tolerances too small).\n",
        "Run with full_output = 1 to get quantitative information.\n"
       ]
      },
      {
       "output_type": "stream",
       "stream": "stderr",
       "text": [
        "-c:61: RuntimeWarning: invalid value encountered in multiply\n",
        "C:\\Users\\Jason\\Anaconda\\lib\\site-packages\\matplotlib\\lines.py:503: RuntimeWarning: invalid value encountered in greater_equal\n",
        "  return np.alltrue(x[1:] - x[0:-1] >= 0)\n"
       ]
      }
     ],
     "prompt_number": 4
    },
    {
     "cell_type": "code",
     "collapsed": false,
     "input": [],
     "language": "python",
     "metadata": {},
     "outputs": [],
     "prompt_number": 20
    },
    {
     "cell_type": "code",
     "collapsed": false,
     "input": [],
     "language": "python",
     "metadata": {},
     "outputs": []
    }
   ],
   "metadata": {}
  }
 ]
}