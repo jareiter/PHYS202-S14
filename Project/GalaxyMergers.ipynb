{
 "metadata": {
  "name": "",
  "signature": "sha256:9f2aacaec377531df53d8bd3e4b32d86fb27394ca03a7200ce230fbac6c61273"
 },
 "nbformat": 3,
 "nbformat_minor": 0,
 "worksheets": [
  {
   "cells": [
    {
     "cell_type": "code",
     "collapsed": false,
     "input": [
      "import numpy as np\n",
      "from matplotlib import pyplot as plt\n",
      "from scipy.integrate import odeint\n",
      "from numpy import linalg"
     ],
     "language": "python",
     "metadata": {},
     "outputs": [],
     "prompt_number": 3
    },
    {
     "cell_type": "code",
     "collapsed": false,
     "input": [
      "def place_stars(R0):\n",
      "    circle = [.20,.30,.40,.50,.60]*R0\n",
      "    number = [12,18,24,30,36]\n",
      "    \n",
      "    angles = []\n",
      "    star_x = []\n",
      "    star_y = []\n",
      "    for (num,ring) in zip(number,circle):\n",
      "        angle = 2*np.pi/num\n",
      "        angles = np.arange(0,2*np.pi,2*np.pi/num)\n",
      "\n",
      "        for i in angles:\n",
      "            position_x = ring*np.cos(i)\n",
      "            position_y = ring*np.sin(i)\n",
      "            star_x.append(position_x)\n",
      "            star_y.append(position_y)\n",
      "    star = np.array([star_x,star_y])\n",
      "    return star"
     ],
     "language": "python",
     "metadata": {},
     "outputs": [],
     "prompt_number": 4
    },
    {
     "cell_type": "code",
     "collapsed": false,
     "input": [
      "#def position_propogation(R_vec,SdM,initial_Rdot,time):\n",
      "R_vec = [1,0]\n",
      "SdM = 1.\n",
      "initial_Rdot = [10,0]\n",
      "time = 10\n",
      "\n",
      "gamma = 4.302*(10**-3) # pc*(M^-1)*(km/s^2)\n",
      "M = 1.\n",
      "S = SdM*M\n",
      "    \n",
      "R0 = np.sqrt(R_vec[0]**2 + R_vec[1]**2)\n",
      "star = place_stars(R0)\n",
      "r_vec = star[:,1]\n",
      "initial_rdot = [0,0]\n",
      " \n",
      "R = linalg.norm(R_vec)\n",
      "r = linalg.norm(r_vec)\n",
      "rho_vec = R_vec - r_vec\n",
      "rho = linalg.norm(rho_vec)\n",
      "    \n",
      "def R_calc(current,t,M,S,gamma):\n",
      "    dRx = current[0]\n",
      "    dRy = current[1]\n",
      "    Rx = current[2]\n",
      "    Ry = current[3]\n",
      "        \n",
      "    Rdotx = dRx\n",
      "    Rdoty = dRy\n",
      "    R_vec = np.array([Rx,Ry])\n",
      "    R = linalg.norm(R_vec)\n",
      "    Rddot = -gamma*((M+S)/(R**3))*R_vec\n",
      "    return np.array([Rddot[0],Rddot[1],Rdotx,Rdoty])\n",
      "    \n",
      "def r_calc(current,t,R_vec,initial_Rdot,time,gamma,M,S):\n",
      "    drx = current[0]\n",
      "    dry = current[1]\n",
      "    rx = current[2]\n",
      "    ry = current[3]        \n",
      "        \n",
      "    init = np.array([initial_Rdot[0],initial_Rdot[1],R_vec[0],R_vec[1]])\n",
      "    output = odeint(R_calc, init, np.linspace(0, t),args=(M,S,gamma))\n",
      "    #Rdotx = output[-1,0]\n",
      "    #Rdoty = output[-1,1]\n",
      "    Rx = output[-1,2]\n",
      "    Ry = output[-1,3]\n",
      "        \n",
      "    rdotx = drx\n",
      "    rdoty = dry\n",
      "    r_vec = np.array([rx,ry])\n",
      "    r = linalg.norm(r_vec)\n",
      "    R_vec = np.array([Rx,Ry])\n",
      "    rho_vec = R_vec - r_vec\n",
      "    rho = linalg.norm(rho_vac)\n",
      "    rddot = -gamma*((M/r**3)*r_vec - (S/rho**3)*rho_vec + (S/R**3)*R_vec)\n",
      "    return np.array([rddot[0],rddot[1],rdotx,rdoty])\n",
      "   \n",
      "init = np.array([initial_rdot[0],initial_rdot[1],r_vec[0],r_vec[1]])\n",
      "output = odeint(r_calc, init, np.linspace(0, time, time+1),args=(R_vec,initial_Rdot,time,gamma,M,S))  "
     ],
     "language": "python",
     "metadata": {},
     "outputs": []
    },
    {
     "cell_type": "code",
     "collapsed": false,
     "input": [],
     "language": "python",
     "metadata": {},
     "outputs": []
    },
    {
     "cell_type": "code",
     "collapsed": false,
     "input": [],
     "language": "python",
     "metadata": {},
     "outputs": [],
     "prompt_number": 143
    },
    {
     "cell_type": "code",
     "collapsed": false,
     "input": [],
     "language": "python",
     "metadata": {},
     "outputs": []
    }
   ],
   "metadata": {}
  }
 ]
}