{
 "metadata": {
  "name": "",
  "signature": "sha256:448545e2d41184eadc80083039a7b8c733183cb4bdc6f1c7c1fba477ee1cbf96"
 },
 "nbformat": 3,
 "nbformat_minor": 0,
 "worksheets": [
  {
   "cells": [
    {
     "cell_type": "heading",
     "level": 1,
     "metadata": {},
     "source": [
      "Midterm"
     ]
    },
    {
     "cell_type": "heading",
     "level": 3,
     "metadata": {},
     "source": [
      "Question 1"
     ]
    },
    {
     "cell_type": "code",
     "collapsed": false,
     "input": [
      "prefixes = 'JKLMNOPQ'\n",
      "suffix1 = 'ack'\n",
      "suffix2 = 'uack'\n",
      "for letter in prefixes:\n",
      "    if letter == 'O' or letter == 'Q':\n",
      "        print letter + suffix2\n",
      "    else:\n",
      "        print letter + suffix1 "
     ],
     "language": "python",
     "metadata": {},
     "outputs": [
      {
       "output_type": "stream",
       "stream": "stdout",
       "text": [
        "Jack\n",
        "Kack\n",
        "Lack\n",
        "Mack\n",
        "Nack\n",
        "Ouack\n",
        "Pack\n",
        "Quack\n"
       ]
      }
     ],
     "prompt_number": 5
    },
    {
     "cell_type": "heading",
     "level": 3,
     "metadata": {},
     "source": [
      "Question 2"
     ]
    },
    {
     "cell_type": "code",
     "collapsed": false,
     "input": [
      "from ipythonblocks import BlockGrid\n",
      "grid = BlockGrid(8,8,fill=(123,234,123))\n",
      "grid[:,1] = (255,0,0)\n",
      "grid[0,1:4] = (255,0,0)\n",
      "grid[3,1:4] = (255,0,0)\n",
      "grid[0:4,4] = (255,0,0)\n",
      "num = 4\n",
      "for i in range(2,6):\n",
      "    for j in range(num,8):\n",
      "        grid[j,i] = (255,0,0)\n",
      "        num += 1\n",
      "        break\n",
      "grid.show()"
     ],
     "language": "python",
     "metadata": {},
     "outputs": [
      {
       "html": [
        "<style type=\"text/css\">table.blockgrid {border: none;} .blockgrid tr {border: none;} .blockgrid td {padding: 0px;} #blocks07ceed50-98d6-4f83-9296-35e29600608d td {border: 1px solid white;}</style><table id=\"blocks07ceed50-98d6-4f83-9296-35e29600608d\" class=\"blockgrid\"><tbody><tr><td title=\"Index: [0, 0]&#10;Color: (123, 234, 123)\" style=\"width: 20px; height: 20px;background-color: rgb(123, 234, 123);\"></td><td title=\"Index: [0, 1]&#10;Color: (255, 0, 0)\" style=\"width: 20px; height: 20px;background-color: rgb(255, 0, 0);\"></td><td title=\"Index: [0, 2]&#10;Color: (255, 0, 0)\" style=\"width: 20px; height: 20px;background-color: rgb(255, 0, 0);\"></td><td title=\"Index: [0, 3]&#10;Color: (255, 0, 0)\" style=\"width: 20px; height: 20px;background-color: rgb(255, 0, 0);\"></td><td title=\"Index: [0, 4]&#10;Color: (255, 0, 0)\" style=\"width: 20px; height: 20px;background-color: rgb(255, 0, 0);\"></td><td title=\"Index: [0, 5]&#10;Color: (123, 234, 123)\" style=\"width: 20px; height: 20px;background-color: rgb(123, 234, 123);\"></td><td title=\"Index: [0, 6]&#10;Color: (123, 234, 123)\" style=\"width: 20px; height: 20px;background-color: rgb(123, 234, 123);\"></td><td title=\"Index: [0, 7]&#10;Color: (123, 234, 123)\" style=\"width: 20px; height: 20px;background-color: rgb(123, 234, 123);\"></td></tr><tr><td title=\"Index: [1, 0]&#10;Color: (123, 234, 123)\" style=\"width: 20px; height: 20px;background-color: rgb(123, 234, 123);\"></td><td title=\"Index: [1, 1]&#10;Color: (255, 0, 0)\" style=\"width: 20px; height: 20px;background-color: rgb(255, 0, 0);\"></td><td title=\"Index: [1, 2]&#10;Color: (123, 234, 123)\" style=\"width: 20px; height: 20px;background-color: rgb(123, 234, 123);\"></td><td title=\"Index: [1, 3]&#10;Color: (123, 234, 123)\" style=\"width: 20px; height: 20px;background-color: rgb(123, 234, 123);\"></td><td title=\"Index: [1, 4]&#10;Color: (255, 0, 0)\" style=\"width: 20px; height: 20px;background-color: rgb(255, 0, 0);\"></td><td title=\"Index: [1, 5]&#10;Color: (123, 234, 123)\" style=\"width: 20px; height: 20px;background-color: rgb(123, 234, 123);\"></td><td title=\"Index: [1, 6]&#10;Color: (123, 234, 123)\" style=\"width: 20px; height: 20px;background-color: rgb(123, 234, 123);\"></td><td title=\"Index: [1, 7]&#10;Color: (123, 234, 123)\" style=\"width: 20px; height: 20px;background-color: rgb(123, 234, 123);\"></td></tr><tr><td title=\"Index: [2, 0]&#10;Color: (123, 234, 123)\" style=\"width: 20px; height: 20px;background-color: rgb(123, 234, 123);\"></td><td title=\"Index: [2, 1]&#10;Color: (255, 0, 0)\" style=\"width: 20px; height: 20px;background-color: rgb(255, 0, 0);\"></td><td title=\"Index: [2, 2]&#10;Color: (123, 234, 123)\" style=\"width: 20px; height: 20px;background-color: rgb(123, 234, 123);\"></td><td title=\"Index: [2, 3]&#10;Color: (123, 234, 123)\" style=\"width: 20px; height: 20px;background-color: rgb(123, 234, 123);\"></td><td title=\"Index: [2, 4]&#10;Color: (255, 0, 0)\" style=\"width: 20px; height: 20px;background-color: rgb(255, 0, 0);\"></td><td title=\"Index: [2, 5]&#10;Color: (123, 234, 123)\" style=\"width: 20px; height: 20px;background-color: rgb(123, 234, 123);\"></td><td title=\"Index: [2, 6]&#10;Color: (123, 234, 123)\" style=\"width: 20px; height: 20px;background-color: rgb(123, 234, 123);\"></td><td title=\"Index: [2, 7]&#10;Color: (123, 234, 123)\" style=\"width: 20px; height: 20px;background-color: rgb(123, 234, 123);\"></td></tr><tr><td title=\"Index: [3, 0]&#10;Color: (123, 234, 123)\" style=\"width: 20px; height: 20px;background-color: rgb(123, 234, 123);\"></td><td title=\"Index: [3, 1]&#10;Color: (255, 0, 0)\" style=\"width: 20px; height: 20px;background-color: rgb(255, 0, 0);\"></td><td title=\"Index: [3, 2]&#10;Color: (255, 0, 0)\" style=\"width: 20px; height: 20px;background-color: rgb(255, 0, 0);\"></td><td title=\"Index: [3, 3]&#10;Color: (255, 0, 0)\" style=\"width: 20px; height: 20px;background-color: rgb(255, 0, 0);\"></td><td title=\"Index: [3, 4]&#10;Color: (255, 0, 0)\" style=\"width: 20px; height: 20px;background-color: rgb(255, 0, 0);\"></td><td title=\"Index: [3, 5]&#10;Color: (123, 234, 123)\" style=\"width: 20px; height: 20px;background-color: rgb(123, 234, 123);\"></td><td title=\"Index: [3, 6]&#10;Color: (123, 234, 123)\" style=\"width: 20px; height: 20px;background-color: rgb(123, 234, 123);\"></td><td title=\"Index: [3, 7]&#10;Color: (123, 234, 123)\" style=\"width: 20px; height: 20px;background-color: rgb(123, 234, 123);\"></td></tr><tr><td title=\"Index: [4, 0]&#10;Color: (123, 234, 123)\" style=\"width: 20px; height: 20px;background-color: rgb(123, 234, 123);\"></td><td title=\"Index: [4, 1]&#10;Color: (255, 0, 0)\" style=\"width: 20px; height: 20px;background-color: rgb(255, 0, 0);\"></td><td title=\"Index: [4, 2]&#10;Color: (255, 0, 0)\" style=\"width: 20px; height: 20px;background-color: rgb(255, 0, 0);\"></td><td title=\"Index: [4, 3]&#10;Color: (123, 234, 123)\" style=\"width: 20px; height: 20px;background-color: rgb(123, 234, 123);\"></td><td title=\"Index: [4, 4]&#10;Color: (123, 234, 123)\" style=\"width: 20px; height: 20px;background-color: rgb(123, 234, 123);\"></td><td title=\"Index: [4, 5]&#10;Color: (123, 234, 123)\" style=\"width: 20px; height: 20px;background-color: rgb(123, 234, 123);\"></td><td title=\"Index: [4, 6]&#10;Color: (123, 234, 123)\" style=\"width: 20px; height: 20px;background-color: rgb(123, 234, 123);\"></td><td title=\"Index: [4, 7]&#10;Color: (123, 234, 123)\" style=\"width: 20px; height: 20px;background-color: rgb(123, 234, 123);\"></td></tr><tr><td title=\"Index: [5, 0]&#10;Color: (123, 234, 123)\" style=\"width: 20px; height: 20px;background-color: rgb(123, 234, 123);\"></td><td title=\"Index: [5, 1]&#10;Color: (255, 0, 0)\" style=\"width: 20px; height: 20px;background-color: rgb(255, 0, 0);\"></td><td title=\"Index: [5, 2]&#10;Color: (123, 234, 123)\" style=\"width: 20px; height: 20px;background-color: rgb(123, 234, 123);\"></td><td title=\"Index: [5, 3]&#10;Color: (255, 0, 0)\" style=\"width: 20px; height: 20px;background-color: rgb(255, 0, 0);\"></td><td title=\"Index: [5, 4]&#10;Color: (123, 234, 123)\" style=\"width: 20px; height: 20px;background-color: rgb(123, 234, 123);\"></td><td title=\"Index: [5, 5]&#10;Color: (123, 234, 123)\" style=\"width: 20px; height: 20px;background-color: rgb(123, 234, 123);\"></td><td title=\"Index: [5, 6]&#10;Color: (123, 234, 123)\" style=\"width: 20px; height: 20px;background-color: rgb(123, 234, 123);\"></td><td title=\"Index: [5, 7]&#10;Color: (123, 234, 123)\" style=\"width: 20px; height: 20px;background-color: rgb(123, 234, 123);\"></td></tr><tr><td title=\"Index: [6, 0]&#10;Color: (123, 234, 123)\" style=\"width: 20px; height: 20px;background-color: rgb(123, 234, 123);\"></td><td title=\"Index: [6, 1]&#10;Color: (255, 0, 0)\" style=\"width: 20px; height: 20px;background-color: rgb(255, 0, 0);\"></td><td title=\"Index: [6, 2]&#10;Color: (123, 234, 123)\" style=\"width: 20px; height: 20px;background-color: rgb(123, 234, 123);\"></td><td title=\"Index: [6, 3]&#10;Color: (123, 234, 123)\" style=\"width: 20px; height: 20px;background-color: rgb(123, 234, 123);\"></td><td title=\"Index: [6, 4]&#10;Color: (255, 0, 0)\" style=\"width: 20px; height: 20px;background-color: rgb(255, 0, 0);\"></td><td title=\"Index: [6, 5]&#10;Color: (123, 234, 123)\" style=\"width: 20px; height: 20px;background-color: rgb(123, 234, 123);\"></td><td title=\"Index: [6, 6]&#10;Color: (123, 234, 123)\" style=\"width: 20px; height: 20px;background-color: rgb(123, 234, 123);\"></td><td title=\"Index: [6, 7]&#10;Color: (123, 234, 123)\" style=\"width: 20px; height: 20px;background-color: rgb(123, 234, 123);\"></td></tr><tr><td title=\"Index: [7, 0]&#10;Color: (123, 234, 123)\" style=\"width: 20px; height: 20px;background-color: rgb(123, 234, 123);\"></td><td title=\"Index: [7, 1]&#10;Color: (255, 0, 0)\" style=\"width: 20px; height: 20px;background-color: rgb(255, 0, 0);\"></td><td title=\"Index: [7, 2]&#10;Color: (123, 234, 123)\" style=\"width: 20px; height: 20px;background-color: rgb(123, 234, 123);\"></td><td title=\"Index: [7, 3]&#10;Color: (123, 234, 123)\" style=\"width: 20px; height: 20px;background-color: rgb(123, 234, 123);\"></td><td title=\"Index: [7, 4]&#10;Color: (123, 234, 123)\" style=\"width: 20px; height: 20px;background-color: rgb(123, 234, 123);\"></td><td title=\"Index: [7, 5]&#10;Color: (255, 0, 0)\" style=\"width: 20px; height: 20px;background-color: rgb(255, 0, 0);\"></td><td title=\"Index: [7, 6]&#10;Color: (123, 234, 123)\" style=\"width: 20px; height: 20px;background-color: rgb(123, 234, 123);\"></td><td title=\"Index: [7, 7]&#10;Color: (123, 234, 123)\" style=\"width: 20px; height: 20px;background-color: rgb(123, 234, 123);\"></td></tr></tbody></table>"
       ],
       "metadata": {},
       "output_type": "display_data",
       "text": [
        "<IPython.core.display.HTML at 0x1024c4c90>"
       ]
      }
     ],
     "prompt_number": 29
    },
    {
     "cell_type": "heading",
     "level": 3,
     "metadata": {},
     "source": [
      "Question 3"
     ]
    },
    {
     "cell_type": "code",
     "collapsed": false,
     "input": [
      "line1 = ' bottles of beer on the wall, '\n",
      "line2 = ' bottles of beer. '\n",
      "line3 = 'Take one down, pass it around, '\n",
      "line4 = ' bottes of beer on the wall.'\n",
      "\n",
      "beers = range(0,100)\n",
      "for i in reversed(beers):\n",
      "    print str(i) + line1 + str(i) + line2 + line3 + str(i-1) + line4\n"
     ],
     "language": "python",
     "metadata": {},
     "outputs": [
      {
       "output_type": "stream",
       "stream": "stdout",
       "text": [
        "99 bottles of beer on the wall, 99 bottles of beer. Take one down, pass it around, 98 bottes of beer on the wall.\n",
        "98 bottles of beer on the wall, 98 bottles of beer. Take one down, pass it around, 97 bottes of beer on the wall.\n",
        "97 bottles of beer on the wall, 97 bottles of beer. Take one down, pass it around, 96 bottes of beer on the wall.\n",
        "96 bottles of beer on the wall, 96 bottles of beer. Take one down, pass it around, 95 bottes of beer on the wall.\n",
        "95 bottles of beer on the wall, 95 bottles of beer. Take one down, pass it around, 94 bottes of beer on the wall.\n",
        "94 bottles of beer on the wall, 94 bottles of beer. Take one down, pass it around, 93 bottes of beer on the wall.\n",
        "93 bottles of beer on the wall, 93 bottles of beer. Take one down, pass it around, 92 bottes of beer on the wall.\n",
        "92 bottles of beer on the wall, 92 bottles of beer. Take one down, pass it around, 91 bottes of beer on the wall.\n",
        "91 bottles of beer on the wall, 91 bottles of beer. Take one down, pass it around, 90 bottes of beer on the wall.\n",
        "90 bottles of beer on the wall, 90 bottles of beer. Take one down, pass it around, 89 bottes of beer on the wall.\n",
        "89 bottles of beer on the wall, 89 bottles of beer. Take one down, pass it around, 88 bottes of beer on the wall.\n",
        "88 bottles of beer on the wall, 88 bottles of beer. Take one down, pass it around, 87 bottes of beer on the wall.\n",
        "87 bottles of beer on the wall, 87 bottles of beer. Take one down, pass it around, 86 bottes of beer on the wall.\n",
        "86 bottles of beer on the wall, 86 bottles of beer. Take one down, pass it around, 85 bottes of beer on the wall.\n",
        "85 bottles of beer on the wall, 85 bottles of beer. Take one down, pass it around, 84 bottes of beer on the wall.\n",
        "84 bottles of beer on the wall, 84 bottles of beer. Take one down, pass it around, 83 bottes of beer on the wall.\n",
        "83 bottles of beer on the wall, 83 bottles of beer. Take one down, pass it around, 82 bottes of beer on the wall.\n",
        "82 bottles of beer on the wall, 82 bottles of beer. Take one down, pass it around, 81 bottes of beer on the wall.\n",
        "81 bottles of beer on the wall, 81 bottles of beer. Take one down, pass it around, 80 bottes of beer on the wall.\n",
        "80 bottles of beer on the wall, 80 bottles of beer. Take one down, pass it around, 79 bottes of beer on the wall.\n",
        "79 bottles of beer on the wall, 79 bottles of beer. Take one down, pass it around, 78 bottes of beer on the wall.\n",
        "78 bottles of beer on the wall, 78 bottles of beer. Take one down, pass it around, 77 bottes of beer on the wall.\n",
        "77 bottles of beer on the wall, 77 bottles of beer. Take one down, pass it around, 76 bottes of beer on the wall.\n",
        "76 bottles of beer on the wall, 76 bottles of beer. Take one down, pass it around, 75 bottes of beer on the wall.\n",
        "75 bottles of beer on the wall, 75 bottles of beer. Take one down, pass it around, 74 bottes of beer on the wall.\n",
        "74 bottles of beer on the wall, 74 bottles of beer. Take one down, pass it around, 73 bottes of beer on the wall.\n",
        "73 bottles of beer on the wall, 73 bottles of beer. Take one down, pass it around, 72 bottes of beer on the wall.\n",
        "72 bottles of beer on the wall, 72 bottles of beer. Take one down, pass it around, 71 bottes of beer on the wall.\n",
        "71 bottles of beer on the wall, 71 bottles of beer. Take one down, pass it around, 70 bottes of beer on the wall.\n",
        "70 bottles of beer on the wall, 70 bottles of beer. Take one down, pass it around, 69 bottes of beer on the wall.\n",
        "69 bottles of beer on the wall, 69 bottles of beer. Take one down, pass it around, 68 bottes of beer on the wall.\n",
        "68 bottles of beer on the wall, 68 bottles of beer. Take one down, pass it around, 67 bottes of beer on the wall.\n",
        "67 bottles of beer on the wall, 67 bottles of beer. Take one down, pass it around, 66 bottes of beer on the wall.\n",
        "66 bottles of beer on the wall, 66 bottles of beer. Take one down, pass it around, 65 bottes of beer on the wall.\n",
        "65 bottles of beer on the wall, 65 bottles of beer. Take one down, pass it around, 64 bottes of beer on the wall.\n",
        "64 bottles of beer on the wall, 64 bottles of beer. Take one down, pass it around, 63 bottes of beer on the wall.\n",
        "63 bottles of beer on the wall, 63 bottles of beer. Take one down, pass it around, 62 bottes of beer on the wall.\n",
        "62 bottles of beer on the wall, 62 bottles of beer. Take one down, pass it around, 61 bottes of beer on the wall.\n",
        "61 bottles of beer on the wall, 61 bottles of beer. Take one down, pass it around, 60 bottes of beer on the wall.\n",
        "60 bottles of beer on the wall, 60 bottles of beer. Take one down, pass it around, 59 bottes of beer on the wall.\n",
        "59 bottles of beer on the wall, 59 bottles of beer. Take one down, pass it around, 58 bottes of beer on the wall.\n",
        "58 bottles of beer on the wall, 58 bottles of beer. Take one down, pass it around, 57 bottes of beer on the wall.\n",
        "57 bottles of beer on the wall, 57 bottles of beer. Take one down, pass it around, 56 bottes of beer on the wall.\n",
        "56 bottles of beer on the wall, 56 bottles of beer. Take one down, pass it around, 55 bottes of beer on the wall.\n",
        "55 bottles of beer on the wall, 55 bottles of beer. Take one down, pass it around, 54 bottes of beer on the wall.\n",
        "54 bottles of beer on the wall, 54 bottles of beer. Take one down, pass it around, 53 bottes of beer on the wall.\n",
        "53 bottles of beer on the wall, 53 bottles of beer. Take one down, pass it around, 52 bottes of beer on the wall.\n",
        "52 bottles of beer on the wall, 52 bottles of beer. Take one down, pass it around, 51 bottes of beer on the wall.\n",
        "51 bottles of beer on the wall, 51 bottles of beer. Take one down, pass it around, 50 bottes of beer on the wall.\n",
        "50 bottles of beer on the wall, 50 bottles of beer. Take one down, pass it around, 49 bottes of beer on the wall.\n",
        "49 bottles of beer on the wall, 49 bottles of beer. Take one down, pass it around, 48 bottes of beer on the wall.\n",
        "48 bottles of beer on the wall, 48 bottles of beer. Take one down, pass it around, 47 bottes of beer on the wall.\n",
        "47 bottles of beer on the wall, 47 bottles of beer. Take one down, pass it around, 46 bottes of beer on the wall.\n",
        "46 bottles of beer on the wall, 46 bottles of beer. Take one down, pass it around, 45 bottes of beer on the wall.\n",
        "45 bottles of beer on the wall, 45 bottles of beer. Take one down, pass it around, 44 bottes of beer on the wall.\n",
        "44 bottles of beer on the wall, 44 bottles of beer. Take one down, pass it around, 43 bottes of beer on the wall.\n",
        "43 bottles of beer on the wall, 43 bottles of beer. Take one down, pass it around, 42 bottes of beer on the wall.\n",
        "42 bottles of beer on the wall, 42 bottles of beer. Take one down, pass it around, 41 bottes of beer on the wall.\n",
        "41 bottles of beer on the wall, 41 bottles of beer. Take one down, pass it around, 40 bottes of beer on the wall.\n",
        "40 bottles of beer on the wall, 40 bottles of beer. Take one down, pass it around, 39 bottes of beer on the wall.\n",
        "39 bottles of beer on the wall, 39 bottles of beer. Take one down, pass it around, 38 bottes of beer on the wall.\n",
        "38 bottles of beer on the wall, 38 bottles of beer. Take one down, pass it around, 37 bottes of beer on the wall.\n",
        "37 bottles of beer on the wall, 37 bottles of beer. Take one down, pass it around, 36 bottes of beer on the wall.\n",
        "36 bottles of beer on the wall, 36 bottles of beer. Take one down, pass it around, 35 bottes of beer on the wall.\n",
        "35 bottles of beer on the wall, 35 bottles of beer. Take one down, pass it around, 34 bottes of beer on the wall.\n",
        "34 bottles of beer on the wall, 34 bottles of beer. Take one down, pass it around, 33 bottes of beer on the wall.\n",
        "33 bottles of beer on the wall, 33 bottles of beer. Take one down, pass it around, 32 bottes of beer on the wall.\n",
        "32 bottles of beer on the wall, 32 bottles of beer. Take one down, pass it around, 31 bottes of beer on the wall.\n",
        "31 bottles of beer on the wall, 31 bottles of beer. Take one down, pass it around, 30 bottes of beer on the wall.\n",
        "30 bottles of beer on the wall, 30 bottles of beer. Take one down, pass it around, 29 bottes of beer on the wall.\n",
        "29 bottles of beer on the wall, 29 bottles of beer. Take one down, pass it around, 28 bottes of beer on the wall.\n",
        "28 bottles of beer on the wall, 28 bottles of beer. Take one down, pass it around, 27 bottes of beer on the wall.\n",
        "27 bottles of beer on the wall, 27 bottles of beer. Take one down, pass it around, 26 bottes of beer on the wall.\n",
        "26 bottles of beer on the wall, 26 bottles of beer. Take one down, pass it around, 25 bottes of beer on the wall.\n",
        "25 bottles of beer on the wall, 25 bottles of beer. Take one down, pass it around, 24 bottes of beer on the wall.\n",
        "24 bottles of beer on the wall, 24 bottles of beer. Take one down, pass it around, 23 bottes of beer on the wall.\n",
        "23 bottles of beer on the wall, 23 bottles of beer. Take one down, pass it around, 22 bottes of beer on the wall.\n",
        "22 bottles of beer on the wall, 22 bottles of beer. Take one down, pass it around, 21 bottes of beer on the wall.\n",
        "21 bottles of beer on the wall, 21 bottles of beer. Take one down, pass it around, 20 bottes of beer on the wall.\n",
        "20 bottles of beer on the wall, 20 bottles of beer. Take one down, pass it around, 19 bottes of beer on the wall.\n",
        "19 bottles of beer on the wall, 19 bottles of beer. Take one down, pass it around, 18 bottes of beer on the wall.\n",
        "18 bottles of beer on the wall, 18 bottles of beer. Take one down, pass it around, 17 bottes of beer on the wall.\n",
        "17 bottles of beer on the wall, 17 bottles of beer. Take one down, pass it around, 16 bottes of beer on the wall.\n",
        "16 bottles of beer on the wall, 16 bottles of beer. Take one down, pass it around, 15 bottes of beer on the wall.\n",
        "15 bottles of beer on the wall, 15 bottles of beer. Take one down, pass it around, 14 bottes of beer on the wall.\n",
        "14 bottles of beer on the wall, 14 bottles of beer. Take one down, pass it around, 13 bottes of beer on the wall.\n",
        "13 bottles of beer on the wall, 13 bottles of beer. Take one down, pass it around, 12 bottes of beer on the wall.\n",
        "12 bottles of beer on the wall, 12 bottles of beer. Take one down, pass it around, 11 bottes of beer on the wall.\n",
        "11 bottles of beer on the wall, 11 bottles of beer. Take one down, pass it around, 10 bottes of beer on the wall.\n",
        "10 bottles of beer on the wall, 10 bottles of beer. Take one down, pass it around, 9 bottes of beer on the wall.\n",
        "9 bottles of beer on the wall, 9 bottles of beer. Take one down, pass it around, 8 bottes of beer on the wall.\n",
        "8 bottles of beer on the wall, 8 bottles of beer. Take one down, pass it around, 7 bottes of beer on the wall.\n",
        "7 bottles of beer on the wall, 7 bottles of beer. Take one down, pass it around, 6 bottes of beer on the wall.\n",
        "6 bottles of beer on the wall, 6 bottles of beer. Take one down, pass it around, 5 bottes of beer on the wall.\n",
        "5 bottles of beer on the wall, 5 bottles of beer. Take one down, pass it around, 4 bottes of beer on the wall.\n",
        "4 bottles of beer on the wall, 4 bottles of beer. Take one down, pass it around, 3 bottes of beer on the wall.\n",
        "3 bottles of beer on the wall, 3 bottles of beer. Take one down, pass it around, 2 bottes of beer on the wall.\n",
        "2 bottles of beer on the wall, 2 bottles of beer. Take one down, pass it around, 1 bottes of beer on the wall.\n",
        "1 bottles of beer on the wall, 1 bottles of beer. Take one down, pass it around, 0 bottes of beer on the wall.\n",
        "0 bottles of beer on the wall, 0 bottles of beer. Take one down, pass it around, -1 bottes of beer on the wall.\n"
       ]
      }
     ],
     "prompt_number": 49
    },
    {
     "cell_type": "heading",
     "level": 3,
     "metadata": {},
     "source": [
      "Question 4"
     ]
    },
    {
     "cell_type": "code",
     "collapsed": false,
     "input": [
      "%pylab inline\n",
      "x = np.linspace(0,3,31)\n",
      "y = np.sin(x)\n",
      "plt.plot(x,y,color='r',label=\"sine of x\")\n",
      "plt.plot(x,y,'d',markersize=7,color='g')\n",
      "plt.xlim(-1.0,4.0)\n",
      "plt.ylim(-0.1,1.1)\n",
      "plt.xlabel('x',size=15)\n",
      "plt.ylabel('y',size=15)\n",
      "plt.legend(loc='upper left',fontsize=15)\n",
      "plt.grid()\n",
      "plt.show()\n"
     ],
     "language": "python",
     "metadata": {},
     "outputs": [
      {
       "output_type": "stream",
       "stream": "stdout",
       "text": [
        "Populating the interactive namespace from numpy and matplotlib\n"
       ]
      },
      {
       "metadata": {},
       "output_type": "display_data",
       "png": "[encoded data removed]",
       "text": [
        "<matplotlib.figure.Figure at 0x106a728d0>"
       ]
      }
     ],
     "prompt_number": 69
    },
    {
     "cell_type": "heading",
     "level": 3,
     "metadata": {},
     "source": [
      "Question 5"
     ]
    },
    {
     "cell_type": "code",
     "collapsed": false,
     "input": [
      "arr = np.empty([100,5],dtype=float)\n",
      "for i in range(100):\n",
      "    for j in range(5):\n",
      "        arr[i,j] = random.uniform(10.7,36.2)\n",
      "datetime = !date        \n",
      "myheader = \"\\n\" + str(datetime) + \"\\n\"       \n",
      "savetxt('numbers.txt',arr,delimiter=\"  \",fmt='%5.3f',header=myheader)   \n",
      "!head -13 numbers.txt\n",
      "\n",
      "arr2 = np.loadtxt('numbers.txt')\n",
      "print arr2[:10,:]"
     ],
     "language": "python",
     "metadata": {},
     "outputs": [
      {
       "output_type": "stream",
       "stream": "stdout",
       "text": [
        "# \r\n",
        "# ['Tue Apr 29 15:19:05 PDT 2014']\r\n",
        "# \r\n",
        "23.949  20.733  33.190  22.295  18.939\r\n",
        "30.220  17.341  10.834  29.187  31.287\r\n",
        "11.088  21.055  22.006  23.803  12.178\r\n",
        "35.235  34.276  12.823  13.832  21.084\r\n",
        "28.426  31.625  12.181  21.929  19.114\r\n",
        "19.981  29.006  17.474  35.718  32.811\r\n",
        "31.690  18.433  17.406  31.274  29.104\r\n",
        "33.568  22.648  31.357  35.694  33.818\r\n",
        "15.788  11.517  30.999  22.475  33.103\r\n",
        "34.207  25.234  14.674  23.654  30.804\r\n"
       ]
      },
      {
       "output_type": "stream",
       "stream": "stdout",
       "text": [
        "[[ 23.949  20.733  33.19   22.295  18.939]\n",
        " [ 30.22   17.341  10.834  29.187  31.287]\n",
        " [ 11.088  21.055  22.006  23.803  12.178]\n",
        " [ 35.235  34.276  12.823  13.832  21.084]\n",
        " [ 28.426  31.625  12.181  21.929  19.114]\n",
        " [ 19.981  29.006  17.474  35.718  32.811]\n",
        " [ 31.69   18.433  17.406  31.274  29.104]\n",
        " [ 33.568  22.648  31.357  35.694  33.818]\n",
        " [ 15.788  11.517  30.999  22.475  33.103]\n",
        " [ 34.207  25.234  14.674  23.654  30.804]]\n"
       ]
      }
     ],
     "prompt_number": 105
    },
    {
     "cell_type": "code",
     "collapsed": false,
     "input": [],
     "language": "python",
     "metadata": {},
     "outputs": []
    }
   ],
   "metadata": {}
  }
 ]
}