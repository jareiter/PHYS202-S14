{
 "metadata": {
  "name": "",
  "signature": "sha256:a665d5ab00bc37bd5ae21f9a5a2a7555e03d0dc5f93e972fd2a6f471c58dc145"
 },
 "nbformat": 3,
 "nbformat_minor": 0,
 "worksheets": [
  {
   "cells": [
    {
     "cell_type": "heading",
     "level": 1,
     "metadata": {},
     "source": [
      "Number Letter Counts"
     ]
    },
    {
     "cell_type": "heading",
     "level": 4,
     "metadata": {},
     "source": [
      "Problem 17"
     ]
    },
    {
     "cell_type": "markdown",
     "metadata": {},
     "source": [
      "If the numbers 1 to 5 are written out in words: one, two, three, four, five, then there are 3 + 3 + 5 + 4 + 4 = 19 letters used in total.\n",
      "\n",
      "If all the numbers from 1 to 1000 (one thousand) inclusive were written out in words, how many letters would be used?\n",
      "\n",
      "\n",
      "NOTE: Do not count spaces or hyphens. For example, 342 (three hundred and forty-two) contains 23 letters and 115 (one hundred and fifteen) contains 20 letters. The use of \"and\" when writing out numbers is in compliance with British usage."
     ]
    },
    {
     "cell_type": "code",
     "collapsed": false,
     "input": [
      "import numpy as np\n",
      "def letter_count(num_min,num_max):\n",
      "    total = 0\n",
      "    for i in np.arange(num_min,num_max+1):\n",
      "        numbers = np.zeros(4)\n",
      "        numbers_str = str(i)\n",
      "        index = 3\n",
      "        for j in numbers_str[-1]:\n",
      "            numbers[index] = j\n",
      "            index -= 1\n",
      "        if numbers[0] > 0:\n",
      "            total += 11\n",
      "        if numbers[1] > 0:\n",
      "            total += 7\n",
      "            if numbers[1] == 1:\n",
      "                total += 3\n",
      "            if numbers[1] == 2:\n",
      "                total += 3\n",
      "            if numbers[1] == 3:\n",
      "                total += 5\n",
      "            if numbers[1] == 4:\n",
      "                total += 4\n",
      "            if numbers[1] == 5:\n",
      "                total += 4\n",
      "            if numbers[1] == 6:\n",
      "                total += 3\n",
      "            if numbers[1] == 7:\n",
      "                total += 5\n",
      "            if numbers[1] == 8:\n",
      "                total += 5\n",
      "            if numbers[1] == 9:\n",
      "                total += 4    \n",
      "        if numbers[2] > 0:\n",
      "            total += 3\n",
      "            if numbers[2] == 1:\n",
      "                if numbers[3] == 0:\n",
      "                    total += 3\n",
      "                if numbers[3] == 1:\n",
      "                    total += 6\n",
      "                if numbers[3] == 2:\n",
      "                    total += 6\n",
      "                if numbers[3] == 3:\n",
      "                    total += 8\n",
      "                if numbers[3] == 4:\n",
      "                    total += 8\n",
      "                if numbers[3] == 5:\n",
      "                    total += 7\n",
      "                if numbers[3] == 6:\n",
      "                    total += 7\n",
      "                if numbers[3] == 7:\n",
      "                    total += 9\n",
      "                if numbers[3] == 8:\n",
      "                    total += 8 \n",
      "                if numbers[3] == 9:\n",
      "                    total += 8\n",
      "            if numbers[1] == 2:\n",
      "                total += 6\n",
      "            if numbers[1] == 3:\n",
      "                total += 6\n",
      "            if numbers[1] == 4:\n",
      "                total += 5\n",
      "            if numbers[1] == 5:\n",
      "                total += 5\n",
      "            if numbers[1] == 6:\n",
      "                total += 5\n",
      "            if numbers[1] == 7:\n",
      "                total += 7\n",
      "            if numbers[1] == 8:\n",
      "                total += 6\n",
      "            if numbers[1] == 9:\n",
      "                total += 6 \n",
      "        if numbers[3] > 0 and numbers[2] > 1:\n",
      "            if numbers[3] == 1:\n",
      "                total += 3\n",
      "            if numbers[3] == 2:\n",
      "                total += 3\n",
      "            if numbers[3] == 3:\n",
      "                total += 5\n",
      "            if numbers[3] == 4:\n",
      "                total += 4\n",
      "            if numbers[3] == 5:\n",
      "                total += 4\n",
      "            if numbers[3] == 6:\n",
      "                total += 3\n",
      "            if numbers[3] == 7:\n",
      "                total += 5\n",
      "            if numbers[3] == 8:\n",
      "                total += 5\n",
      "            if numbers[3] == 9:\n",
      "                total += 4  \n",
      "        if numbers[3] > 0 and numbers[2] == 0 and numbers[1] > 0:\n",
      "            total += 3\n",
      "            if numbers[3] == 1:\n",
      "                total += 3\n",
      "            if numbers[3] == 2:\n",
      "                total += 3\n",
      "            if numbers[3] == 3:\n",
      "                total += 5\n",
      "            if numbers[3] == 4:\n",
      "                total += 4\n",
      "            if numbers[3] == 5:\n",
      "                total += 4\n",
      "            if numbers[3] == 6:\n",
      "                total += 3\n",
      "            if numbers[3] == 7:\n",
      "                total += 5\n",
      "            if numbers[3] == 8:\n",
      "                total += 5\n",
      "            if numbers[3] == 9:\n",
      "                total += 4     \n",
      "        if numbers[3] > 0 and numbers[2] == 0 and numbers[1] == 0:\n",
      "            if numbers[3] == 1:\n",
      "                total += 3\n",
      "            if numbers[3] == 2:\n",
      "                total += 3\n",
      "            if numbers[3] == 3:\n",
      "                total += 5\n",
      "            if numbers[3] == 4:\n",
      "                total += 4\n",
      "            if numbers[3] == 5:\n",
      "                total += 4\n",
      "            if numbers[3] == 6:\n",
      "                total += 3\n",
      "            if numbers[3] == 7:\n",
      "                total += 5\n",
      "            if numbers[3] == 8:\n",
      "                total += 5\n",
      "            if numbers[3] == 9:\n",
      "                total += 4                 \n",
      "    return total"
     ],
     "language": "python",
     "metadata": {},
     "outputs": [],
     "prompt_number": 31
    },
    {
     "cell_type": "code",
     "collapsed": false,
     "input": [
      "letter_count(1,5)"
     ],
     "language": "python",
     "metadata": {},
     "outputs": [
      {
       "metadata": {},
       "output_type": "pyout",
       "prompt_number": 32,
       "text": [
        "19"
       ]
      }
     ],
     "prompt_number": 32
    },
    {
     "cell_type": "code",
     "collapsed": false,
     "input": [
      "letter_count(1,1000)"
     ],
     "language": "python",
     "metadata": {},
     "outputs": [
      {
       "metadata": {},
       "output_type": "pyout",
       "prompt_number": 33,
       "text": [
        "3600"
       ]
      }
     ],
     "prompt_number": 33
    },
    {
     "cell_type": "code",
     "collapsed": false,
     "input": [],
     "language": "python",
     "metadata": {},
     "outputs": []
    }
   ],
   "metadata": {}
  }
 ]
}