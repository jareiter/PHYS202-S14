{
 "metadata": {
  "name": "",
  "signature": "sha256:49b1253e0846ff95900c10690b718887bc0675c7e1cd86f283ab3ec037b5e6a1"
 },
 "nbformat": 3,
 "nbformat_minor": 0,
 "worksheets": [
  {
   "cells": [
    {
     "cell_type": "heading",
     "level": 1,
     "metadata": {},
     "source": [
      "Number Letter Counts"
     ]
    },
    {
     "cell_type": "heading",
     "level": 4,
     "metadata": {},
     "source": [
      "Problem 17"
     ]
    },
    {
     "cell_type": "markdown",
     "metadata": {},
     "source": [
      "If the numbers 1 to 5 are written out in words: one, two, three, four, five, then there are 3 + 3 + 5 + 4 + 4 = 19 letters used in total.\n",
      "\n",
      "If all the numbers from 1 to 1000 (one thousand) inclusive were written out in words, how many letters would be used?\n",
      "\n",
      "\n",
      "NOTE: Do not count spaces or hyphens. For example, 342 (three hundred and forty-two) contains 23 letters and 115 (one hundred and fifteen) contains 20 letters. The use of \"and\" when writing out numbers is in compliance with British usage."
     ]
    },
    {
     "cell_type": "code",
     "collapsed": false,
     "input": [
      "number = {1:'one',2:'two',3:'three',4:'four',5:'five',6:'six',7:'seven',8:'eight',9:'nine',10:'ten',11:'eleven',12:'twelve',13:'thirteen',\n",
      "    14:'fourteen',15:'fifteen',16:'sixteen',17:'seventeen',18:'eighteen',19:'nineteen',20:'twenty',30:'thirty',40:'forty',\n",
      "    50:'fifty',60:'sixty',70:'seventy',80:'eighty',90:'ninety',100:'hundred',1000:'thousand'}\n",
      " \n",
      "total = 0\n",
      "for i in range(1,1001):\n",
      "    x = str(i)    \n",
      "    if len(str(i)) == 1:\n",
      "        new_total = len(number[i])\n",
      "         \n",
      "    elif len(str(i)) == 2:\n",
      "        x1 = x[0]\n",
      "        x2 = x[1]\n",
      "        if i < 20:\n",
      "            new_total = len(number[i])\n",
      "        else:\n",
      "            if x2 == '0':\n",
      "                new_total = len(number[i])\n",
      "            else: \n",
      "                x1_new = str(x1 + '0')\n",
      "                new_total = len(number[int(x1_new)]) + len(number[int(x2)])               \n",
      "                 \n",
      "    elif len(str(i)) == 3:\n",
      "        x1 = x[0]\n",
      "        x2 = x[1]\n",
      "        x3 = x[2]\n",
      "        x1_new = str(x2 + '0')\n",
      "        x1_new1 = str(x2 + x3)\n",
      "        if x1 == '1' and x2 == '0' and x3 == '0':\n",
      "            new_total = len(number[1]) + len(number[100])\n",
      "        elif x2 == '0' and x3 == '0':\n",
      "            new_total = len(number[int(x1)]) + len(number[100])\n",
      "        elif x2 == '0' and x3 != '0':\n",
      "            new_total = 3 + len(number[int(x1)]) + len(number[100]) + len(number[int(x3)])\n",
      "        elif x2 != '0' and x3 == '0':\n",
      "            new_total = 3 + len(number[int(x1)]) + len(number[100]) + len(number[int(x1_new)])\n",
      "        elif x2 == '1' and x3 != '0':\n",
      "            new_total = 3 + len(number[int(x1)]) + len(number[100]) + len(number[int(x1_new1)])\n",
      "        else:\n",
      "            new_total = 3 + len(number[int(x1)]) + len(number[100]) + len(number[int(x1_new)]) + len(number[int(x3)])\n",
      "             \n",
      "    else:\n",
      "        new_total = len(number[1]) + len(number[1000])\n",
      " \n",
      "    total = total + new_total\n",
      "print total"
     ],
     "language": "python",
     "metadata": {},
     "outputs": [
      {
       "output_type": "stream",
       "stream": "stdout",
       "text": [
        "21124\n"
       ]
      }
     ],
     "prompt_number": 27
    },
    {
     "cell_type": "code",
     "collapsed": false,
     "input": [],
     "language": "python",
     "metadata": {},
     "outputs": []
    }
   ],
   "metadata": {}
  }
 ]
}