{
 "metadata": {
  "name": "",
  "signature": "sha256:a081b691cbd21904c9bc386d772bba71f4082618f3fb5d0efaf631931a6912d9"
 },
 "nbformat": 3,
 "nbformat_minor": 0,
 "worksheets": [
  {
   "cells": [
    {
     "cell_type": "heading",
     "level": 1,
     "metadata": {},
     "source": [
      "Counting Sundays"
     ]
    },
    {
     "cell_type": "heading",
     "level": 4,
     "metadata": {},
     "source": [
      "Problem 19"
     ]
    },
    {
     "cell_type": "markdown",
     "metadata": {},
     "source": [
      "You are given the following information, but you may prefer to do some research for yourself.\n",
      "\n",
      "1 Jan 1900 was a Monday.\n",
      "\n",
      "Thirty days has September,\n",
      "April, June and November.\n",
      "All the rest have thirty-one,\n",
      "Saving February alone,\n",
      "Which has twenty-eight, rain or shine.\n",
      "And on leap years, twenty-nine.\n",
      "\n",
      "A leap year occurs on any year evenly divisible by 4, but not on a century unless it is divisible by 400.\n",
      "\n",
      "How many Sundays fell on the first of the month during the twentieth century (1 Jan 1901 to 31 Dec 2000)?"
     ]
    },
    {
     "cell_type": "code",
     "collapsed": false,
     "input": [
      "total = 0\n",
      "count = 1\n",
      "\n",
      "for i in range(1,101):\n",
      "    for j in range(1,13):\n",
      "        if j == 1:\n",
      "            num = 31\n",
      "        if j == 2 and ((i+1900)%4) == 0:\n",
      "            num = 29\n",
      "        if j == 2 and ((i+1900)%4) != 0:\n",
      "            num = 28\n",
      "        if j == 3:\n",
      "            num = 31\n",
      "        if j == 4: \n",
      "            num = 30\n",
      "        if j == 5:\n",
      "            num = 31\n",
      "        if j == 6:\n",
      "            num = 30\n",
      "        if j == 7:\n",
      "            num = 31\n",
      "        if j == 8:\n",
      "            num = 31\n",
      "        if j == 9:\n",
      "            num = 30\n",
      "        if j == 10:\n",
      "            num = 31\n",
      "        if j == 11:\n",
      "            num = 30\n",
      "        if j == 12:\n",
      "            num = 31\n",
      "        day = num%7   \n",
      "        total += day\n",
      "        if total == 7:\n",
      "            count += 1\n",
      "        if total > 7:\n",
      "            total -= 7\n",
      "print count\n",
      "            "
     ],
     "language": "python",
     "metadata": {},
     "outputs": [
      {
       "output_type": "stream",
       "stream": "stdout",
       "text": [
        "171\n"
       ]
      }
     ],
     "prompt_number": 5
    }
   ],
   "metadata": {}
  }
 ]
}